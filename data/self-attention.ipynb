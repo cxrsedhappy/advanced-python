{
 "cells": [
  {
   "cell_type": "code",
   "execution_count": 1,
   "metadata": {
    "collapsed": true,
    "ExecuteTime": {
     "start_time": "2024-03-08T03:38:58.446702Z",
     "end_time": "2024-03-08T03:38:58.452688Z"
    }
   },
   "outputs": [],
   "source": [
    "import numpy as np"
   ]
  },
  {
   "cell_type": "code",
   "execution_count": 2,
   "outputs": [],
   "source": [
    "L, d_k, d_v = 4, 8, 8\n",
    "q = np.random.randn(L, d_k)\n",
    "k = np.random.randn(L, d_k)\n",
    "v = np.random.randn(L, d_v)"
   ],
   "metadata": {
    "collapsed": false,
    "ExecuteTime": {
     "start_time": "2024-03-08T03:39:52.069064Z",
     "end_time": "2024-03-08T03:39:52.151514Z"
    }
   }
  },
  {
   "cell_type": "code",
   "execution_count": 3,
   "outputs": [
    {
     "name": "stdout",
     "output_type": "stream",
     "text": [
      "Q\n",
      "[[ 1.81007476e+00  5.79714443e-01  1.76340488e+00 -1.36508567e+00\n",
      "  -6.16563287e-01  2.25550782e-01  6.97932570e-01  4.53068254e-01]\n",
      " [ 4.40413862e-01  1.41182465e+00  1.12179795e+00  2.55940040e+00\n",
      "  -6.11930195e-01 -1.29197911e+00  4.35326619e-01  5.87760655e-01]\n",
      " [ 1.37479398e-01  4.75943855e-01  1.70270553e-01 -2.99509648e-01\n",
      "  -9.17416007e-01  3.41058826e-02  1.35763200e-01  7.02759309e-04]\n",
      " [-1.02789839e+00 -1.25648099e+00 -2.10596641e+00  8.53510939e-03\n",
      "  -1.08815736e+00  2.73482192e-01 -2.95768431e-01 -1.63643952e+00]]\n",
      "K\n",
      "[[ 0.23806166  0.81478651  0.1867359  -0.23954279 -0.43809154  0.71938587\n",
      "   0.32942035 -0.7737555 ]\n",
      " [ 1.30796644  0.28949965  0.46690281 -0.79771644 -0.23239687  1.46718916\n",
      "   0.96671762  1.31305307]\n",
      " [-1.02961989  0.32733656  1.25499661 -1.8275007   0.46145633  0.21470431\n",
      "   1.32039387  0.97140891]\n",
      " [ 0.02289806  0.28978226  0.05236321  0.60885248  0.7258343   1.19419763\n",
      "  -0.34371495 -1.39029048]]\n",
      "V\n",
      "[[ 1.37933415 -0.10749346 -1.57829697  1.22250701 -1.18933662 -0.12370067\n",
      "  -0.05942792  0.01060972]\n",
      " [ 0.54468678 -0.53192255  1.23574198  0.74925662  1.13870571 -0.97623452\n",
      "   0.78443512 -0.56074629]\n",
      " [ 1.40081018 -0.98695558 -1.63482941 -0.2853146   2.19379866 -0.50182036\n",
      "  -1.28638489  0.56610012]\n",
      " [-0.33421679 -2.49514739  0.72026225 -1.29216577 -1.27453968  0.08956356\n",
      "  -1.52588433  0.22899812]]\n"
     ]
    }
   ],
   "source": [
    "print(f'Q\\n{q}')\n",
    "print(f'K\\n{k}')\n",
    "print(f'V\\n{v}')"
   ],
   "metadata": {
    "collapsed": false,
    "ExecuteTime": {
     "start_time": "2024-03-08T03:40:41.771527Z",
     "end_time": "2024-03-08T03:40:41.793706Z"
    }
   }
  },
  {
   "cell_type": "markdown",
   "source": [
    "# Self Attention"
   ],
   "metadata": {
    "collapsed": false
   }
  },
  {
   "cell_type": "code",
   "execution_count": 5,
   "outputs": [
    {
     "data": {
      "text/plain": "array([[ 1.8712587 ,  6.19145356,  4.15940504, -1.57731701],\n       [-0.12115231, -1.09390409, -2.67478445, -0.91758004],\n       [ 0.99468909,  1.03143942,  0.53920418, -0.70517691],\n       [ 0.17845267, -4.47881966, -4.43512822,  1.42083484]])"
     },
     "execution_count": 5,
     "metadata": {},
     "output_type": "execute_result"
    }
   ],
   "source": [
    "np.matmul(q, k.T)"
   ],
   "metadata": {
    "collapsed": false,
    "ExecuteTime": {
     "start_time": "2024-03-08T03:42:04.702766Z",
     "end_time": "2024-03-08T03:42:04.720487Z"
    }
   }
  },
  {
   "cell_type": "code",
   "execution_count": 6,
   "outputs": [
    {
     "data": {
      "text/plain": "(1.0807309759803259, 0.6559745871143683, 7.21530915931742)"
     },
     "execution_count": 6,
     "metadata": {},
     "output_type": "execute_result"
    }
   ],
   "source": [
    "q.var(), k.var(), np.matmul(q, k.T).var()"
   ],
   "metadata": {
    "collapsed": false,
    "ExecuteTime": {
     "start_time": "2024-03-08T03:43:05.259844Z",
     "end_time": "2024-03-08T03:43:05.301208Z"
    }
   }
  },
  {
   "cell_type": "code",
   "execution_count": 9,
   "outputs": [
    {
     "data": {
      "text/plain": "array([[ 0.66158986,  2.1890094 ,  1.47057175, -0.55766578],\n       [-0.04283381, -0.3867535 , -0.94567911, -0.32441353],\n       [ 0.3516757 ,  0.3646689 ,  0.19063747, -0.24931769],\n       [ 0.06309255, -1.58350188, -1.56805462,  0.50234097]])"
     },
     "execution_count": 9,
     "metadata": {},
     "output_type": "execute_result"
    }
   ],
   "source": [
    "scaled = np.matmul(q, k.T) / np.sqrt(d_k)\n",
    "scaled"
   ],
   "metadata": {
    "collapsed": false,
    "ExecuteTime": {
     "start_time": "2024-03-08T03:44:16.607478Z",
     "end_time": "2024-03-08T03:44:16.615434Z"
    }
   }
  },
  {
   "cell_type": "markdown",
   "source": [
    "# Masking"
   ],
   "metadata": {
    "collapsed": false
   }
  },
  {
   "cell_type": "code",
   "execution_count": 10,
   "outputs": [
    {
     "name": "stdout",
     "output_type": "stream",
     "text": [
      "[[1. 0. 0. 0.]\n",
      " [1. 1. 0. 0.]\n",
      " [1. 1. 1. 0.]\n",
      " [1. 1. 1. 1.]]\n",
      "[[  0. -inf -inf -inf]\n",
      " [  0.   0. -inf -inf]\n",
      " [  0.   0.   0. -inf]\n",
      " [  0.   0.   0.   0.]]\n"
     ]
    }
   ],
   "source": [
    "mask = np.tril(np.ones((L, L)))\n",
    "print(mask)\n",
    "mask[mask == 0] = -np.infty\n",
    "mask[mask == 1] = 0\n",
    "print(mask)"
   ],
   "metadata": {
    "collapsed": false,
    "ExecuteTime": {
     "start_time": "2024-03-08T03:46:35.241292Z",
     "end_time": "2024-03-08T03:46:35.255647Z"
    }
   }
  },
  {
   "cell_type": "code",
   "execution_count": 11,
   "outputs": [
    {
     "data": {
      "text/plain": "array([[ 0.66158986,        -inf,        -inf,        -inf],\n       [-0.04283381, -0.3867535 ,        -inf,        -inf],\n       [ 0.3516757 ,  0.3646689 ,  0.19063747,        -inf],\n       [ 0.06309255, -1.58350188, -1.56805462,  0.50234097]])"
     },
     "execution_count": 11,
     "metadata": {},
     "output_type": "execute_result"
    }
   ],
   "source": [
    "scaled + mask"
   ],
   "metadata": {
    "collapsed": false,
    "ExecuteTime": {
     "start_time": "2024-03-08T03:47:03.807127Z",
     "end_time": "2024-03-08T03:47:03.833057Z"
    }
   }
  },
  {
   "cell_type": "code",
   "execution_count": 17,
   "outputs": [],
   "source": [
    "def softmax(x):\n",
    "    return (np.exp(x).T / np.sum(np.exp(x), axis=-1)).T"
   ],
   "metadata": {
    "collapsed": false,
    "ExecuteTime": {
     "start_time": "2024-03-08T03:52:45.445967Z",
     "end_time": "2024-03-08T03:52:45.456943Z"
    }
   }
  },
  {
   "cell_type": "code",
   "execution_count": 20,
   "outputs": [
    {
     "data": {
      "text/plain": "array([[1.        , 0.        , 0.        , 0.        ],\n       [0.58514235, 0.41485765, 0.        , 0.        ],\n       [0.34912087, 0.35368667, 0.29719247, 0.        ],\n       [0.34014176, 0.06554704, 0.06656742, 0.52774378]])"
     },
     "execution_count": 20,
     "metadata": {},
     "output_type": "execute_result"
    }
   ],
   "source": [
    "attention = softmax(scaled + mask)\n",
    "attention"
   ],
   "metadata": {
    "collapsed": false,
    "ExecuteTime": {
     "start_time": "2024-03-08T03:53:02.338323Z",
     "end_time": "2024-03-08T03:53:02.357302Z"
    }
   }
  },
  {
   "cell_type": "code",
   "execution_count": 21,
   "outputs": [
    {
     "data": {
      "text/plain": "array([[ 1.37933415, -0.10749346, -1.57829697,  1.22250701, -1.18933662,\n        -0.12370067, -0.05942792,  0.01060972],\n       [ 1.0330743 , -0.28357112, -0.41087137,  1.02617547, -0.22353044,\n        -0.47738086,  0.29065512, -0.22642169],\n       [ 1.09051302, -0.51897789, -0.59980993,  0.60701144,  0.63950322,\n        -0.53760485, -0.12560718, -0.02638372],\n       [ 0.42173924, -1.45392657, -0.18455794, -0.23598787, -0.85649913,\n        -0.09220333, -0.85970381,  0.12538971]])"
     },
     "execution_count": 21,
     "metadata": {},
     "output_type": "execute_result"
    }
   ],
   "source": [
    "new_v = np.matmul(attention, v)\n",
    "new_v"
   ],
   "metadata": {
    "collapsed": false,
    "ExecuteTime": {
     "start_time": "2024-03-08T03:53:50.684907Z",
     "end_time": "2024-03-08T03:53:50.711007Z"
    }
   }
  },
  {
   "cell_type": "code",
   "execution_count": 23,
   "outputs": [],
   "source": [
    "def softmax(x):\n",
    "    return (np.exp(x).T / np.sum(np.exp(x), axis=-1)).T\n",
    "\n",
    "def scaled_dot_prodict_attention(q, k, v, mask=None):\n",
    "    d_k = q.shape[-1]\n",
    "    scaled = np.matmul(q, k.T) / np.sqrt(d_k)\n",
    "    if mask is not None:\n",
    "        scaled = scaled + mask\n",
    "    attention = softmax(scaled)\n",
    "    output = np.matmul(attention, v)\n",
    "    return output, attention"
   ],
   "metadata": {
    "collapsed": false,
    "ExecuteTime": {
     "start_time": "2024-03-08T03:59:23.257177Z",
     "end_time": "2024-03-08T03:59:23.292088Z"
    }
   }
  },
  {
   "cell_type": "code",
   "execution_count": 26,
   "outputs": [
    {
     "name": "stdout",
     "output_type": "stream",
     "text": [
      "Q\n",
      "[[ 1.81007476e+00  5.79714443e-01  1.76340488e+00 -1.36508567e+00\n",
      "  -6.16563287e-01  2.25550782e-01  6.97932570e-01  4.53068254e-01]\n",
      " [ 4.40413862e-01  1.41182465e+00  1.12179795e+00  2.55940040e+00\n",
      "  -6.11930195e-01 -1.29197911e+00  4.35326619e-01  5.87760655e-01]\n",
      " [ 1.37479398e-01  4.75943855e-01  1.70270553e-01 -2.99509648e-01\n",
      "  -9.17416007e-01  3.41058826e-02  1.35763200e-01  7.02759309e-04]\n",
      " [-1.02789839e+00 -1.25648099e+00 -2.10596641e+00  8.53510939e-03\n",
      "  -1.08815736e+00  2.73482192e-01 -2.95768431e-01 -1.63643952e+00]]\n",
      "K\n",
      "[[ 0.23806166  0.81478651  0.1867359  -0.23954279 -0.43809154  0.71938587\n",
      "   0.32942035 -0.7737555 ]\n",
      " [ 1.30796644  0.28949965  0.46690281 -0.79771644 -0.23239687  1.46718916\n",
      "   0.96671762  1.31305307]\n",
      " [-1.02961989  0.32733656  1.25499661 -1.8275007   0.46145633  0.21470431\n",
      "   1.32039387  0.97140891]\n",
      " [ 0.02289806  0.28978226  0.05236321  0.60885248  0.7258343   1.19419763\n",
      "  -0.34371495 -1.39029048]]\n",
      "V\n",
      "[[ 1.37933415 -0.10749346 -1.57829697  1.22250701 -1.18933662 -0.12370067\n",
      "  -0.05942792  0.01060972]\n",
      " [ 0.54468678 -0.53192255  1.23574198  0.74925662  1.13870571 -0.97623452\n",
      "   0.78443512 -0.56074629]\n",
      " [ 1.40081018 -0.98695558 -1.63482941 -0.2853146   2.19379866 -0.50182036\n",
      "  -1.28638489  0.56610012]\n",
      " [-0.33421679 -2.49514739  0.72026225 -1.29216577 -1.27453968  0.08956356\n",
      "  -1.52588433  0.22899812]]\n",
      "New V\n",
      "[[ 1.37933415 -0.10749346 -1.57829697  1.22250701 -1.18933662 -0.12370067\n",
      "  -0.05942792  0.01060972]\n",
      " [ 1.0330743  -0.28357112 -0.41087137  1.02617547 -0.22353044 -0.47738086\n",
      "   0.29065512 -0.22642169]\n",
      " [ 1.09051302 -0.51897789 -0.59980993  0.60701144  0.63950322 -0.53760485\n",
      "  -0.12560718 -0.02638372]\n",
      " [ 0.42173924 -1.45392657 -0.18455794 -0.23598787 -0.85649913 -0.09220333\n",
      "  -0.85970381  0.12538971]]\n",
      "Attention\n",
      "[[1.         0.         0.         0.        ]\n",
      " [0.58514235 0.41485765 0.         0.        ]\n",
      " [0.34912087 0.35368667 0.29719247 0.        ]\n",
      " [0.34014176 0.06554704 0.06656742 0.52774378]]\n"
     ]
    }
   ],
   "source": [
    "values, attention = scaled_dot_prodict_attention(q, k, v, mask=mask)\n",
    "print(f'Q\\n{q}')\n",
    "print(f'K\\n{k}')\n",
    "print(f'V\\n{v}')\n",
    "print(f'New V\\n{values}')\n",
    "print(f'Attention\\n{attention}')"
   ],
   "metadata": {
    "collapsed": false,
    "ExecuteTime": {
     "start_time": "2024-03-08T04:00:54.261981Z",
     "end_time": "2024-03-08T04:00:54.279662Z"
    }
   }
  },
  {
   "cell_type": "code",
   "execution_count": null,
   "outputs": [],
   "source": [],
   "metadata": {
    "collapsed": false
   }
  }
 ],
 "metadata": {
  "kernelspec": {
   "display_name": "Python 3",
   "language": "python",
   "name": "python3"
  },
  "language_info": {
   "codemirror_mode": {
    "name": "ipython",
    "version": 2
   },
   "file_extension": ".py",
   "mimetype": "text/x-python",
   "name": "python",
   "nbconvert_exporter": "python",
   "pygments_lexer": "ipython2",
   "version": "2.7.6"
  }
 },
 "nbformat": 4,
 "nbformat_minor": 0
}
