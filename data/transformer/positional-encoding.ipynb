{
 "cells": [
  {
   "cell_type": "code",
   "execution_count": null,
   "metadata": {
    "collapsed": true,
    "ExecuteTime": {
     "start_time": "2024-03-23T18:35:20.396968Z",
     "end_time": "2024-03-23T18:35:20.423894Z"
    }
   },
   "outputs": [],
   "source": [
    "import torch\n",
    "import torch.nn as nn\n",
    "\n",
    "max_sequence_length = 10\n",
    "d_model = 6"
   ]
  },
  {
   "cell_type": "markdown",
   "source": [
    "\\begin(equation)\n",
    "PE(pos, 2i) = sin(pos/10000^(2i/d))\n",
    "\\end(equation)"
   ],
   "metadata": {
    "collapsed": false
   }
  },
  {
   "cell_type": "code",
   "execution_count": null,
   "outputs": [],
   "source": [
    "even_i = torch.arange(0, d_model, 2).float()\n",
    "print(even_i)\n",
    "even_denominator = torch.pow(10000, even_i/d_model)\n",
    "print(even_denominator)"
   ],
   "metadata": {
    "collapsed": false,
    "ExecuteTime": {
     "start_time": "2024-03-23T18:35:20.428881Z",
     "end_time": "2024-03-23T18:35:20.460669Z"
    }
   }
  },
  {
   "cell_type": "code",
   "execution_count": null,
   "outputs": [],
   "source": [
    "odd_i = torch.arange(1, d_model, 2).float()\n",
    "print(odd_i)\n",
    "odd_denominator = torch.pow(10000, (odd_i - 1)/d_model)\n",
    "print(odd_denominator)"
   ],
   "metadata": {
    "collapsed": false,
    "ExecuteTime": {
     "start_time": "2024-03-23T18:35:20.444712Z",
     "end_time": "2024-03-23T18:35:20.475651Z"
    }
   }
  },
  {
   "cell_type": "code",
   "execution_count": null,
   "outputs": [],
   "source": [
    "denomination = even_denominator\n",
    "position = torch.arange(max_sequence_length, dtype=torch.float).reshape(max_sequence_length, 1)\n",
    "print(position)"
   ],
   "metadata": {
    "collapsed": false,
    "ExecuteTime": {
     "start_time": "2024-03-23T18:35:20.474653Z",
     "end_time": "2024-03-23T18:35:20.549233Z"
    }
   }
  },
  {
   "cell_type": "code",
   "execution_count": null,
   "outputs": [],
   "source": [
    "e_PE = torch.sin(position / denomination)\n",
    "o_PE = torch.cos(position / denomination)\n",
    "print(e_PE)\n",
    "print(o_PE)"
   ],
   "metadata": {
    "collapsed": false,
    "ExecuteTime": {
     "start_time": "2024-03-23T18:36:36.572623Z",
     "end_time": "2024-03-23T18:36:36.609916Z"
    }
   }
  },
  {
   "cell_type": "code",
   "execution_count": null,
   "outputs": [],
   "source": [
    "stacked = torch.stack([e_PE, o_PE], dim=2)\n",
    "stacked"
   ],
   "metadata": {
    "collapsed": false,
    "ExecuteTime": {
     "start_time": "2024-03-23T18:38:05.969414Z",
     "end_time": "2024-03-23T18:38:06.002375Z"
    }
   }
  },
  {
   "cell_type": "code",
   "execution_count": 18,
   "outputs": [
    {
     "data": {
      "text/plain": "tensor([[ 0.0000,  1.0000,  0.0000,  1.0000,  0.0000,  1.0000],\n        [ 0.8415,  0.5403,  0.0464,  0.9989,  0.0022,  1.0000],\n        [ 0.9093, -0.4161,  0.0927,  0.9957,  0.0043,  1.0000],\n        [ 0.1411, -0.9900,  0.1388,  0.9903,  0.0065,  1.0000],\n        [-0.7568, -0.6536,  0.1846,  0.9828,  0.0086,  1.0000],\n        [-0.9589,  0.2837,  0.2300,  0.9732,  0.0108,  0.9999],\n        [-0.2794,  0.9602,  0.2749,  0.9615,  0.0129,  0.9999],\n        [ 0.6570,  0.7539,  0.3192,  0.9477,  0.0151,  0.9999],\n        [ 0.9894, -0.1455,  0.3629,  0.9318,  0.0172,  0.9999],\n        [ 0.4121, -0.9111,  0.4057,  0.9140,  0.0194,  0.9998]])"
     },
     "execution_count": 18,
     "metadata": {},
     "output_type": "execute_result"
    }
   ],
   "source": [
    "PE = torch.flatten(stacked, start_dim=1, end_dim=2)\n",
    "PE"
   ],
   "metadata": {
    "collapsed": false,
    "ExecuteTime": {
     "start_time": "2024-03-23T18:47:39.525573Z",
     "end_time": "2024-03-23T18:47:39.537694Z"
    }
   }
  },
  {
   "cell_type": "markdown",
   "source": [
    "Positional Encoding Final Class"
   ],
   "metadata": {
    "collapsed": false
   }
  },
  {
   "cell_type": "code",
   "execution_count": 19,
   "outputs": [
    {
     "data": {
      "text/plain": "tensor([[ 0.0000,  1.0000,  0.0000,  1.0000,  0.0000,  1.0000],\n        [ 0.8415,  0.5403,  0.0464,  0.9989,  0.0022,  1.0000],\n        [ 0.9093, -0.4161,  0.0927,  0.9957,  0.0043,  1.0000],\n        [ 0.1411, -0.9900,  0.1388,  0.9903,  0.0065,  1.0000],\n        [-0.7568, -0.6536,  0.1846,  0.9828,  0.0086,  1.0000],\n        [-0.9589,  0.2837,  0.2300,  0.9732,  0.0108,  0.9999],\n        [-0.2794,  0.9602,  0.2749,  0.9615,  0.0129,  0.9999],\n        [ 0.6570,  0.7539,  0.3192,  0.9477,  0.0151,  0.9999],\n        [ 0.9894, -0.1455,  0.3629,  0.9318,  0.0172,  0.9999],\n        [ 0.4121, -0.9111,  0.4057,  0.9140,  0.0194,  0.9998]])"
     },
     "execution_count": 19,
     "metadata": {},
     "output_type": "execute_result"
    }
   ],
   "source": [
    "class PositionalEncoding(nn.Module):\n",
    "    def __init__(self, d_model, max_sequence_length):\n",
    "        super().__init__()\n",
    "        self.max_sequence_length = max_sequence_length\n",
    "        self.d_model = d_model\n",
    "\n",
    "    def forward(self):\n",
    "        ei = torch.arange(0, self.d_model, 2).float()\n",
    "        denominator = torch.pow(10000, ei/self.d_model)\n",
    "        pos = torch.arange(self.max_sequence_length, dtype=torch.float)\\\n",
    "            .reshape(self.max_sequence_length, 1)\n",
    "        e_pe = torch.sin(pos / denominator)\n",
    "        o_pe = torch.cos(pos / denominator)\n",
    "        stack = torch.stack([e_pe, o_pe], dim=2)\n",
    "        positional_encode = torch.flatten(stack, start_dim=1, end_dim=2)\n",
    "        return positional_encode\n",
    "\n",
    "pe = PositionalEncoding(d_model=6, max_sequence_length=10)\n",
    "pe.forward()"
   ],
   "metadata": {
    "collapsed": false,
    "ExecuteTime": {
     "start_time": "2024-03-23T18:48:33.187971Z",
     "end_time": "2024-03-23T18:48:33.200300Z"
    }
   }
  },
  {
   "cell_type": "code",
   "execution_count": null,
   "outputs": [],
   "source": [],
   "metadata": {
    "collapsed": false
   }
  }
 ],
 "metadata": {
  "kernelspec": {
   "display_name": "Python 3",
   "language": "python",
   "name": "python3"
  },
  "language_info": {
   "codemirror_mode": {
    "name": "ipython",
    "version": 2
   },
   "file_extension": ".py",
   "mimetype": "text/x-python",
   "name": "python",
   "nbconvert_exporter": "python",
   "pygments_lexer": "ipython2",
   "version": "2.7.6"
  }
 },
 "nbformat": 4,
 "nbformat_minor": 0
}
