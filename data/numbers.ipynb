{
 "cells": [
  {
   "cell_type": "markdown",
   "metadata": {},
   "source": [
    "Numpy basics"
   ]
  },
  {
   "cell_type": "code",
   "execution_count": 1,
   "metadata": {
    "ExecuteTime": {
     "end_time": "2024-03-02T01:04:28.422669Z",
     "start_time": "2024-03-02T01:04:27.644159Z"
    }
   },
   "outputs": [],
   "source": [
    "import numpy as np"
   ]
  },
  {
   "cell_type": "markdown",
   "metadata": {},
   "source": [
    "Using numpy"
   ]
  },
  {
   "cell_type": "code",
   "execution_count": 4,
   "metadata": {
    "ExecuteTime": {
     "start_time": "2024-03-02T01:11:40.356682Z",
     "end_time": "2024-03-02T01:11:40.362665Z"
    }
   },
   "outputs": [
    {
     "name": "stdout",
     "output_type": "stream",
     "text": [
      "[1 2 3]\n"
     ]
    }
   ],
   "source": [
    "a = np.array([1, 2, 3], dtype='int8')\n",
    "print(a)"
   ]
  },
  {
   "cell_type": "code",
   "execution_count": 26,
   "outputs": [
    {
     "name": "stdout",
     "output_type": "stream",
     "text": [
      "[[ 4  3]\n",
      " [ 5  6]\n",
      " [ 7 11]]\n",
      "[[ 2  5 -1]\n",
      " [ 3  5 -2]]\n",
      "[[ 17  35 -10]\n",
      " [ 28  55 -17]\n",
      " [ 47  90 -29]]\n"
     ]
    }
   ],
   "source": [
    "b = np.array([\n",
    "    [4, 3],\n",
    "    [5, 6],\n",
    "    [7, 11]\n",
    "], dtype='int8')\n",
    "b_1 = np.array([\n",
    "    [2, 5, -1],\n",
    "    [3, 5, -2],\n",
    "], dtype='int8')\n",
    "print(b)\n",
    "print(b_1)\n",
    "print(b.dot(b_1))"
   ],
   "metadata": {
    "collapsed": false,
    "ExecuteTime": {
     "start_time": "2024-03-02T01:31:10.979949Z",
     "end_time": "2024-03-02T01:31:10.989668Z"
    }
   }
  },
  {
   "cell_type": "code",
   "execution_count": 27,
   "outputs": [
    {
     "data": {
      "text/plain": "array([[[[ 30,  36,  42],\n         [ 30,  36,  42],\n         [ 30,  36,  42]],\n\n        [[ 66,  81,  96],\n         [ 66,  81,  96],\n         [ 66,  81,  96]],\n\n        [[102, 126, 150],\n         [102, 126, 150],\n         [102, 126, 150]]],\n\n\n       [[[ 30,  36,  42],\n         [ 30,  36,  42],\n         [ 30,  36,  42]],\n\n        [[ 66,  81,  96],\n         [ 66,  81,  96],\n         [ 66,  81,  96]],\n\n        [[102, 126, 150],\n         [102, 126, 150],\n         [102, 126, 150]]],\n\n\n       [[[ 30,  36,  42],\n         [ 30,  36,  42],\n         [ 30,  36,  42]],\n\n        [[ 66,  81,  96],\n         [ 66,  81,  96],\n         [ 66,  81,  96]],\n\n        [[102, 126, 150],\n         [102, 126, 150],\n         [102, 126, 150]]]], dtype=uint8)"
     },
     "execution_count": 27,
     "metadata": {},
     "output_type": "execute_result"
    }
   ],
   "source": [
    "c = np.array([\n",
    "    [[1, 2, 3], [4, 5, 6], [7, 8, 9]],\n",
    "    [[1, 2, 3], [4, 5, 6], [7, 8, 9]],\n",
    "    [[1, 2, 3], [4, 5, 6], [7, 8, 9]]\n",
    "], dtype='uint8')\n",
    "c_1 = np.array([\n",
    "    [[1, 2, 3], [4, 5, 6], [7, 8, 9]],\n",
    "    [[1, 2, 3], [4, 5, 6], [7, 8, 9]],\n",
    "    [[1, 2, 3], [4, 5, 6], [7, 8, 9]]\n",
    "], dtype='uint8')\n",
    "c.dot(c_1)"
   ],
   "metadata": {
    "collapsed": false,
    "ExecuteTime": {
     "start_time": "2024-03-02T01:36:01.627027Z",
     "end_time": "2024-03-02T01:36:01.636826Z"
    }
   }
  },
  {
   "cell_type": "code",
   "execution_count": null,
   "outputs": [],
   "source": [],
   "metadata": {
    "collapsed": false
   }
  }
 ],
 "metadata": {
  "kernelspec": {
   "display_name": "Python 3 (ipykernel)",
   "language": "python",
   "name": "python3"
  },
  "language_info": {
   "codemirror_mode": {
    "name": "ipython",
    "version": 3
   },
   "file_extension": ".py",
   "mimetype": "text/x-python",
   "name": "python",
   "nbconvert_exporter": "python",
   "pygments_lexer": "ipython3",
   "version": "3.11.3"
  }
 },
 "nbformat": 4,
 "nbformat_minor": 4
}
