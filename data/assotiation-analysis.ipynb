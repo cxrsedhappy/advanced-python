{
 "cells": [
  {
   "cell_type": "code",
   "execution_count": null,
   "id": "initial_id",
   "metadata": {
    "collapsed": true,
    "ExecuteTime": {
     "start_time": "2024-02-28T02:43:29.616179Z",
     "end_time": "2024-02-28T02:43:29.801682Z"
    },
    "pycharm": {
     "is_executing": true
    }
   },
   "outputs": [],
   "source": [
    "import pandas as pd"
   ]
  },
  {
   "cell_type": "code",
   "execution_count": null,
   "outputs": [],
   "source": [
    "data = pd.read_csv('csv/online_retail.csv')\n",
    "data.head()"
   ],
   "metadata": {
    "collapsed": false,
    "ExecuteTime": {
     "start_time": "2024-02-28T02:43:29.670034Z",
     "end_time": "2024-02-28T02:43:30.620392Z"
    }
   },
   "id": "c11a7784f2b0f37"
  },
  {
   "cell_type": "markdown",
   "source": [
    "Уникальные значения товаров"
   ],
   "metadata": {
    "collapsed": false
   }
  },
  {
   "cell_type": "code",
   "execution_count": null,
   "outputs": [],
   "source": [
    "data['Description'].value_counts()"
   ],
   "metadata": {
    "collapsed": false,
    "ExecuteTime": {
     "start_time": "2024-02-28T02:43:30.620392Z",
     "end_time": "2024-02-28T02:43:30.785346Z"
    }
   },
   "id": "c66f22067d9c7b22"
  },
  {
   "cell_type": "markdown",
   "source": [
    "## Очистка данных\n",
    "На данном этапе нужно очистить данные чтобы с ними было возможно работать. Проверим значение цены.\n",
    "Все данные, которые не имеют или имеют отрицательную цену должны быть очищены"
   ],
   "metadata": {
    "collapsed": false
   }
  },
  {
   "cell_type": "code",
   "execution_count": null,
   "outputs": [],
   "source": [
    "data.loc[data['UnitPrice'] <= 0]"
   ],
   "metadata": {
    "collapsed": false,
    "ExecuteTime": {
     "start_time": "2024-02-28T02:43:30.703489Z",
     "end_time": "2024-02-28T02:43:30.786345Z"
    }
   },
   "id": "b5264512ca2ee5de"
  },
  {
   "cell_type": "code",
   "execution_count": null,
   "outputs": [],
   "source": [
    "data = data[data['UnitPrice'] > 0]"
   ],
   "metadata": {
    "collapsed": false,
    "ExecuteTime": {
     "start_time": "2024-02-28T02:43:30.742461Z",
     "end_time": "2024-02-28T02:43:30.879095Z"
    }
   },
   "id": "d319e1f30eb83dc9"
  },
  {
   "cell_type": "code",
   "execution_count": null,
   "outputs": [],
   "source": [
    "data[data['UnitPrice'] < 0]"
   ],
   "metadata": {
    "collapsed": false,
    "ExecuteTime": {
     "start_time": "2024-02-28T02:43:30.829231Z",
     "end_time": "2024-02-28T02:43:30.890067Z"
    }
   },
   "id": "9d39a24d443b701a"
  },
  {
   "cell_type": "markdown",
   "source": [
    "Добавим колонку с куплей/продажей"
   ],
   "metadata": {
    "collapsed": false
   }
  },
  {
   "cell_type": "code",
   "execution_count": null,
   "outputs": [],
   "source": [
    "data['Transaction'] = data['Quantity'].apply(lambda x: 'Sold' if x < 0 else 'Bought')\n",
    "data['Transaction'].value_counts()"
   ],
   "metadata": {
    "collapsed": false,
    "ExecuteTime": {
     "start_time": "2024-02-28T02:43:30.845188Z",
     "end_time": "2024-02-28T02:43:31.104820Z"
    }
   },
   "id": "ad386151cf4a6ec8"
  },
  {
   "cell_type": "markdown",
   "source": [
    "## Топ 10 покупателей по числу проданных товаров"
   ],
   "metadata": {
    "collapsed": false
   }
  },
  {
   "cell_type": "code",
   "execution_count": null,
   "outputs": [],
   "source": [
    "customer_totals = data.groupby('CustomerID')['Quantity'].sum()\n",
    "sorted_totals = customer_totals.sort_values(ascending=False)\n",
    "top_customers = sorted_totals.head(10)\n",
    "top_customers"
   ],
   "metadata": {
    "collapsed": false,
    "ExecuteTime": {
     "start_time": "2024-02-28T02:43:31.001319Z",
     "end_time": "2024-02-28T02:43:31.120777Z"
    }
   },
   "id": "a77f14e0bcbf568f"
  },
  {
   "cell_type": "code",
   "execution_count": null,
   "outputs": [],
   "source": [
    "data['InvoiceDate'] = pd.to_datetime(data['InvoiceDate'])\n",
    "data['Date'] = data['InvoiceDate'].dt.date\n",
    "data['Time'] = data['InvoiceDate'].dt.strftime('%H:%M:%S')\n",
    "data"
   ],
   "metadata": {
    "collapsed": false,
    "ExecuteTime": {
     "start_time": "2024-02-28T02:43:31.058942Z",
     "end_time": "2024-02-28T02:43:35.711309Z"
    }
   },
   "id": "cdec4ca6358c309f"
  },
  {
   "cell_type": "code",
   "execution_count": null,
   "outputs": [],
   "source": [
    "# Create new column with time interval labels\n",
    "time = data['InvoiceDate'].dt.hour\n",
    "data['Time of Day'] = [\n",
    "    'Early Morning' if x < 6 else\n",
    "    'Morning' if x < 12 else\n",
    "    'Noon' if x < 14 else\n",
    "    'Afternoon' if x < 18 else\n",
    "    'Evening' if x < 22 else 'Night' for x in time]\n",
    "data"
   ],
   "metadata": {
    "collapsed": false,
    "ExecuteTime": {
     "start_time": "2024-02-28T02:43:35.712306Z",
     "end_time": "2024-02-28T02:43:35.913283Z"
    }
   },
   "id": "53620ef9761781ab"
  },
  {
   "cell_type": "code",
   "execution_count": null,
   "outputs": [],
   "source": [
    "import seaborn as sns\n",
    "sns.countplot(data, x='Time of Day')"
   ],
   "metadata": {
    "collapsed": false,
    "ExecuteTime": {
     "start_time": "2024-02-28T02:43:35.917274Z",
     "end_time": "2024-02-28T02:43:37.274338Z"
    }
   },
   "id": "c0e281cd2136a4de"
  },
  {
   "cell_type": "markdown",
   "source": [
    "# Assosiations (Market bucket analysis)"
   ],
   "metadata": {
    "collapsed": false
   }
  },
  {
   "cell_type": "code",
   "execution_count": null,
   "outputs": [],
   "source": [
    "import pandas as pd"
   ],
   "metadata": {
    "collapsed": false,
    "ExecuteTime": {
     "start_time": "2024-03-17T18:59:16.765064Z",
     "end_time": "2024-03-17T18:59:16.792709Z"
    }
   }
  },
  {
   "cell_type": "code",
   "execution_count": null,
   "outputs": [],
   "source": [
    "df = pd.read_csv('csv/groceries_dataset.csv')\n",
    "df.head()"
   ],
   "metadata": {
    "collapsed": false,
    "ExecuteTime": {
     "start_time": "2024-03-17T18:59:17.557335Z",
     "end_time": "2024-03-17T18:59:17.606203Z"
    }
   },
   "id": "65a7793b3498641b"
  },
  {
   "cell_type": "code",
   "execution_count": null,
   "outputs": [],
   "source": [
    "df['transaction'] = df['Member_number'].astype(str) + '_' + df['Date'].astype(str)\n",
    "df"
   ],
   "metadata": {
    "collapsed": false,
    "ExecuteTime": {
     "start_time": "2024-03-17T18:59:18.534422Z",
     "end_time": "2024-03-17T18:59:18.540430Z"
    }
   }
  },
  {
   "cell_type": "code",
   "execution_count": null,
   "outputs": [],
   "source": [
    "df2 = pd.crosstab(df['transaction'], df['itemDescription'])\n",
    "df2.head()"
   ],
   "metadata": {
    "collapsed": false,
    "ExecuteTime": {
     "start_time": "2024-03-17T18:59:19.425322Z",
     "end_time": "2024-03-17T18:59:20.033294Z"
    }
   }
  },
  {
   "cell_type": "code",
   "execution_count": null,
   "outputs": [],
   "source": [
    "def encode(item_freq):\n",
    "    res = False\n",
    "    if item_freq > 0:\n",
    "        res = True\n",
    "    return res\n",
    "\n",
    "basket_input = df2.applymap(encode)\n",
    "basket_input"
   ],
   "metadata": {
    "collapsed": false,
    "ExecuteTime": {
     "start_time": "2024-03-17T18:59:20.841039Z",
     "end_time": "2024-03-17T18:59:21.352626Z"
    }
   }
  },
  {
   "cell_type": "markdown",
   "source": [
    "## Apriori"
   ],
   "metadata": {
    "collapsed": false
   }
  },
  {
   "cell_type": "code",
   "execution_count": null,
   "outputs": [],
   "source": [
    "from mlxtend.frequent_patterns import apriori, fpgrowth\n",
    "from mlxtend.frequent_patterns import association_rules\n",
    "\n",
    "apriori_items = apriori(basket_input, min_support=0.004, use_colnames=True)\n",
    "apriori_rules = association_rules(apriori_items, metric=\"lift\")"
   ],
   "metadata": {
    "collapsed": false,
    "ExecuteTime": {
     "start_time": "2024-03-17T19:00:44.614688Z",
     "end_time": "2024-03-17T19:00:44.876861Z"
    }
   }
  },
  {
   "cell_type": "code",
   "execution_count": null,
   "outputs": [],
   "source": [
    "apriori_rules.sort_values([\"support\", \"confidence\", \"lift\"], ascending=False).head(8)"
   ],
   "metadata": {
    "collapsed": false,
    "ExecuteTime": {
     "start_time": "2024-03-17T19:00:45.542566Z",
     "end_time": "2024-03-17T19:00:45.583687Z"
    }
   }
  },
  {
   "cell_type": "markdown",
   "source": [
    "## FPGrowth"
   ],
   "metadata": {
    "collapsed": false
   }
  },
  {
   "cell_type": "code",
   "execution_count": null,
   "outputs": [],
   "source": [
    "fpgrowth_items: pd.DataFrame = fpgrowth(basket_input, min_support=0.001, use_colnames=True, max_len=5, verbose=True)\n",
    "fpgrowth_items = fpgrowth_items[fpgrowth_items.itemsets.map(len) > 2]"
   ],
   "metadata": {
    "collapsed": false,
    "ExecuteTime": {
     "start_time": "2024-03-17T19:00:48.773395Z",
     "end_time": "2024-03-17T19:00:48.919354Z"
    }
   }
  },
  {
   "cell_type": "code",
   "execution_count": null,
   "outputs": [],
   "source": [
    "fpgrowth_items.sort_values(\"support\", ascending=False).head(8)"
   ],
   "metadata": {
    "collapsed": false,
    "ExecuteTime": {
     "start_time": "2024-03-17T19:01:43.298592Z",
     "end_time": "2024-03-17T19:01:43.328512Z"
    }
   }
  }
 ],
 "metadata": {
  "kernelspec": {
   "display_name": "Python 3",
   "language": "python",
   "name": "python3"
  },
  "language_info": {
   "codemirror_mode": {
    "name": "ipython",
    "version": 2
   },
   "file_extension": ".py",
   "mimetype": "text/x-python",
   "name": "python",
   "nbconvert_exporter": "python",
   "pygments_lexer": "ipython2",
   "version": "2.7.6"
  }
 },
 "nbformat": 4,
 "nbformat_minor": 5
}
