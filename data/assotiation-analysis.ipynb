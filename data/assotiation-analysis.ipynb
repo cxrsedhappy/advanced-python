{
 "cells": [
  {
   "cell_type": "code",
   "execution_count": null,
   "id": "initial_id",
   "metadata": {
    "collapsed": true,
    "ExecuteTime": {
     "start_time": "2024-02-28T02:43:29.616179Z",
     "end_time": "2024-02-28T02:43:29.801682Z"
    },
    "pycharm": {
     "is_executing": true
    }
   },
   "outputs": [],
   "source": [
    "import pandas as pd\n",
    "import numpy as np\n",
    "import matplotlib.pyplot as plt"
   ]
  },
  {
   "cell_type": "markdown",
   "source": [
    "Определить предметную область\n",
    "Сгенерировать набор данных\n",
    "Найти правила\n",
    "Поддержка (support)\n",
    "Уверенность (confidence)\n",
    "Лифт (lift)\n",
    "Рычаг (leverage)\n",
    "Убежденность (conv)"
   ],
   "metadata": {
    "collapsed": false
   },
   "id": "aa7bde6da51d265d"
  },
  {
   "cell_type": "code",
   "execution_count": 19,
   "outputs": [
    {
     "data": {
      "text/plain": "  InvoiceNo StockCode                          Description  Quantity  \\\n0    536365    85123A   WHITE HANGING HEART T-LIGHT HOLDER         6   \n1    536365     71053                  WHITE METAL LANTERN         6   \n2    536365    84406B       CREAM CUPID HEARTS COAT HANGER         8   \n3    536365    84029G  KNITTED UNION FLAG HOT WATER BOTTLE         6   \n4    536365    84029E       RED WOOLLY HOTTIE WHITE HEART.         6   \n\n           InvoiceDate  UnitPrice  CustomerID         Country  \n0  2010-12-01 08:26:00       2.55       17850  United Kingdom  \n1  2010-12-01 08:26:00       3.39       17850  United Kingdom  \n2  2010-12-01 08:26:00       2.75       17850  United Kingdom  \n3  2010-12-01 08:26:00       3.39       17850  United Kingdom  \n4  2010-12-01 08:26:00       3.39       17850  United Kingdom  ",
      "text/html": "<div>\n<style scoped>\n    .dataframe tbody tr th:only-of-type {\n        vertical-align: middle;\n    }\n\n    .dataframe tbody tr th {\n        vertical-align: top;\n    }\n\n    .dataframe thead th {\n        text-align: right;\n    }\n</style>\n<table border=\"1\" class=\"dataframe\">\n  <thead>\n    <tr style=\"text-align: right;\">\n      <th></th>\n      <th>InvoiceNo</th>\n      <th>StockCode</th>\n      <th>Description</th>\n      <th>Quantity</th>\n      <th>InvoiceDate</th>\n      <th>UnitPrice</th>\n      <th>CustomerID</th>\n      <th>Country</th>\n    </tr>\n  </thead>\n  <tbody>\n    <tr>\n      <th>0</th>\n      <td>536365</td>\n      <td>85123A</td>\n      <td>WHITE HANGING HEART T-LIGHT HOLDER</td>\n      <td>6</td>\n      <td>2010-12-01 08:26:00</td>\n      <td>2.55</td>\n      <td>17850</td>\n      <td>United Kingdom</td>\n    </tr>\n    <tr>\n      <th>1</th>\n      <td>536365</td>\n      <td>71053</td>\n      <td>WHITE METAL LANTERN</td>\n      <td>6</td>\n      <td>2010-12-01 08:26:00</td>\n      <td>3.39</td>\n      <td>17850</td>\n      <td>United Kingdom</td>\n    </tr>\n    <tr>\n      <th>2</th>\n      <td>536365</td>\n      <td>84406B</td>\n      <td>CREAM CUPID HEARTS COAT HANGER</td>\n      <td>8</td>\n      <td>2010-12-01 08:26:00</td>\n      <td>2.75</td>\n      <td>17850</td>\n      <td>United Kingdom</td>\n    </tr>\n    <tr>\n      <th>3</th>\n      <td>536365</td>\n      <td>84029G</td>\n      <td>KNITTED UNION FLAG HOT WATER BOTTLE</td>\n      <td>6</td>\n      <td>2010-12-01 08:26:00</td>\n      <td>3.39</td>\n      <td>17850</td>\n      <td>United Kingdom</td>\n    </tr>\n    <tr>\n      <th>4</th>\n      <td>536365</td>\n      <td>84029E</td>\n      <td>RED WOOLLY HOTTIE WHITE HEART.</td>\n      <td>6</td>\n      <td>2010-12-01 08:26:00</td>\n      <td>3.39</td>\n      <td>17850</td>\n      <td>United Kingdom</td>\n    </tr>\n  </tbody>\n</table>\n</div>"
     },
     "execution_count": 19,
     "metadata": {},
     "output_type": "execute_result"
    }
   ],
   "source": [
    "data = pd.read_csv('csv/online_retail.csv')\n",
    "data.head()"
   ],
   "metadata": {
    "collapsed": false,
    "ExecuteTime": {
     "start_time": "2024-02-28T02:43:29.670034Z",
     "end_time": "2024-02-28T02:43:30.620392Z"
    }
   },
   "id": "c11a7784f2b0f37"
  },
  {
   "cell_type": "markdown",
   "source": [
    "Уникальные значения товаров"
   ],
   "metadata": {
    "collapsed": false
   }
  },
  {
   "cell_type": "code",
   "execution_count": 20,
   "outputs": [
    {
     "data": {
      "text/plain": "Description\nWHITE HANGING HEART T-LIGHT HOLDER     2369\nREGENCY CAKESTAND 3 TIER               2200\nJUMBO BAG RED RETROSPOT                2159\nPARTY BUNTING                          1727\nLUNCH BAG RED RETROSPOT                1638\n                                       ... \nMissing                                   1\nhistoric computer difference?....se       1\nDUSTY PINK CHRISTMAS TREE 30CM            1\nWRAP BLUE RUSSIAN FOLKART                 1\nPINK BERTIE MOBILE PHONE CHARM            1\nName: count, Length: 4223, dtype: int64"
     },
     "execution_count": 20,
     "metadata": {},
     "output_type": "execute_result"
    }
   ],
   "source": [
    "data['Description'].value_counts()"
   ],
   "metadata": {
    "collapsed": false,
    "ExecuteTime": {
     "start_time": "2024-02-28T02:43:30.620392Z",
     "end_time": "2024-02-28T02:43:30.785346Z"
    }
   },
   "id": "c66f22067d9c7b22"
  },
  {
   "cell_type": "markdown",
   "source": [
    "# Очистка данных\n",
    "На данном этапе нужно очистить данные чтобы с ними было возможно работать. Проверим значение цены.\n",
    "Все данные, которые не имеют или имеют отрицательную цену должны быть очищены"
   ],
   "metadata": {
    "collapsed": false
   }
  },
  {
   "cell_type": "code",
   "execution_count": 21,
   "outputs": [
    {
     "data": {
      "text/plain": "       InvoiceNo StockCode                   Description  Quantity  \\\n622       536414     22139                           NaN        56   \n1970      536545     21134                           NaN         1   \n1971      536546     22145                           NaN         1   \n1972      536547     37509                           NaN         1   \n1987      536549    85226A                           NaN         1   \n...          ...       ...                           ...       ...   \n536981    581234     72817                           NaN        27   \n538504    581406    46000M  POLYESTER FILLER PAD 45x45cm       240   \n538505    581406    46000S  POLYESTER FILLER PAD 40x40cm       300   \n538554    581408     85175                           NaN        20   \n538919    581422     23169                       smashed      -235   \n\n                InvoiceDate  UnitPrice  CustomerID         Country  \n622     2010-12-01 11:52:00        0.0       15287  United Kingdom  \n1970    2010-12-01 14:32:00        0.0       15287  United Kingdom  \n1971    2010-12-01 14:33:00        0.0       15287  United Kingdom  \n1972    2010-12-01 14:33:00        0.0       15287  United Kingdom  \n1987    2010-12-01 14:34:00        0.0       15287  United Kingdom  \n...                     ...        ...         ...             ...  \n536981  2011-12-08 10:33:00        0.0       15287  United Kingdom  \n538504  2011-12-08 13:58:00        0.0       15287  United Kingdom  \n538505  2011-12-08 13:58:00        0.0       15287  United Kingdom  \n538554  2011-12-08 14:06:00        0.0       15287  United Kingdom  \n538919  2011-12-08 15:24:00        0.0       15287  United Kingdom  \n\n[2517 rows x 8 columns]",
      "text/html": "<div>\n<style scoped>\n    .dataframe tbody tr th:only-of-type {\n        vertical-align: middle;\n    }\n\n    .dataframe tbody tr th {\n        vertical-align: top;\n    }\n\n    .dataframe thead th {\n        text-align: right;\n    }\n</style>\n<table border=\"1\" class=\"dataframe\">\n  <thead>\n    <tr style=\"text-align: right;\">\n      <th></th>\n      <th>InvoiceNo</th>\n      <th>StockCode</th>\n      <th>Description</th>\n      <th>Quantity</th>\n      <th>InvoiceDate</th>\n      <th>UnitPrice</th>\n      <th>CustomerID</th>\n      <th>Country</th>\n    </tr>\n  </thead>\n  <tbody>\n    <tr>\n      <th>622</th>\n      <td>536414</td>\n      <td>22139</td>\n      <td>NaN</td>\n      <td>56</td>\n      <td>2010-12-01 11:52:00</td>\n      <td>0.0</td>\n      <td>15287</td>\n      <td>United Kingdom</td>\n    </tr>\n    <tr>\n      <th>1970</th>\n      <td>536545</td>\n      <td>21134</td>\n      <td>NaN</td>\n      <td>1</td>\n      <td>2010-12-01 14:32:00</td>\n      <td>0.0</td>\n      <td>15287</td>\n      <td>United Kingdom</td>\n    </tr>\n    <tr>\n      <th>1971</th>\n      <td>536546</td>\n      <td>22145</td>\n      <td>NaN</td>\n      <td>1</td>\n      <td>2010-12-01 14:33:00</td>\n      <td>0.0</td>\n      <td>15287</td>\n      <td>United Kingdom</td>\n    </tr>\n    <tr>\n      <th>1972</th>\n      <td>536547</td>\n      <td>37509</td>\n      <td>NaN</td>\n      <td>1</td>\n      <td>2010-12-01 14:33:00</td>\n      <td>0.0</td>\n      <td>15287</td>\n      <td>United Kingdom</td>\n    </tr>\n    <tr>\n      <th>1987</th>\n      <td>536549</td>\n      <td>85226A</td>\n      <td>NaN</td>\n      <td>1</td>\n      <td>2010-12-01 14:34:00</td>\n      <td>0.0</td>\n      <td>15287</td>\n      <td>United Kingdom</td>\n    </tr>\n    <tr>\n      <th>...</th>\n      <td>...</td>\n      <td>...</td>\n      <td>...</td>\n      <td>...</td>\n      <td>...</td>\n      <td>...</td>\n      <td>...</td>\n      <td>...</td>\n    </tr>\n    <tr>\n      <th>536981</th>\n      <td>581234</td>\n      <td>72817</td>\n      <td>NaN</td>\n      <td>27</td>\n      <td>2011-12-08 10:33:00</td>\n      <td>0.0</td>\n      <td>15287</td>\n      <td>United Kingdom</td>\n    </tr>\n    <tr>\n      <th>538504</th>\n      <td>581406</td>\n      <td>46000M</td>\n      <td>POLYESTER FILLER PAD 45x45cm</td>\n      <td>240</td>\n      <td>2011-12-08 13:58:00</td>\n      <td>0.0</td>\n      <td>15287</td>\n      <td>United Kingdom</td>\n    </tr>\n    <tr>\n      <th>538505</th>\n      <td>581406</td>\n      <td>46000S</td>\n      <td>POLYESTER FILLER PAD 40x40cm</td>\n      <td>300</td>\n      <td>2011-12-08 13:58:00</td>\n      <td>0.0</td>\n      <td>15287</td>\n      <td>United Kingdom</td>\n    </tr>\n    <tr>\n      <th>538554</th>\n      <td>581408</td>\n      <td>85175</td>\n      <td>NaN</td>\n      <td>20</td>\n      <td>2011-12-08 14:06:00</td>\n      <td>0.0</td>\n      <td>15287</td>\n      <td>United Kingdom</td>\n    </tr>\n    <tr>\n      <th>538919</th>\n      <td>581422</td>\n      <td>23169</td>\n      <td>smashed</td>\n      <td>-235</td>\n      <td>2011-12-08 15:24:00</td>\n      <td>0.0</td>\n      <td>15287</td>\n      <td>United Kingdom</td>\n    </tr>\n  </tbody>\n</table>\n<p>2517 rows × 8 columns</p>\n</div>"
     },
     "execution_count": 21,
     "metadata": {},
     "output_type": "execute_result"
    }
   ],
   "source": [
    "data.loc[data['UnitPrice'] <= 0]"
   ],
   "metadata": {
    "collapsed": false,
    "ExecuteTime": {
     "start_time": "2024-02-28T02:43:30.703489Z",
     "end_time": "2024-02-28T02:43:30.786345Z"
    }
   },
   "id": "b5264512ca2ee5de"
  },
  {
   "cell_type": "code",
   "execution_count": 22,
   "outputs": [],
   "source": [
    "data = data[data['UnitPrice'] > 0]"
   ],
   "metadata": {
    "collapsed": false,
    "ExecuteTime": {
     "start_time": "2024-02-28T02:43:30.742461Z",
     "end_time": "2024-02-28T02:43:30.879095Z"
    }
   },
   "id": "d319e1f30eb83dc9"
  },
  {
   "cell_type": "code",
   "execution_count": 23,
   "outputs": [
    {
     "data": {
      "text/plain": "Empty DataFrame\nColumns: [InvoiceNo, StockCode, Description, Quantity, InvoiceDate, UnitPrice, CustomerID, Country]\nIndex: []",
      "text/html": "<div>\n<style scoped>\n    .dataframe tbody tr th:only-of-type {\n        vertical-align: middle;\n    }\n\n    .dataframe tbody tr th {\n        vertical-align: top;\n    }\n\n    .dataframe thead th {\n        text-align: right;\n    }\n</style>\n<table border=\"1\" class=\"dataframe\">\n  <thead>\n    <tr style=\"text-align: right;\">\n      <th></th>\n      <th>InvoiceNo</th>\n      <th>StockCode</th>\n      <th>Description</th>\n      <th>Quantity</th>\n      <th>InvoiceDate</th>\n      <th>UnitPrice</th>\n      <th>CustomerID</th>\n      <th>Country</th>\n    </tr>\n  </thead>\n  <tbody>\n  </tbody>\n</table>\n</div>"
     },
     "execution_count": 23,
     "metadata": {},
     "output_type": "execute_result"
    }
   ],
   "source": [
    "data[data['UnitPrice'] < 0]"
   ],
   "metadata": {
    "collapsed": false,
    "ExecuteTime": {
     "start_time": "2024-02-28T02:43:30.829231Z",
     "end_time": "2024-02-28T02:43:30.890067Z"
    }
   },
   "id": "9d39a24d443b701a"
  },
  {
   "cell_type": "markdown",
   "source": [
    "Добавим колонку с куплей/продажей"
   ],
   "metadata": {
    "collapsed": false
   }
  },
  {
   "cell_type": "code",
   "execution_count": 24,
   "outputs": [
    {
     "data": {
      "text/plain": "Transaction\nBought    530104\nSold        9288\nName: count, dtype: int64"
     },
     "execution_count": 24,
     "metadata": {},
     "output_type": "execute_result"
    }
   ],
   "source": [
    "data['Transaction'] = data['Quantity'].apply(lambda x: 'Sold' if x < 0 else 'Bought')\n",
    "data['Transaction'].value_counts()"
   ],
   "metadata": {
    "collapsed": false,
    "ExecuteTime": {
     "start_time": "2024-02-28T02:43:30.845188Z",
     "end_time": "2024-02-28T02:43:31.104820Z"
    }
   },
   "id": "ad386151cf4a6ec8"
  },
  {
   "cell_type": "markdown",
   "source": [
    "# Топ 10 покупателей по числу проданных товаров"
   ],
   "metadata": {
    "collapsed": false
   }
  },
  {
   "cell_type": "code",
   "execution_count": 25,
   "outputs": [
    {
     "data": {
      "text/plain": "CustomerID\n15287    418230\n14646    196143\n12415     76946\n14911     76930\n17450     69029\n18102     64122\n17511     63012\n13694     61803\n14298     58021\n14156     57025\nName: Quantity, dtype: int64"
     },
     "execution_count": 25,
     "metadata": {},
     "output_type": "execute_result"
    }
   ],
   "source": [
    "customer_totals = data.groupby('CustomerID')['Quantity'].sum()\n",
    "sorted_totals = customer_totals.sort_values(ascending=False)\n",
    "top_customers = sorted_totals.head(10)\n",
    "top_customers"
   ],
   "metadata": {
    "collapsed": false,
    "ExecuteTime": {
     "start_time": "2024-02-28T02:43:31.001319Z",
     "end_time": "2024-02-28T02:43:31.120777Z"
    }
   },
   "id": "a77f14e0bcbf568f"
  },
  {
   "cell_type": "code",
   "execution_count": 26,
   "outputs": [
    {
     "data": {
      "text/plain": "       InvoiceNo StockCode                          Description  Quantity  \\\n0         536365    85123A   WHITE HANGING HEART T-LIGHT HOLDER         6   \n1         536365     71053                  WHITE METAL LANTERN         6   \n2         536365    84406B       CREAM CUPID HEARTS COAT HANGER         8   \n3         536365    84029G  KNITTED UNION FLAG HOT WATER BOTTLE         6   \n4         536365    84029E       RED WOOLLY HOTTIE WHITE HEART.         6   \n...          ...       ...                                  ...       ...   \n541904    581587     22613          PACK OF 20 SPACEBOY NAPKINS        12   \n541905    581587     22899         CHILDREN'S APRON DOLLY GIRL          6   \n541906    581587     23254        CHILDRENS CUTLERY DOLLY GIRL          4   \n541907    581587     23255      CHILDRENS CUTLERY CIRCUS PARADE         4   \n541908    581587     22138        BAKING SET 9 PIECE RETROSPOT          3   \n\n               InvoiceDate  UnitPrice  CustomerID         Country Transaction  \\\n0      2010-12-01 08:26:00       2.55       17850  United Kingdom      Bought   \n1      2010-12-01 08:26:00       3.39       17850  United Kingdom      Bought   \n2      2010-12-01 08:26:00       2.75       17850  United Kingdom      Bought   \n3      2010-12-01 08:26:00       3.39       17850  United Kingdom      Bought   \n4      2010-12-01 08:26:00       3.39       17850  United Kingdom      Bought   \n...                    ...        ...         ...             ...         ...   \n541904 2011-12-09 12:50:00       0.85       12680          France      Bought   \n541905 2011-12-09 12:50:00       2.10       12680          France      Bought   \n541906 2011-12-09 12:50:00       4.15       12680          France      Bought   \n541907 2011-12-09 12:50:00       4.15       12680          France      Bought   \n541908 2011-12-09 12:50:00       4.95       12680          France      Bought   \n\n              Date      Time  \n0       2010-12-01  08:26:00  \n1       2010-12-01  08:26:00  \n2       2010-12-01  08:26:00  \n3       2010-12-01  08:26:00  \n4       2010-12-01  08:26:00  \n...            ...       ...  \n541904  2011-12-09  12:50:00  \n541905  2011-12-09  12:50:00  \n541906  2011-12-09  12:50:00  \n541907  2011-12-09  12:50:00  \n541908  2011-12-09  12:50:00  \n\n[539392 rows x 11 columns]",
      "text/html": "<div>\n<style scoped>\n    .dataframe tbody tr th:only-of-type {\n        vertical-align: middle;\n    }\n\n    .dataframe tbody tr th {\n        vertical-align: top;\n    }\n\n    .dataframe thead th {\n        text-align: right;\n    }\n</style>\n<table border=\"1\" class=\"dataframe\">\n  <thead>\n    <tr style=\"text-align: right;\">\n      <th></th>\n      <th>InvoiceNo</th>\n      <th>StockCode</th>\n      <th>Description</th>\n      <th>Quantity</th>\n      <th>InvoiceDate</th>\n      <th>UnitPrice</th>\n      <th>CustomerID</th>\n      <th>Country</th>\n      <th>Transaction</th>\n      <th>Date</th>\n      <th>Time</th>\n    </tr>\n  </thead>\n  <tbody>\n    <tr>\n      <th>0</th>\n      <td>536365</td>\n      <td>85123A</td>\n      <td>WHITE HANGING HEART T-LIGHT HOLDER</td>\n      <td>6</td>\n      <td>2010-12-01 08:26:00</td>\n      <td>2.55</td>\n      <td>17850</td>\n      <td>United Kingdom</td>\n      <td>Bought</td>\n      <td>2010-12-01</td>\n      <td>08:26:00</td>\n    </tr>\n    <tr>\n      <th>1</th>\n      <td>536365</td>\n      <td>71053</td>\n      <td>WHITE METAL LANTERN</td>\n      <td>6</td>\n      <td>2010-12-01 08:26:00</td>\n      <td>3.39</td>\n      <td>17850</td>\n      <td>United Kingdom</td>\n      <td>Bought</td>\n      <td>2010-12-01</td>\n      <td>08:26:00</td>\n    </tr>\n    <tr>\n      <th>2</th>\n      <td>536365</td>\n      <td>84406B</td>\n      <td>CREAM CUPID HEARTS COAT HANGER</td>\n      <td>8</td>\n      <td>2010-12-01 08:26:00</td>\n      <td>2.75</td>\n      <td>17850</td>\n      <td>United Kingdom</td>\n      <td>Bought</td>\n      <td>2010-12-01</td>\n      <td>08:26:00</td>\n    </tr>\n    <tr>\n      <th>3</th>\n      <td>536365</td>\n      <td>84029G</td>\n      <td>KNITTED UNION FLAG HOT WATER BOTTLE</td>\n      <td>6</td>\n      <td>2010-12-01 08:26:00</td>\n      <td>3.39</td>\n      <td>17850</td>\n      <td>United Kingdom</td>\n      <td>Bought</td>\n      <td>2010-12-01</td>\n      <td>08:26:00</td>\n    </tr>\n    <tr>\n      <th>4</th>\n      <td>536365</td>\n      <td>84029E</td>\n      <td>RED WOOLLY HOTTIE WHITE HEART.</td>\n      <td>6</td>\n      <td>2010-12-01 08:26:00</td>\n      <td>3.39</td>\n      <td>17850</td>\n      <td>United Kingdom</td>\n      <td>Bought</td>\n      <td>2010-12-01</td>\n      <td>08:26:00</td>\n    </tr>\n    <tr>\n      <th>...</th>\n      <td>...</td>\n      <td>...</td>\n      <td>...</td>\n      <td>...</td>\n      <td>...</td>\n      <td>...</td>\n      <td>...</td>\n      <td>...</td>\n      <td>...</td>\n      <td>...</td>\n      <td>...</td>\n    </tr>\n    <tr>\n      <th>541904</th>\n      <td>581587</td>\n      <td>22613</td>\n      <td>PACK OF 20 SPACEBOY NAPKINS</td>\n      <td>12</td>\n      <td>2011-12-09 12:50:00</td>\n      <td>0.85</td>\n      <td>12680</td>\n      <td>France</td>\n      <td>Bought</td>\n      <td>2011-12-09</td>\n      <td>12:50:00</td>\n    </tr>\n    <tr>\n      <th>541905</th>\n      <td>581587</td>\n      <td>22899</td>\n      <td>CHILDREN'S APRON DOLLY GIRL</td>\n      <td>6</td>\n      <td>2011-12-09 12:50:00</td>\n      <td>2.10</td>\n      <td>12680</td>\n      <td>France</td>\n      <td>Bought</td>\n      <td>2011-12-09</td>\n      <td>12:50:00</td>\n    </tr>\n    <tr>\n      <th>541906</th>\n      <td>581587</td>\n      <td>23254</td>\n      <td>CHILDRENS CUTLERY DOLLY GIRL</td>\n      <td>4</td>\n      <td>2011-12-09 12:50:00</td>\n      <td>4.15</td>\n      <td>12680</td>\n      <td>France</td>\n      <td>Bought</td>\n      <td>2011-12-09</td>\n      <td>12:50:00</td>\n    </tr>\n    <tr>\n      <th>541907</th>\n      <td>581587</td>\n      <td>23255</td>\n      <td>CHILDRENS CUTLERY CIRCUS PARADE</td>\n      <td>4</td>\n      <td>2011-12-09 12:50:00</td>\n      <td>4.15</td>\n      <td>12680</td>\n      <td>France</td>\n      <td>Bought</td>\n      <td>2011-12-09</td>\n      <td>12:50:00</td>\n    </tr>\n    <tr>\n      <th>541908</th>\n      <td>581587</td>\n      <td>22138</td>\n      <td>BAKING SET 9 PIECE RETROSPOT</td>\n      <td>3</td>\n      <td>2011-12-09 12:50:00</td>\n      <td>4.95</td>\n      <td>12680</td>\n      <td>France</td>\n      <td>Bought</td>\n      <td>2011-12-09</td>\n      <td>12:50:00</td>\n    </tr>\n  </tbody>\n</table>\n<p>539392 rows × 11 columns</p>\n</div>"
     },
     "execution_count": 26,
     "metadata": {},
     "output_type": "execute_result"
    }
   ],
   "source": [
    "data['InvoiceDate'] = pd.to_datetime(data['InvoiceDate'])\n",
    "data['Date'] = data['InvoiceDate'].dt.date\n",
    "data['Time'] = data['InvoiceDate'].dt.strftime('%H:%M:%S')\n",
    "data"
   ],
   "metadata": {
    "collapsed": false,
    "ExecuteTime": {
     "start_time": "2024-02-28T02:43:31.058942Z",
     "end_time": "2024-02-28T02:43:35.711309Z"
    }
   },
   "id": "cdec4ca6358c309f"
  },
  {
   "cell_type": "code",
   "execution_count": 27,
   "outputs": [
    {
     "data": {
      "text/plain": "       InvoiceNo StockCode                          Description  Quantity  \\\n0         536365    85123A   WHITE HANGING HEART T-LIGHT HOLDER         6   \n1         536365     71053                  WHITE METAL LANTERN         6   \n2         536365    84406B       CREAM CUPID HEARTS COAT HANGER         8   \n3         536365    84029G  KNITTED UNION FLAG HOT WATER BOTTLE         6   \n4         536365    84029E       RED WOOLLY HOTTIE WHITE HEART.         6   \n...          ...       ...                                  ...       ...   \n541904    581587     22613          PACK OF 20 SPACEBOY NAPKINS        12   \n541905    581587     22899         CHILDREN'S APRON DOLLY GIRL          6   \n541906    581587     23254        CHILDRENS CUTLERY DOLLY GIRL          4   \n541907    581587     23255      CHILDRENS CUTLERY CIRCUS PARADE         4   \n541908    581587     22138        BAKING SET 9 PIECE RETROSPOT          3   \n\n               InvoiceDate  UnitPrice  CustomerID         Country Transaction  \\\n0      2010-12-01 08:26:00       2.55       17850  United Kingdom      Bought   \n1      2010-12-01 08:26:00       3.39       17850  United Kingdom      Bought   \n2      2010-12-01 08:26:00       2.75       17850  United Kingdom      Bought   \n3      2010-12-01 08:26:00       3.39       17850  United Kingdom      Bought   \n4      2010-12-01 08:26:00       3.39       17850  United Kingdom      Bought   \n...                    ...        ...         ...             ...         ...   \n541904 2011-12-09 12:50:00       0.85       12680          France      Bought   \n541905 2011-12-09 12:50:00       2.10       12680          France      Bought   \n541906 2011-12-09 12:50:00       4.15       12680          France      Bought   \n541907 2011-12-09 12:50:00       4.15       12680          France      Bought   \n541908 2011-12-09 12:50:00       4.95       12680          France      Bought   \n\n              Date      Time Time of Day  \n0       2010-12-01  08:26:00     Morning  \n1       2010-12-01  08:26:00     Morning  \n2       2010-12-01  08:26:00     Morning  \n3       2010-12-01  08:26:00     Morning  \n4       2010-12-01  08:26:00     Morning  \n...            ...       ...         ...  \n541904  2011-12-09  12:50:00        Noon  \n541905  2011-12-09  12:50:00        Noon  \n541906  2011-12-09  12:50:00        Noon  \n541907  2011-12-09  12:50:00        Noon  \n541908  2011-12-09  12:50:00        Noon  \n\n[539392 rows x 12 columns]",
      "text/html": "<div>\n<style scoped>\n    .dataframe tbody tr th:only-of-type {\n        vertical-align: middle;\n    }\n\n    .dataframe tbody tr th {\n        vertical-align: top;\n    }\n\n    .dataframe thead th {\n        text-align: right;\n    }\n</style>\n<table border=\"1\" class=\"dataframe\">\n  <thead>\n    <tr style=\"text-align: right;\">\n      <th></th>\n      <th>InvoiceNo</th>\n      <th>StockCode</th>\n      <th>Description</th>\n      <th>Quantity</th>\n      <th>InvoiceDate</th>\n      <th>UnitPrice</th>\n      <th>CustomerID</th>\n      <th>Country</th>\n      <th>Transaction</th>\n      <th>Date</th>\n      <th>Time</th>\n      <th>Time of Day</th>\n    </tr>\n  </thead>\n  <tbody>\n    <tr>\n      <th>0</th>\n      <td>536365</td>\n      <td>85123A</td>\n      <td>WHITE HANGING HEART T-LIGHT HOLDER</td>\n      <td>6</td>\n      <td>2010-12-01 08:26:00</td>\n      <td>2.55</td>\n      <td>17850</td>\n      <td>United Kingdom</td>\n      <td>Bought</td>\n      <td>2010-12-01</td>\n      <td>08:26:00</td>\n      <td>Morning</td>\n    </tr>\n    <tr>\n      <th>1</th>\n      <td>536365</td>\n      <td>71053</td>\n      <td>WHITE METAL LANTERN</td>\n      <td>6</td>\n      <td>2010-12-01 08:26:00</td>\n      <td>3.39</td>\n      <td>17850</td>\n      <td>United Kingdom</td>\n      <td>Bought</td>\n      <td>2010-12-01</td>\n      <td>08:26:00</td>\n      <td>Morning</td>\n    </tr>\n    <tr>\n      <th>2</th>\n      <td>536365</td>\n      <td>84406B</td>\n      <td>CREAM CUPID HEARTS COAT HANGER</td>\n      <td>8</td>\n      <td>2010-12-01 08:26:00</td>\n      <td>2.75</td>\n      <td>17850</td>\n      <td>United Kingdom</td>\n      <td>Bought</td>\n      <td>2010-12-01</td>\n      <td>08:26:00</td>\n      <td>Morning</td>\n    </tr>\n    <tr>\n      <th>3</th>\n      <td>536365</td>\n      <td>84029G</td>\n      <td>KNITTED UNION FLAG HOT WATER BOTTLE</td>\n      <td>6</td>\n      <td>2010-12-01 08:26:00</td>\n      <td>3.39</td>\n      <td>17850</td>\n      <td>United Kingdom</td>\n      <td>Bought</td>\n      <td>2010-12-01</td>\n      <td>08:26:00</td>\n      <td>Morning</td>\n    </tr>\n    <tr>\n      <th>4</th>\n      <td>536365</td>\n      <td>84029E</td>\n      <td>RED WOOLLY HOTTIE WHITE HEART.</td>\n      <td>6</td>\n      <td>2010-12-01 08:26:00</td>\n      <td>3.39</td>\n      <td>17850</td>\n      <td>United Kingdom</td>\n      <td>Bought</td>\n      <td>2010-12-01</td>\n      <td>08:26:00</td>\n      <td>Morning</td>\n    </tr>\n    <tr>\n      <th>...</th>\n      <td>...</td>\n      <td>...</td>\n      <td>...</td>\n      <td>...</td>\n      <td>...</td>\n      <td>...</td>\n      <td>...</td>\n      <td>...</td>\n      <td>...</td>\n      <td>...</td>\n      <td>...</td>\n      <td>...</td>\n    </tr>\n    <tr>\n      <th>541904</th>\n      <td>581587</td>\n      <td>22613</td>\n      <td>PACK OF 20 SPACEBOY NAPKINS</td>\n      <td>12</td>\n      <td>2011-12-09 12:50:00</td>\n      <td>0.85</td>\n      <td>12680</td>\n      <td>France</td>\n      <td>Bought</td>\n      <td>2011-12-09</td>\n      <td>12:50:00</td>\n      <td>Noon</td>\n    </tr>\n    <tr>\n      <th>541905</th>\n      <td>581587</td>\n      <td>22899</td>\n      <td>CHILDREN'S APRON DOLLY GIRL</td>\n      <td>6</td>\n      <td>2011-12-09 12:50:00</td>\n      <td>2.10</td>\n      <td>12680</td>\n      <td>France</td>\n      <td>Bought</td>\n      <td>2011-12-09</td>\n      <td>12:50:00</td>\n      <td>Noon</td>\n    </tr>\n    <tr>\n      <th>541906</th>\n      <td>581587</td>\n      <td>23254</td>\n      <td>CHILDRENS CUTLERY DOLLY GIRL</td>\n      <td>4</td>\n      <td>2011-12-09 12:50:00</td>\n      <td>4.15</td>\n      <td>12680</td>\n      <td>France</td>\n      <td>Bought</td>\n      <td>2011-12-09</td>\n      <td>12:50:00</td>\n      <td>Noon</td>\n    </tr>\n    <tr>\n      <th>541907</th>\n      <td>581587</td>\n      <td>23255</td>\n      <td>CHILDRENS CUTLERY CIRCUS PARADE</td>\n      <td>4</td>\n      <td>2011-12-09 12:50:00</td>\n      <td>4.15</td>\n      <td>12680</td>\n      <td>France</td>\n      <td>Bought</td>\n      <td>2011-12-09</td>\n      <td>12:50:00</td>\n      <td>Noon</td>\n    </tr>\n    <tr>\n      <th>541908</th>\n      <td>581587</td>\n      <td>22138</td>\n      <td>BAKING SET 9 PIECE RETROSPOT</td>\n      <td>3</td>\n      <td>2011-12-09 12:50:00</td>\n      <td>4.95</td>\n      <td>12680</td>\n      <td>France</td>\n      <td>Bought</td>\n      <td>2011-12-09</td>\n      <td>12:50:00</td>\n      <td>Noon</td>\n    </tr>\n  </tbody>\n</table>\n<p>539392 rows × 12 columns</p>\n</div>"
     },
     "execution_count": 27,
     "metadata": {},
     "output_type": "execute_result"
    }
   ],
   "source": [
    "# Create new column with time interval labels\n",
    "time = data['InvoiceDate'].dt.hour\n",
    "data['Time of Day'] = [\n",
    "    'Early Morning' if x < 6 else\n",
    "    'Morning' if x < 12 else\n",
    "    'Noon' if x < 14 else\n",
    "    'Afternoon' if x < 18 else\n",
    "    'Evening' if x < 22 else 'Night' for x in time]\n",
    "data"
   ],
   "metadata": {
    "collapsed": false,
    "ExecuteTime": {
     "start_time": "2024-02-28T02:43:35.712306Z",
     "end_time": "2024-02-28T02:43:35.913283Z"
    }
   },
   "id": "53620ef9761781ab"
  },
  {
   "cell_type": "code",
   "execution_count": 28,
   "outputs": [
    {
     "data": {
      "text/plain": "<Axes: xlabel='Time of Day', ylabel='count'>"
     },
     "execution_count": 28,
     "metadata": {},
     "output_type": "execute_result"
    },
    {
     "data": {
      "text/plain": "<Figure size 640x480 with 1 Axes>",
      "image/png": "[encoded data removed]"
     },
     "metadata": {},
     "output_type": "display_data"
    }
   ],
   "source": [
    "import seaborn as sns\n",
    "sns.countplot(data, x='Time of Day')"
   ],
   "metadata": {
    "collapsed": false,
    "ExecuteTime": {
     "start_time": "2024-02-28T02:43:35.917274Z",
     "end_time": "2024-02-28T02:43:37.274338Z"
    }
   },
   "id": "c0e281cd2136a4de"
  },
  {
   "cell_type": "markdown",
   "source": [
    "# Assosiations (Market bucket)"
   ],
   "metadata": {
    "collapsed": false
   }
  },
  {
   "cell_type": "code",
   "execution_count": 29,
   "outputs": [
    {
     "data": {
      "text/plain": "   Member_number        Date   itemDescription\n0           1808  21-07-2015    tropical fruit\n1           2552  05-01-2015        whole milk\n2           2300  19-09-2015         pip fruit\n3           1187  12-12-2015  other vegetables\n4           3037  01-02-2015        whole milk",
      "text/html": "<div>\n<style scoped>\n    .dataframe tbody tr th:only-of-type {\n        vertical-align: middle;\n    }\n\n    .dataframe tbody tr th {\n        vertical-align: top;\n    }\n\n    .dataframe thead th {\n        text-align: right;\n    }\n</style>\n<table border=\"1\" class=\"dataframe\">\n  <thead>\n    <tr style=\"text-align: right;\">\n      <th></th>\n      <th>Member_number</th>\n      <th>Date</th>\n      <th>itemDescription</th>\n    </tr>\n  </thead>\n  <tbody>\n    <tr>\n      <th>0</th>\n      <td>1808</td>\n      <td>21-07-2015</td>\n      <td>tropical fruit</td>\n    </tr>\n    <tr>\n      <th>1</th>\n      <td>2552</td>\n      <td>05-01-2015</td>\n      <td>whole milk</td>\n    </tr>\n    <tr>\n      <th>2</th>\n      <td>2300</td>\n      <td>19-09-2015</td>\n      <td>pip fruit</td>\n    </tr>\n    <tr>\n      <th>3</th>\n      <td>1187</td>\n      <td>12-12-2015</td>\n      <td>other vegetables</td>\n    </tr>\n    <tr>\n      <th>4</th>\n      <td>3037</td>\n      <td>01-02-2015</td>\n      <td>whole milk</td>\n    </tr>\n  </tbody>\n</table>\n</div>"
     },
     "execution_count": 29,
     "metadata": {},
     "output_type": "execute_result"
    }
   ],
   "source": [
    "df = pd.read_csv('csv/groceries_dataset.csv')\n",
    "df.head()"
   ],
   "metadata": {
    "collapsed": false,
    "ExecuteTime": {
     "start_time": "2024-02-28T02:43:37.275336Z",
     "end_time": "2024-02-28T02:43:37.351028Z"
    }
   },
   "id": "65a7793b3498641b"
  },
  {
   "cell_type": "code",
   "execution_count": 30,
   "outputs": [
    {
     "data": {
      "text/plain": "       Member_number        Date        itemDescription      transaction\n0               1808  21-07-2015         tropical fruit  1808_21-07-2015\n1               2552  05-01-2015             whole milk  2552_05-01-2015\n2               2300  19-09-2015              pip fruit  2300_19-09-2015\n3               1187  12-12-2015       other vegetables  1187_12-12-2015\n4               3037  01-02-2015             whole milk  3037_01-02-2015\n...              ...         ...                    ...              ...\n38760           4471  08-10-2014          sliced cheese  4471_08-10-2014\n38761           2022  23-02-2014                  candy  2022_23-02-2014\n38762           1097  16-04-2014               cake bar  1097_16-04-2014\n38763           1510  03-12-2014  fruit/vegetable juice  1510_03-12-2014\n38764           1521  26-12-2014               cat food  1521_26-12-2014\n\n[38765 rows x 4 columns]",
      "text/html": "<div>\n<style scoped>\n    .dataframe tbody tr th:only-of-type {\n        vertical-align: middle;\n    }\n\n    .dataframe tbody tr th {\n        vertical-align: top;\n    }\n\n    .dataframe thead th {\n        text-align: right;\n    }\n</style>\n<table border=\"1\" class=\"dataframe\">\n  <thead>\n    <tr style=\"text-align: right;\">\n      <th></th>\n      <th>Member_number</th>\n      <th>Date</th>\n      <th>itemDescription</th>\n      <th>transaction</th>\n    </tr>\n  </thead>\n  <tbody>\n    <tr>\n      <th>0</th>\n      <td>1808</td>\n      <td>21-07-2015</td>\n      <td>tropical fruit</td>\n      <td>1808_21-07-2015</td>\n    </tr>\n    <tr>\n      <th>1</th>\n      <td>2552</td>\n      <td>05-01-2015</td>\n      <td>whole milk</td>\n      <td>2552_05-01-2015</td>\n    </tr>\n    <tr>\n      <th>2</th>\n      <td>2300</td>\n      <td>19-09-2015</td>\n      <td>pip fruit</td>\n      <td>2300_19-09-2015</td>\n    </tr>\n    <tr>\n      <th>3</th>\n      <td>1187</td>\n      <td>12-12-2015</td>\n      <td>other vegetables</td>\n      <td>1187_12-12-2015</td>\n    </tr>\n    <tr>\n      <th>4</th>\n      <td>3037</td>\n      <td>01-02-2015</td>\n      <td>whole milk</td>\n      <td>3037_01-02-2015</td>\n    </tr>\n    <tr>\n      <th>...</th>\n      <td>...</td>\n      <td>...</td>\n      <td>...</td>\n      <td>...</td>\n    </tr>\n    <tr>\n      <th>38760</th>\n      <td>4471</td>\n      <td>08-10-2014</td>\n      <td>sliced cheese</td>\n      <td>4471_08-10-2014</td>\n    </tr>\n    <tr>\n      <th>38761</th>\n      <td>2022</td>\n      <td>23-02-2014</td>\n      <td>candy</td>\n      <td>2022_23-02-2014</td>\n    </tr>\n    <tr>\n      <th>38762</th>\n      <td>1097</td>\n      <td>16-04-2014</td>\n      <td>cake bar</td>\n      <td>1097_16-04-2014</td>\n    </tr>\n    <tr>\n      <th>38763</th>\n      <td>1510</td>\n      <td>03-12-2014</td>\n      <td>fruit/vegetable juice</td>\n      <td>1510_03-12-2014</td>\n    </tr>\n    <tr>\n      <th>38764</th>\n      <td>1521</td>\n      <td>26-12-2014</td>\n      <td>cat food</td>\n      <td>1521_26-12-2014</td>\n    </tr>\n  </tbody>\n</table>\n<p>38765 rows × 4 columns</p>\n</div>"
     },
     "execution_count": 30,
     "metadata": {},
     "output_type": "execute_result"
    }
   ],
   "source": [
    "df['transaction'] = df['Member_number'].astype(str) + '_' + df['Date'].astype(str)\n",
    "df"
   ],
   "metadata": {
    "collapsed": false,
    "ExecuteTime": {
     "start_time": "2024-02-28T02:43:37.316017Z",
     "end_time": "2024-02-28T02:43:37.352026Z"
    }
   }
  },
  {
   "cell_type": "code",
   "execution_count": 31,
   "outputs": [
    {
     "data": {
      "text/plain": "itemDescription  Instant food products  UHT-milk  abrasive cleaner  \\\ntransaction                                                          \n1000_15-03-2015                      0         0                 0   \n1000_24-06-2014                      0         0                 0   \n1000_24-07-2015                      0         0                 0   \n1000_25-11-2015                      0         0                 0   \n1000_27-05-2015                      0         0                 0   \n\nitemDescription  artif. sweetener  baby cosmetics  bags  baking powder  \\\ntransaction                                                              \n1000_15-03-2015                 0               0     0              0   \n1000_24-06-2014                 0               0     0              0   \n1000_24-07-2015                 0               0     0              0   \n1000_25-11-2015                 0               0     0              0   \n1000_27-05-2015                 0               0     0              0   \n\nitemDescription  bathroom cleaner  beef  berries  ...  turkey  vinegar  \\\ntransaction                                       ...                    \n1000_15-03-2015                 0     0        0  ...       0        0   \n1000_24-06-2014                 0     0        0  ...       0        0   \n1000_24-07-2015                 0     0        0  ...       0        0   \n1000_25-11-2015                 0     0        0  ...       0        0   \n1000_27-05-2015                 0     0        0  ...       0        0   \n\nitemDescription  waffles  whipped/sour cream  whisky  white bread  white wine  \\\ntransaction                                                                     \n1000_15-03-2015        0                   0       0            0           0   \n1000_24-06-2014        0                   0       0            0           0   \n1000_24-07-2015        0                   0       0            0           0   \n1000_25-11-2015        0                   0       0            0           0   \n1000_27-05-2015        0                   0       0            0           0   \n\nitemDescription  whole milk  yogurt  zwieback  \ntransaction                                    \n1000_15-03-2015           1       1         0  \n1000_24-06-2014           1       0         0  \n1000_24-07-2015           0       0         0  \n1000_25-11-2015           0       0         0  \n1000_27-05-2015           0       0         0  \n\n[5 rows x 167 columns]",
      "text/html": "<div>\n<style scoped>\n    .dataframe tbody tr th:only-of-type {\n        vertical-align: middle;\n    }\n\n    .dataframe tbody tr th {\n        vertical-align: top;\n    }\n\n    .dataframe thead th {\n        text-align: right;\n    }\n</style>\n<table border=\"1\" class=\"dataframe\">\n  <thead>\n    <tr style=\"text-align: right;\">\n      <th>itemDescription</th>\n      <th>Instant food products</th>\n      <th>UHT-milk</th>\n      <th>abrasive cleaner</th>\n      <th>artif. sweetener</th>\n      <th>baby cosmetics</th>\n      <th>bags</th>\n      <th>baking powder</th>\n      <th>bathroom cleaner</th>\n      <th>beef</th>\n      <th>berries</th>\n      <th>...</th>\n      <th>turkey</th>\n      <th>vinegar</th>\n      <th>waffles</th>\n      <th>whipped/sour cream</th>\n      <th>whisky</th>\n      <th>white bread</th>\n      <th>white wine</th>\n      <th>whole milk</th>\n      <th>yogurt</th>\n      <th>zwieback</th>\n    </tr>\n    <tr>\n      <th>transaction</th>\n      <th></th>\n      <th></th>\n      <th></th>\n      <th></th>\n      <th></th>\n      <th></th>\n      <th></th>\n      <th></th>\n      <th></th>\n      <th></th>\n      <th></th>\n      <th></th>\n      <th></th>\n      <th></th>\n      <th></th>\n      <th></th>\n      <th></th>\n      <th></th>\n      <th></th>\n      <th></th>\n      <th></th>\n    </tr>\n  </thead>\n  <tbody>\n    <tr>\n      <th>1000_15-03-2015</th>\n      <td>0</td>\n      <td>0</td>\n      <td>0</td>\n      <td>0</td>\n      <td>0</td>\n      <td>0</td>\n      <td>0</td>\n      <td>0</td>\n      <td>0</td>\n      <td>0</td>\n      <td>...</td>\n      <td>0</td>\n      <td>0</td>\n      <td>0</td>\n      <td>0</td>\n      <td>0</td>\n      <td>0</td>\n      <td>0</td>\n      <td>1</td>\n      <td>1</td>\n      <td>0</td>\n    </tr>\n    <tr>\n      <th>1000_24-06-2014</th>\n      <td>0</td>\n      <td>0</td>\n      <td>0</td>\n      <td>0</td>\n      <td>0</td>\n      <td>0</td>\n      <td>0</td>\n      <td>0</td>\n      <td>0</td>\n      <td>0</td>\n      <td>...</td>\n      <td>0</td>\n      <td>0</td>\n      <td>0</td>\n      <td>0</td>\n      <td>0</td>\n      <td>0</td>\n      <td>0</td>\n      <td>1</td>\n      <td>0</td>\n      <td>0</td>\n    </tr>\n    <tr>\n      <th>1000_24-07-2015</th>\n      <td>0</td>\n      <td>0</td>\n      <td>0</td>\n      <td>0</td>\n      <td>0</td>\n      <td>0</td>\n      <td>0</td>\n      <td>0</td>\n      <td>0</td>\n      <td>0</td>\n      <td>...</td>\n      <td>0</td>\n      <td>0</td>\n      <td>0</td>\n      <td>0</td>\n      <td>0</td>\n      <td>0</td>\n      <td>0</td>\n      <td>0</td>\n      <td>0</td>\n      <td>0</td>\n    </tr>\n    <tr>\n      <th>1000_25-11-2015</th>\n      <td>0</td>\n      <td>0</td>\n      <td>0</td>\n      <td>0</td>\n      <td>0</td>\n      <td>0</td>\n      <td>0</td>\n      <td>0</td>\n      <td>0</td>\n      <td>0</td>\n      <td>...</td>\n      <td>0</td>\n      <td>0</td>\n      <td>0</td>\n      <td>0</td>\n      <td>0</td>\n      <td>0</td>\n      <td>0</td>\n      <td>0</td>\n      <td>0</td>\n      <td>0</td>\n    </tr>\n    <tr>\n      <th>1000_27-05-2015</th>\n      <td>0</td>\n      <td>0</td>\n      <td>0</td>\n      <td>0</td>\n      <td>0</td>\n      <td>0</td>\n      <td>0</td>\n      <td>0</td>\n      <td>0</td>\n      <td>0</td>\n      <td>...</td>\n      <td>0</td>\n      <td>0</td>\n      <td>0</td>\n      <td>0</td>\n      <td>0</td>\n      <td>0</td>\n      <td>0</td>\n      <td>0</td>\n      <td>0</td>\n      <td>0</td>\n    </tr>\n  </tbody>\n</table>\n<p>5 rows × 167 columns</p>\n</div>"
     },
     "execution_count": 31,
     "metadata": {},
     "output_type": "execute_result"
    }
   ],
   "source": [
    "df2 = pd.crosstab(df['transaction'], df['itemDescription'])\n",
    "df2.head()"
   ],
   "metadata": {
    "collapsed": false,
    "ExecuteTime": {
     "start_time": "2024-02-28T02:43:37.351028Z",
     "end_time": "2024-02-28T02:43:38.528901Z"
    }
   }
  },
  {
   "cell_type": "code",
   "execution_count": 32,
   "outputs": [
    {
     "name": "stderr",
     "output_type": "stream",
     "text": [
      "C:\\Users\\Stas\\AppData\\Local\\Temp\\ipykernel_11656\\681029706.py:7: FutureWarning: DataFrame.applymap has been deprecated. Use DataFrame.map instead.\n",
      "  basket_input = df2.applymap(encode)\n"
     ]
    },
    {
     "data": {
      "text/plain": "itemDescription  Instant food products  UHT-milk  abrasive cleaner  \\\ntransaction                                                          \n1000_15-03-2015                      0         0                 0   \n1000_24-06-2014                      0         0                 0   \n1000_24-07-2015                      0         0                 0   \n1000_25-11-2015                      0         0                 0   \n1000_27-05-2015                      0         0                 0   \n...                                ...       ...               ...   \n4999_24-01-2015                      0         0                 0   \n4999_26-12-2015                      0         0                 0   \n5000_09-03-2014                      0         0                 0   \n5000_10-02-2015                      0         0                 0   \n5000_16-11-2014                      0         0                 0   \n\nitemDescription  artif. sweetener  baby cosmetics  bags  baking powder  \\\ntransaction                                                              \n1000_15-03-2015                 0               0     0              0   \n1000_24-06-2014                 0               0     0              0   \n1000_24-07-2015                 0               0     0              0   \n1000_25-11-2015                 0               0     0              0   \n1000_27-05-2015                 0               0     0              0   \n...                           ...             ...   ...            ...   \n4999_24-01-2015                 0               0     0              0   \n4999_26-12-2015                 0               0     0              0   \n5000_09-03-2014                 0               0     0              0   \n5000_10-02-2015                 0               0     0              0   \n5000_16-11-2014                 0               0     0              0   \n\nitemDescription  bathroom cleaner  beef  berries  ...  turkey  vinegar  \\\ntransaction                                       ...                    \n1000_15-03-2015                 0     0        0  ...       0        0   \n1000_24-06-2014                 0     0        0  ...       0        0   \n1000_24-07-2015                 0     0        0  ...       0        0   \n1000_25-11-2015                 0     0        0  ...       0        0   \n1000_27-05-2015                 0     0        0  ...       0        0   \n...                           ...   ...      ...  ...     ...      ...   \n4999_24-01-2015                 0     0        1  ...       0        0   \n4999_26-12-2015                 0     0        0  ...       0        0   \n5000_09-03-2014                 0     0        0  ...       0        0   \n5000_10-02-2015                 0     0        0  ...       0        0   \n5000_16-11-2014                 0     0        0  ...       0        0   \n\nitemDescription  waffles  whipped/sour cream  whisky  white bread  white wine  \\\ntransaction                                                                     \n1000_15-03-2015        0                   0       0            0           0   \n1000_24-06-2014        0                   0       0            0           0   \n1000_24-07-2015        0                   0       0            0           0   \n1000_25-11-2015        0                   0       0            0           0   \n1000_27-05-2015        0                   0       0            0           0   \n...                  ...                 ...     ...          ...         ...   \n4999_24-01-2015        0                   0       0            0           0   \n4999_26-12-2015        0                   0       0            0           0   \n5000_09-03-2014        0                   0       0            0           0   \n5000_10-02-2015        0                   0       0            0           0   \n5000_16-11-2014        0                   0       0            0           0   \n\nitemDescription  whole milk  yogurt  zwieback  \ntransaction                                    \n1000_15-03-2015           1       1         0  \n1000_24-06-2014           1       0         0  \n1000_24-07-2015           0       0         0  \n1000_25-11-2015           0       0         0  \n1000_27-05-2015           0       0         0  \n...                     ...     ...       ...  \n4999_24-01-2015           0       1         0  \n4999_26-12-2015           0       0         0  \n5000_09-03-2014           0       0         0  \n5000_10-02-2015           0       0         0  \n5000_16-11-2014           0       0         0  \n\n[14963 rows x 167 columns]",
      "text/html": "<div>\n<style scoped>\n    .dataframe tbody tr th:only-of-type {\n        vertical-align: middle;\n    }\n\n    .dataframe tbody tr th {\n        vertical-align: top;\n    }\n\n    .dataframe thead th {\n        text-align: right;\n    }\n</style>\n<table border=\"1\" class=\"dataframe\">\n  <thead>\n    <tr style=\"text-align: right;\">\n      <th>itemDescription</th>\n      <th>Instant food products</th>\n      <th>UHT-milk</th>\n      <th>abrasive cleaner</th>\n      <th>artif. sweetener</th>\n      <th>baby cosmetics</th>\n      <th>bags</th>\n      <th>baking powder</th>\n      <th>bathroom cleaner</th>\n      <th>beef</th>\n      <th>berries</th>\n      <th>...</th>\n      <th>turkey</th>\n      <th>vinegar</th>\n      <th>waffles</th>\n      <th>whipped/sour cream</th>\n      <th>whisky</th>\n      <th>white bread</th>\n      <th>white wine</th>\n      <th>whole milk</th>\n      <th>yogurt</th>\n      <th>zwieback</th>\n    </tr>\n    <tr>\n      <th>transaction</th>\n      <th></th>\n      <th></th>\n      <th></th>\n      <th></th>\n      <th></th>\n      <th></th>\n      <th></th>\n      <th></th>\n      <th></th>\n      <th></th>\n      <th></th>\n      <th></th>\n      <th></th>\n      <th></th>\n      <th></th>\n      <th></th>\n      <th></th>\n      <th></th>\n      <th></th>\n      <th></th>\n      <th></th>\n    </tr>\n  </thead>\n  <tbody>\n    <tr>\n      <th>1000_15-03-2015</th>\n      <td>0</td>\n      <td>0</td>\n      <td>0</td>\n      <td>0</td>\n      <td>0</td>\n      <td>0</td>\n      <td>0</td>\n      <td>0</td>\n      <td>0</td>\n      <td>0</td>\n      <td>...</td>\n      <td>0</td>\n      <td>0</td>\n      <td>0</td>\n      <td>0</td>\n      <td>0</td>\n      <td>0</td>\n      <td>0</td>\n      <td>1</td>\n      <td>1</td>\n      <td>0</td>\n    </tr>\n    <tr>\n      <th>1000_24-06-2014</th>\n      <td>0</td>\n      <td>0</td>\n      <td>0</td>\n      <td>0</td>\n      <td>0</td>\n      <td>0</td>\n      <td>0</td>\n      <td>0</td>\n      <td>0</td>\n      <td>0</td>\n      <td>...</td>\n      <td>0</td>\n      <td>0</td>\n      <td>0</td>\n      <td>0</td>\n      <td>0</td>\n      <td>0</td>\n      <td>0</td>\n      <td>1</td>\n      <td>0</td>\n      <td>0</td>\n    </tr>\n    <tr>\n      <th>1000_24-07-2015</th>\n      <td>0</td>\n      <td>0</td>\n      <td>0</td>\n      <td>0</td>\n      <td>0</td>\n      <td>0</td>\n      <td>0</td>\n      <td>0</td>\n      <td>0</td>\n      <td>0</td>\n      <td>...</td>\n      <td>0</td>\n      <td>0</td>\n      <td>0</td>\n      <td>0</td>\n      <td>0</td>\n      <td>0</td>\n      <td>0</td>\n      <td>0</td>\n      <td>0</td>\n      <td>0</td>\n    </tr>\n    <tr>\n      <th>1000_25-11-2015</th>\n      <td>0</td>\n      <td>0</td>\n      <td>0</td>\n      <td>0</td>\n      <td>0</td>\n      <td>0</td>\n      <td>0</td>\n      <td>0</td>\n      <td>0</td>\n      <td>0</td>\n      <td>...</td>\n      <td>0</td>\n      <td>0</td>\n      <td>0</td>\n      <td>0</td>\n      <td>0</td>\n      <td>0</td>\n      <td>0</td>\n      <td>0</td>\n      <td>0</td>\n      <td>0</td>\n    </tr>\n    <tr>\n      <th>1000_27-05-2015</th>\n      <td>0</td>\n      <td>0</td>\n      <td>0</td>\n      <td>0</td>\n      <td>0</td>\n      <td>0</td>\n      <td>0</td>\n      <td>0</td>\n      <td>0</td>\n      <td>0</td>\n      <td>...</td>\n      <td>0</td>\n      <td>0</td>\n      <td>0</td>\n      <td>0</td>\n      <td>0</td>\n      <td>0</td>\n      <td>0</td>\n      <td>0</td>\n      <td>0</td>\n      <td>0</td>\n    </tr>\n    <tr>\n      <th>...</th>\n      <td>...</td>\n      <td>...</td>\n      <td>...</td>\n      <td>...</td>\n      <td>...</td>\n      <td>...</td>\n      <td>...</td>\n      <td>...</td>\n      <td>...</td>\n      <td>...</td>\n      <td>...</td>\n      <td>...</td>\n      <td>...</td>\n      <td>...</td>\n      <td>...</td>\n      <td>...</td>\n      <td>...</td>\n      <td>...</td>\n      <td>...</td>\n      <td>...</td>\n      <td>...</td>\n    </tr>\n    <tr>\n      <th>4999_24-01-2015</th>\n      <td>0</td>\n      <td>0</td>\n      <td>0</td>\n      <td>0</td>\n      <td>0</td>\n      <td>0</td>\n      <td>0</td>\n      <td>0</td>\n      <td>0</td>\n      <td>1</td>\n      <td>...</td>\n      <td>0</td>\n      <td>0</td>\n      <td>0</td>\n      <td>0</td>\n      <td>0</td>\n      <td>0</td>\n      <td>0</td>\n      <td>0</td>\n      <td>1</td>\n      <td>0</td>\n    </tr>\n    <tr>\n      <th>4999_26-12-2015</th>\n      <td>0</td>\n      <td>0</td>\n      <td>0</td>\n      <td>0</td>\n      <td>0</td>\n      <td>0</td>\n      <td>0</td>\n      <td>0</td>\n      <td>0</td>\n      <td>0</td>\n      <td>...</td>\n      <td>0</td>\n      <td>0</td>\n      <td>0</td>\n      <td>0</td>\n      <td>0</td>\n      <td>0</td>\n      <td>0</td>\n      <td>0</td>\n      <td>0</td>\n      <td>0</td>\n    </tr>\n    <tr>\n      <th>5000_09-03-2014</th>\n      <td>0</td>\n      <td>0</td>\n      <td>0</td>\n      <td>0</td>\n      <td>0</td>\n      <td>0</td>\n      <td>0</td>\n      <td>0</td>\n      <td>0</td>\n      <td>0</td>\n      <td>...</td>\n      <td>0</td>\n      <td>0</td>\n      <td>0</td>\n      <td>0</td>\n      <td>0</td>\n      <td>0</td>\n      <td>0</td>\n      <td>0</td>\n      <td>0</td>\n      <td>0</td>\n    </tr>\n    <tr>\n      <th>5000_10-02-2015</th>\n      <td>0</td>\n      <td>0</td>\n      <td>0</td>\n      <td>0</td>\n      <td>0</td>\n      <td>0</td>\n      <td>0</td>\n      <td>0</td>\n      <td>0</td>\n      <td>0</td>\n      <td>...</td>\n      <td>0</td>\n      <td>0</td>\n      <td>0</td>\n      <td>0</td>\n      <td>0</td>\n      <td>0</td>\n      <td>0</td>\n      <td>0</td>\n      <td>0</td>\n      <td>0</td>\n    </tr>\n    <tr>\n      <th>5000_16-11-2014</th>\n      <td>0</td>\n      <td>0</td>\n      <td>0</td>\n      <td>0</td>\n      <td>0</td>\n      <td>0</td>\n      <td>0</td>\n      <td>0</td>\n      <td>0</td>\n      <td>0</td>\n      <td>...</td>\n      <td>0</td>\n      <td>0</td>\n      <td>0</td>\n      <td>0</td>\n      <td>0</td>\n      <td>0</td>\n      <td>0</td>\n      <td>0</td>\n      <td>0</td>\n      <td>0</td>\n    </tr>\n  </tbody>\n</table>\n<p>14963 rows × 167 columns</p>\n</div>"
     },
     "execution_count": 32,
     "metadata": {},
     "output_type": "execute_result"
    }
   ],
   "source": [
    "def encode(item_freq):\n",
    "    res = 0\n",
    "    if item_freq > 0:\n",
    "        res = 1\n",
    "    return res\n",
    "\n",
    "basket_input = df2.applymap(encode)\n",
    "basket_input"
   ],
   "metadata": {
    "collapsed": false,
    "ExecuteTime": {
     "start_time": "2024-02-28T02:43:38.528901Z",
     "end_time": "2024-02-28T02:43:40.581462Z"
    }
   }
  },
  {
   "cell_type": "markdown",
   "source": [
    "Применим алгоритм Apriori"
   ],
   "metadata": {
    "collapsed": false
   }
  },
  {
   "cell_type": "code",
   "execution_count": 33,
   "outputs": [
    {
     "name": "stderr",
     "output_type": "stream",
     "text": [
      "C:\\Users\\Stas\\PycharmProjects\\advanced-python\\venv\\Lib\\site-packages\\mlxtend\\frequent_patterns\\fpcommon.py:109: DeprecationWarning: DataFrames with non-bool types result in worse computationalperformance and their support might be discontinued in the future.Please use a DataFrame with bool type\n",
      "  warnings.warn(\n"
     ]
    },
    {
     "data": {
      "text/plain": "          antecedents         consequents  antecedent support  \\\n0          (UHT-milk)     (bottled water)            0.021386   \n1     (bottled water)          (UHT-milk)            0.060683   \n2          (UHT-milk)  (other vegetables)            0.021386   \n3  (other vegetables)          (UHT-milk)            0.122101   \n4          (UHT-milk)           (sausage)            0.021386   \n\n   consequent support   support  confidence      lift  leverage  conviction  \\\n0            0.060683  0.001069    0.050000  0.823954 -0.000228    0.988755   \n1            0.021386  0.001069    0.017621  0.823954 -0.000228    0.996168   \n2            0.122101  0.002139    0.100000  0.818993 -0.000473    0.975443   \n3            0.021386  0.002139    0.017515  0.818993 -0.000473    0.996060   \n4            0.060349  0.001136    0.053125  0.880298 -0.000154    0.992371   \n\n   zhangs_metric  \n0      -0.179204  \n1      -0.185312  \n2      -0.184234  \n3      -0.201119  \n4      -0.121998  ",
      "text/html": "<div>\n<style scoped>\n    .dataframe tbody tr th:only-of-type {\n        vertical-align: middle;\n    }\n\n    .dataframe tbody tr th {\n        vertical-align: top;\n    }\n\n    .dataframe thead th {\n        text-align: right;\n    }\n</style>\n<table border=\"1\" class=\"dataframe\">\n  <thead>\n    <tr style=\"text-align: right;\">\n      <th></th>\n      <th>antecedents</th>\n      <th>consequents</th>\n      <th>antecedent support</th>\n      <th>consequent support</th>\n      <th>support</th>\n      <th>confidence</th>\n      <th>lift</th>\n      <th>leverage</th>\n      <th>conviction</th>\n      <th>zhangs_metric</th>\n    </tr>\n  </thead>\n  <tbody>\n    <tr>\n      <th>0</th>\n      <td>(UHT-milk)</td>\n      <td>(bottled water)</td>\n      <td>0.021386</td>\n      <td>0.060683</td>\n      <td>0.001069</td>\n      <td>0.050000</td>\n      <td>0.823954</td>\n      <td>-0.000228</td>\n      <td>0.988755</td>\n      <td>-0.179204</td>\n    </tr>\n    <tr>\n      <th>1</th>\n      <td>(bottled water)</td>\n      <td>(UHT-milk)</td>\n      <td>0.060683</td>\n      <td>0.021386</td>\n      <td>0.001069</td>\n      <td>0.017621</td>\n      <td>0.823954</td>\n      <td>-0.000228</td>\n      <td>0.996168</td>\n      <td>-0.185312</td>\n    </tr>\n    <tr>\n      <th>2</th>\n      <td>(UHT-milk)</td>\n      <td>(other vegetables)</td>\n      <td>0.021386</td>\n      <td>0.122101</td>\n      <td>0.002139</td>\n      <td>0.100000</td>\n      <td>0.818993</td>\n      <td>-0.000473</td>\n      <td>0.975443</td>\n      <td>-0.184234</td>\n    </tr>\n    <tr>\n      <th>3</th>\n      <td>(other vegetables)</td>\n      <td>(UHT-milk)</td>\n      <td>0.122101</td>\n      <td>0.021386</td>\n      <td>0.002139</td>\n      <td>0.017515</td>\n      <td>0.818993</td>\n      <td>-0.000473</td>\n      <td>0.996060</td>\n      <td>-0.201119</td>\n    </tr>\n    <tr>\n      <th>4</th>\n      <td>(UHT-milk)</td>\n      <td>(sausage)</td>\n      <td>0.021386</td>\n      <td>0.060349</td>\n      <td>0.001136</td>\n      <td>0.053125</td>\n      <td>0.880298</td>\n      <td>-0.000154</td>\n      <td>0.992371</td>\n      <td>-0.121998</td>\n    </tr>\n  </tbody>\n</table>\n</div>"
     },
     "execution_count": 33,
     "metadata": {},
     "output_type": "execute_result"
    }
   ],
   "source": [
    "from mlxtend.frequent_patterns import apriori\n",
    "from mlxtend.frequent_patterns import association_rules\n",
    "\n",
    "frequent_itemsets = apriori(basket_input, min_support=0.001, use_colnames=True)\n",
    "rules = association_rules(frequent_itemsets, metric=\"lift\")\n",
    "\n",
    "rules.head()"
   ],
   "metadata": {
    "collapsed": false,
    "ExecuteTime": {
     "start_time": "2024-02-28T02:43:40.578471Z",
     "end_time": "2024-02-28T02:43:57.605095Z"
    }
   }
  },
  {
   "cell_type": "markdown",
   "source": [
    "Остортируем значения по поддержке, уверенности и лифту"
   ],
   "metadata": {
    "collapsed": false
   }
  },
  {
   "cell_type": "code",
   "execution_count": 34,
   "outputs": [
    {
     "data": {
      "text/plain": "            antecedents         consequents  antecedent support  \\\n623        (rolls/buns)        (whole milk)            0.110005   \n622        (whole milk)        (rolls/buns)            0.157923   \n695            (yogurt)        (whole milk)            0.085879   \n694        (whole milk)            (yogurt)            0.157923   \n551              (soda)  (other vegetables)            0.097106   \n550  (other vegetables)              (soda)            0.122101   \n649           (sausage)        (whole milk)            0.060349   \n648        (whole milk)           (sausage)            0.157923   \n\n     consequent support   support  confidence      lift  leverage  conviction  \\\n623            0.157923  0.013968    0.126974  0.804028 -0.003404    0.964550   \n622            0.110005  0.013968    0.088447  0.804028 -0.003404    0.976350   \n695            0.157923  0.011161    0.129961  0.822940 -0.002401    0.967861   \n694            0.085879  0.011161    0.070673  0.822940 -0.002401    0.983638   \n551            0.122101  0.009691    0.099794  0.817302 -0.002166    0.975219   \n550            0.097106  0.009691    0.079365  0.817302 -0.002166    0.980729   \n649            0.157923  0.008955    0.148394  0.939663 -0.000575    0.988811   \n648            0.060349  0.008955    0.056708  0.939663 -0.000575    0.996140   \n\n     zhangs_metric  \n623      -0.214986  \n622      -0.224474  \n695      -0.190525  \n694      -0.203508  \n551      -0.198448  \n550      -0.202951  \n649      -0.063965  \n648      -0.070851  ",
      "text/html": "<div>\n<style scoped>\n    .dataframe tbody tr th:only-of-type {\n        vertical-align: middle;\n    }\n\n    .dataframe tbody tr th {\n        vertical-align: top;\n    }\n\n    .dataframe thead th {\n        text-align: right;\n    }\n</style>\n<table border=\"1\" class=\"dataframe\">\n  <thead>\n    <tr style=\"text-align: right;\">\n      <th></th>\n      <th>antecedents</th>\n      <th>consequents</th>\n      <th>antecedent support</th>\n      <th>consequent support</th>\n      <th>support</th>\n      <th>confidence</th>\n      <th>lift</th>\n      <th>leverage</th>\n      <th>conviction</th>\n      <th>zhangs_metric</th>\n    </tr>\n  </thead>\n  <tbody>\n    <tr>\n      <th>623</th>\n      <td>(rolls/buns)</td>\n      <td>(whole milk)</td>\n      <td>0.110005</td>\n      <td>0.157923</td>\n      <td>0.013968</td>\n      <td>0.126974</td>\n      <td>0.804028</td>\n      <td>-0.003404</td>\n      <td>0.964550</td>\n      <td>-0.214986</td>\n    </tr>\n    <tr>\n      <th>622</th>\n      <td>(whole milk)</td>\n      <td>(rolls/buns)</td>\n      <td>0.157923</td>\n      <td>0.110005</td>\n      <td>0.013968</td>\n      <td>0.088447</td>\n      <td>0.804028</td>\n      <td>-0.003404</td>\n      <td>0.976350</td>\n      <td>-0.224474</td>\n    </tr>\n    <tr>\n      <th>695</th>\n      <td>(yogurt)</td>\n      <td>(whole milk)</td>\n      <td>0.085879</td>\n      <td>0.157923</td>\n      <td>0.011161</td>\n      <td>0.129961</td>\n      <td>0.822940</td>\n      <td>-0.002401</td>\n      <td>0.967861</td>\n      <td>-0.190525</td>\n    </tr>\n    <tr>\n      <th>694</th>\n      <td>(whole milk)</td>\n      <td>(yogurt)</td>\n      <td>0.157923</td>\n      <td>0.085879</td>\n      <td>0.011161</td>\n      <td>0.070673</td>\n      <td>0.822940</td>\n      <td>-0.002401</td>\n      <td>0.983638</td>\n      <td>-0.203508</td>\n    </tr>\n    <tr>\n      <th>551</th>\n      <td>(soda)</td>\n      <td>(other vegetables)</td>\n      <td>0.097106</td>\n      <td>0.122101</td>\n      <td>0.009691</td>\n      <td>0.099794</td>\n      <td>0.817302</td>\n      <td>-0.002166</td>\n      <td>0.975219</td>\n      <td>-0.198448</td>\n    </tr>\n    <tr>\n      <th>550</th>\n      <td>(other vegetables)</td>\n      <td>(soda)</td>\n      <td>0.122101</td>\n      <td>0.097106</td>\n      <td>0.009691</td>\n      <td>0.079365</td>\n      <td>0.817302</td>\n      <td>-0.002166</td>\n      <td>0.980729</td>\n      <td>-0.202951</td>\n    </tr>\n    <tr>\n      <th>649</th>\n      <td>(sausage)</td>\n      <td>(whole milk)</td>\n      <td>0.060349</td>\n      <td>0.157923</td>\n      <td>0.008955</td>\n      <td>0.148394</td>\n      <td>0.939663</td>\n      <td>-0.000575</td>\n      <td>0.988811</td>\n      <td>-0.063965</td>\n    </tr>\n    <tr>\n      <th>648</th>\n      <td>(whole milk)</td>\n      <td>(sausage)</td>\n      <td>0.157923</td>\n      <td>0.060349</td>\n      <td>0.008955</td>\n      <td>0.056708</td>\n      <td>0.939663</td>\n      <td>-0.000575</td>\n      <td>0.996140</td>\n      <td>-0.070851</td>\n    </tr>\n  </tbody>\n</table>\n</div>"
     },
     "execution_count": 34,
     "metadata": {},
     "output_type": "execute_result"
    }
   ],
   "source": [
    "rules.sort_values([\"support\", \"confidence\", \"lift\"], ascending=False).head(8)"
   ],
   "metadata": {
    "collapsed": false,
    "ExecuteTime": {
     "start_time": "2024-02-28T02:43:57.623794Z",
     "end_time": "2024-02-28T02:43:57.763918Z"
    }
   }
  }
 ],
 "metadata": {
  "kernelspec": {
   "display_name": "Python 3",
   "language": "python",
   "name": "python3"
  },
  "language_info": {
   "codemirror_mode": {
    "name": "ipython",
    "version": 2
   },
   "file_extension": ".py",
   "mimetype": "text/x-python",
   "name": "python",
   "nbconvert_exporter": "python",
   "pygments_lexer": "ipython2",
   "version": "2.7.6"
  }
 },
 "nbformat": 4,
 "nbformat_minor": 5
}
