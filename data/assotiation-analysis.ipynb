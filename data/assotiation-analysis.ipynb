{
 "cells": [
  {
   "cell_type": "code",
   "execution_count": 34,
   "id": "initial_id",
   "metadata": {
    "collapsed": true,
    "ExecuteTime": {
     "end_time": "2024-02-27T19:56:05.198061300Z",
     "start_time": "2024-02-27T19:56:05.160377400Z"
    }
   },
   "outputs": [],
   "source": [
    "import pandas as pd\n",
    "import numpy as np\n",
    "import matplotlib.pyplot as plt\n",
    "import seaborn as sns\n",
    "\n",
    "plt.rcParams.update({\n",
    "    'font.size': 12,\n",
    "    'axes.labelsize': 'large',\n",
    "    'axes.titlesize': 'x-large',\n",
    "    'xtick.labelsize': 'medium',\n",
    "    'ytick.labelsize': 'medium',\n",
    "    'axes.facecolor': 'black',\n",
    "    'axes.edgecolor': 'white',\n",
    "    'axes.labelcolor': 'white',\n",
    "    'xtick.color': 'white',\n",
    "    'ytick.color': 'white',\n",
    "    'figure.facecolor': 'black',\n",
    "    'figure.edgecolor': 'black',\n",
    "    'savefig.facecolor': 'black',\n",
    "    'savefig.edgecolor': 'black',\n",
    "    'text.color': 'white',\n",
    "})"
   ]
  },
  {
   "cell_type": "markdown",
   "source": [
    "Определить предметную область\n",
    "Сгенерировать набор данных\n",
    "Найти правила\n",
    "поддержка (support)\n",
    "уверенность (confidence)\n",
    "лифт (lift)\n",
    "рфчаг (leverage)\n",
    "убежденность (conv)\n",
    "\n"
   ],
   "metadata": {
    "collapsed": false
   },
   "id": "aa7bde6da51d265d"
  },
  {
   "cell_type": "code",
   "execution_count": 35,
   "outputs": [
    {
     "data": {
      "text/plain": "  InvoiceNo StockCode                          Description  Quantity  \\\n0    536365    85123A   WHITE HANGING HEART T-LIGHT HOLDER         6   \n1    536365     71053                  WHITE METAL LANTERN         6   \n2    536365    84406B       CREAM CUPID HEARTS COAT HANGER         8   \n3    536365    84029G  KNITTED UNION FLAG HOT WATER BOTTLE         6   \n4    536365    84029E       RED WOOLLY HOTTIE WHITE HEART.         6   \n\n           InvoiceDate  UnitPrice  CustomerID         Country  \n0  2010-12-01 08:26:00       2.55       17850  United Kingdom  \n1  2010-12-01 08:26:00       3.39       17850  United Kingdom  \n2  2010-12-01 08:26:00       2.75       17850  United Kingdom  \n3  2010-12-01 08:26:00       3.39       17850  United Kingdom  \n4  2010-12-01 08:26:00       3.39       17850  United Kingdom  ",
      "text/html": "<div>\n<style scoped>\n    .dataframe tbody tr th:only-of-type {\n        vertical-align: middle;\n    }\n\n    .dataframe tbody tr th {\n        vertical-align: top;\n    }\n\n    .dataframe thead th {\n        text-align: right;\n    }\n</style>\n<table border=\"1\" class=\"dataframe\">\n  <thead>\n    <tr style=\"text-align: right;\">\n      <th></th>\n      <th>InvoiceNo</th>\n      <th>StockCode</th>\n      <th>Description</th>\n      <th>Quantity</th>\n      <th>InvoiceDate</th>\n      <th>UnitPrice</th>\n      <th>CustomerID</th>\n      <th>Country</th>\n    </tr>\n  </thead>\n  <tbody>\n    <tr>\n      <th>0</th>\n      <td>536365</td>\n      <td>85123A</td>\n      <td>WHITE HANGING HEART T-LIGHT HOLDER</td>\n      <td>6</td>\n      <td>2010-12-01 08:26:00</td>\n      <td>2.55</td>\n      <td>17850</td>\n      <td>United Kingdom</td>\n    </tr>\n    <tr>\n      <th>1</th>\n      <td>536365</td>\n      <td>71053</td>\n      <td>WHITE METAL LANTERN</td>\n      <td>6</td>\n      <td>2010-12-01 08:26:00</td>\n      <td>3.39</td>\n      <td>17850</td>\n      <td>United Kingdom</td>\n    </tr>\n    <tr>\n      <th>2</th>\n      <td>536365</td>\n      <td>84406B</td>\n      <td>CREAM CUPID HEARTS COAT HANGER</td>\n      <td>8</td>\n      <td>2010-12-01 08:26:00</td>\n      <td>2.75</td>\n      <td>17850</td>\n      <td>United Kingdom</td>\n    </tr>\n    <tr>\n      <th>3</th>\n      <td>536365</td>\n      <td>84029G</td>\n      <td>KNITTED UNION FLAG HOT WATER BOTTLE</td>\n      <td>6</td>\n      <td>2010-12-01 08:26:00</td>\n      <td>3.39</td>\n      <td>17850</td>\n      <td>United Kingdom</td>\n    </tr>\n    <tr>\n      <th>4</th>\n      <td>536365</td>\n      <td>84029E</td>\n      <td>RED WOOLLY HOTTIE WHITE HEART.</td>\n      <td>6</td>\n      <td>2010-12-01 08:26:00</td>\n      <td>3.39</td>\n      <td>17850</td>\n      <td>United Kingdom</td>\n    </tr>\n  </tbody>\n</table>\n</div>"
     },
     "execution_count": 35,
     "metadata": {},
     "output_type": "execute_result"
    }
   ],
   "source": [
    "data = pd.read_csv('csv/online_retail.csv')\n",
    "data.head()"
   ],
   "metadata": {
    "collapsed": false,
    "ExecuteTime": {
     "end_time": "2024-02-27T19:56:06.188873Z",
     "start_time": "2024-02-27T19:56:05.197063Z"
    }
   },
   "id": "c11a7784f2b0f37"
  },
  {
   "cell_type": "code",
   "execution_count": 36,
   "outputs": [
    {
     "data": {
      "text/plain": "Description\nWHITE HANGING HEART T-LIGHT HOLDER     2369\nREGENCY CAKESTAND 3 TIER               2200\nJUMBO BAG RED RETROSPOT                2159\nPARTY BUNTING                          1727\nLUNCH BAG RED RETROSPOT                1638\n                                       ... \nMissing                                   1\nhistoric computer difference?....se       1\nDUSTY PINK CHRISTMAS TREE 30CM            1\nWRAP BLUE RUSSIAN FOLKART                 1\nPINK BERTIE MOBILE PHONE CHARM            1\nName: count, Length: 4223, dtype: int64"
     },
     "execution_count": 36,
     "metadata": {},
     "output_type": "execute_result"
    }
   ],
   "source": [
    "data['Description'].value_counts()"
   ],
   "metadata": {
    "collapsed": false,
    "ExecuteTime": {
     "end_time": "2024-02-27T19:56:06.363606800Z",
     "start_time": "2024-02-27T19:56:06.186873300Z"
    }
   },
   "id": "c66f22067d9c7b22"
  },
  {
   "cell_type": "code",
   "execution_count": 37,
   "outputs": [
    {
     "data": {
      "text/plain": "       InvoiceNo StockCode                   Description  Quantity  \\\n622       536414     22139                           NaN        56   \n1970      536545     21134                           NaN         1   \n1971      536546     22145                           NaN         1   \n1972      536547     37509                           NaN         1   \n1987      536549    85226A                           NaN         1   \n...          ...       ...                           ...       ...   \n536981    581234     72817                           NaN        27   \n538504    581406    46000M  POLYESTER FILLER PAD 45x45cm       240   \n538505    581406    46000S  POLYESTER FILLER PAD 40x40cm       300   \n538554    581408     85175                           NaN        20   \n538919    581422     23169                       smashed      -235   \n\n                InvoiceDate  UnitPrice  CustomerID         Country  \n622     2010-12-01 11:52:00        0.0       15287  United Kingdom  \n1970    2010-12-01 14:32:00        0.0       15287  United Kingdom  \n1971    2010-12-01 14:33:00        0.0       15287  United Kingdom  \n1972    2010-12-01 14:33:00        0.0       15287  United Kingdom  \n1987    2010-12-01 14:34:00        0.0       15287  United Kingdom  \n...                     ...        ...         ...             ...  \n536981  2011-12-08 10:33:00        0.0       15287  United Kingdom  \n538504  2011-12-08 13:58:00        0.0       15287  United Kingdom  \n538505  2011-12-08 13:58:00        0.0       15287  United Kingdom  \n538554  2011-12-08 14:06:00        0.0       15287  United Kingdom  \n538919  2011-12-08 15:24:00        0.0       15287  United Kingdom  \n\n[2517 rows x 8 columns]",
      "text/html": "<div>\n<style scoped>\n    .dataframe tbody tr th:only-of-type {\n        vertical-align: middle;\n    }\n\n    .dataframe tbody tr th {\n        vertical-align: top;\n    }\n\n    .dataframe thead th {\n        text-align: right;\n    }\n</style>\n<table border=\"1\" class=\"dataframe\">\n  <thead>\n    <tr style=\"text-align: right;\">\n      <th></th>\n      <th>InvoiceNo</th>\n      <th>StockCode</th>\n      <th>Description</th>\n      <th>Quantity</th>\n      <th>InvoiceDate</th>\n      <th>UnitPrice</th>\n      <th>CustomerID</th>\n      <th>Country</th>\n    </tr>\n  </thead>\n  <tbody>\n    <tr>\n      <th>622</th>\n      <td>536414</td>\n      <td>22139</td>\n      <td>NaN</td>\n      <td>56</td>\n      <td>2010-12-01 11:52:00</td>\n      <td>0.0</td>\n      <td>15287</td>\n      <td>United Kingdom</td>\n    </tr>\n    <tr>\n      <th>1970</th>\n      <td>536545</td>\n      <td>21134</td>\n      <td>NaN</td>\n      <td>1</td>\n      <td>2010-12-01 14:32:00</td>\n      <td>0.0</td>\n      <td>15287</td>\n      <td>United Kingdom</td>\n    </tr>\n    <tr>\n      <th>1971</th>\n      <td>536546</td>\n      <td>22145</td>\n      <td>NaN</td>\n      <td>1</td>\n      <td>2010-12-01 14:33:00</td>\n      <td>0.0</td>\n      <td>15287</td>\n      <td>United Kingdom</td>\n    </tr>\n    <tr>\n      <th>1972</th>\n      <td>536547</td>\n      <td>37509</td>\n      <td>NaN</td>\n      <td>1</td>\n      <td>2010-12-01 14:33:00</td>\n      <td>0.0</td>\n      <td>15287</td>\n      <td>United Kingdom</td>\n    </tr>\n    <tr>\n      <th>1987</th>\n      <td>536549</td>\n      <td>85226A</td>\n      <td>NaN</td>\n      <td>1</td>\n      <td>2010-12-01 14:34:00</td>\n      <td>0.0</td>\n      <td>15287</td>\n      <td>United Kingdom</td>\n    </tr>\n    <tr>\n      <th>...</th>\n      <td>...</td>\n      <td>...</td>\n      <td>...</td>\n      <td>...</td>\n      <td>...</td>\n      <td>...</td>\n      <td>...</td>\n      <td>...</td>\n    </tr>\n    <tr>\n      <th>536981</th>\n      <td>581234</td>\n      <td>72817</td>\n      <td>NaN</td>\n      <td>27</td>\n      <td>2011-12-08 10:33:00</td>\n      <td>0.0</td>\n      <td>15287</td>\n      <td>United Kingdom</td>\n    </tr>\n    <tr>\n      <th>538504</th>\n      <td>581406</td>\n      <td>46000M</td>\n      <td>POLYESTER FILLER PAD 45x45cm</td>\n      <td>240</td>\n      <td>2011-12-08 13:58:00</td>\n      <td>0.0</td>\n      <td>15287</td>\n      <td>United Kingdom</td>\n    </tr>\n    <tr>\n      <th>538505</th>\n      <td>581406</td>\n      <td>46000S</td>\n      <td>POLYESTER FILLER PAD 40x40cm</td>\n      <td>300</td>\n      <td>2011-12-08 13:58:00</td>\n      <td>0.0</td>\n      <td>15287</td>\n      <td>United Kingdom</td>\n    </tr>\n    <tr>\n      <th>538554</th>\n      <td>581408</td>\n      <td>85175</td>\n      <td>NaN</td>\n      <td>20</td>\n      <td>2011-12-08 14:06:00</td>\n      <td>0.0</td>\n      <td>15287</td>\n      <td>United Kingdom</td>\n    </tr>\n    <tr>\n      <th>538919</th>\n      <td>581422</td>\n      <td>23169</td>\n      <td>smashed</td>\n      <td>-235</td>\n      <td>2011-12-08 15:24:00</td>\n      <td>0.0</td>\n      <td>15287</td>\n      <td>United Kingdom</td>\n    </tr>\n  </tbody>\n</table>\n<p>2517 rows × 8 columns</p>\n</div>"
     },
     "execution_count": 37,
     "metadata": {},
     "output_type": "execute_result"
    }
   ],
   "source": [
    "data.loc[data['UnitPrice'] <= 0]"
   ],
   "metadata": {
    "collapsed": false,
    "ExecuteTime": {
     "end_time": "2024-02-27T19:56:06.364606900Z",
     "start_time": "2024-02-27T19:56:06.281346100Z"
    }
   },
   "id": "b5264512ca2ee5de"
  },
  {
   "cell_type": "code",
   "execution_count": 38,
   "outputs": [],
   "source": [
    "data = data[data['UnitPrice'] > 0]"
   ],
   "metadata": {
    "collapsed": false,
    "ExecuteTime": {
     "end_time": "2024-02-27T19:56:06.366606200Z",
     "start_time": "2024-02-27T19:56:06.303866400Z"
    }
   },
   "id": "d319e1f30eb83dc9"
  },
  {
   "cell_type": "code",
   "execution_count": 39,
   "outputs": [
    {
     "data": {
      "text/plain": "Empty DataFrame\nColumns: [InvoiceNo, StockCode, Description, Quantity, InvoiceDate, UnitPrice, CustomerID, Country]\nIndex: []",
      "text/html": "<div>\n<style scoped>\n    .dataframe tbody tr th:only-of-type {\n        vertical-align: middle;\n    }\n\n    .dataframe tbody tr th {\n        vertical-align: top;\n    }\n\n    .dataframe thead th {\n        text-align: right;\n    }\n</style>\n<table border=\"1\" class=\"dataframe\">\n  <thead>\n    <tr style=\"text-align: right;\">\n      <th></th>\n      <th>InvoiceNo</th>\n      <th>StockCode</th>\n      <th>Description</th>\n      <th>Quantity</th>\n      <th>InvoiceDate</th>\n      <th>UnitPrice</th>\n      <th>CustomerID</th>\n      <th>Country</th>\n    </tr>\n  </thead>\n  <tbody>\n  </tbody>\n</table>\n</div>"
     },
     "execution_count": 39,
     "metadata": {},
     "output_type": "execute_result"
    }
   ],
   "source": [
    "data[data['UnitPrice']<0]   "
   ],
   "metadata": {
    "collapsed": false,
    "ExecuteTime": {
     "end_time": "2024-02-27T19:56:06.380416500Z",
     "start_time": "2024-02-27T19:56:06.357609Z"
    }
   },
   "id": "9d39a24d443b701a"
  },
  {
   "cell_type": "code",
   "execution_count": 40,
   "outputs": [
    {
     "data": {
      "text/plain": "Transaction\nBought    530104\nSold        9288\nName: count, dtype: int64"
     },
     "execution_count": 40,
     "metadata": {},
     "output_type": "execute_result"
    }
   ],
   "source": [
    "data['Transaction'] = data['Quantity'].apply(lambda x: 'Sold' if x < 0 else 'Bought')\n",
    "data['Transaction'].value_counts()"
   ],
   "metadata": {
    "collapsed": false,
    "ExecuteTime": {
     "end_time": "2024-02-27T19:56:06.599339700Z",
     "start_time": "2024-02-27T19:56:06.378418500Z"
    }
   },
   "id": "ad386151cf4a6ec8"
  },
  {
   "cell_type": "code",
   "execution_count": 41,
   "outputs": [],
   "source": [
    "data['InvoiceDate'] = pd.to_datetime(data['InvoiceDate'])"
   ],
   "metadata": {
    "collapsed": false,
    "ExecuteTime": {
     "end_time": "2024-02-27T19:56:06.666587800Z",
     "start_time": "2024-02-27T19:56:06.514340600Z"
    }
   },
   "id": "6c5de0d15f6e1a2"
  },
  {
   "cell_type": "code",
   "execution_count": 42,
   "outputs": [
    {
     "data": {
      "text/plain": "       InvoiceNo StockCode                          Description  Quantity  \\\n0         536365    85123A   WHITE HANGING HEART T-LIGHT HOLDER         6   \n1         536365     71053                  WHITE METAL LANTERN         6   \n2         536365    84406B       CREAM CUPID HEARTS COAT HANGER         8   \n3         536365    84029G  KNITTED UNION FLAG HOT WATER BOTTLE         6   \n4         536365    84029E       RED WOOLLY HOTTIE WHITE HEART.         6   \n...          ...       ...                                  ...       ...   \n541904    581587     22613          PACK OF 20 SPACEBOY NAPKINS        12   \n541905    581587     22899         CHILDREN'S APRON DOLLY GIRL          6   \n541906    581587     23254        CHILDRENS CUTLERY DOLLY GIRL          4   \n541907    581587     23255      CHILDRENS CUTLERY CIRCUS PARADE         4   \n541908    581587     22138        BAKING SET 9 PIECE RETROSPOT          3   \n\n               InvoiceDate  UnitPrice  CustomerID         Country Transaction  \n0      2010-12-01 08:26:00       2.55       17850  United Kingdom      Bought  \n1      2010-12-01 08:26:00       3.39       17850  United Kingdom      Bought  \n2      2010-12-01 08:26:00       2.75       17850  United Kingdom      Bought  \n3      2010-12-01 08:26:00       3.39       17850  United Kingdom      Bought  \n4      2010-12-01 08:26:00       3.39       17850  United Kingdom      Bought  \n...                    ...        ...         ...             ...         ...  \n541904 2011-12-09 12:50:00       0.85       12680          France      Bought  \n541905 2011-12-09 12:50:00       2.10       12680          France      Bought  \n541906 2011-12-09 12:50:00       4.15       12680          France      Bought  \n541907 2011-12-09 12:50:00       4.15       12680          France      Bought  \n541908 2011-12-09 12:50:00       4.95       12680          France      Bought  \n\n[539392 rows x 9 columns]",
      "text/html": "<div>\n<style scoped>\n    .dataframe tbody tr th:only-of-type {\n        vertical-align: middle;\n    }\n\n    .dataframe tbody tr th {\n        vertical-align: top;\n    }\n\n    .dataframe thead th {\n        text-align: right;\n    }\n</style>\n<table border=\"1\" class=\"dataframe\">\n  <thead>\n    <tr style=\"text-align: right;\">\n      <th></th>\n      <th>InvoiceNo</th>\n      <th>StockCode</th>\n      <th>Description</th>\n      <th>Quantity</th>\n      <th>InvoiceDate</th>\n      <th>UnitPrice</th>\n      <th>CustomerID</th>\n      <th>Country</th>\n      <th>Transaction</th>\n    </tr>\n  </thead>\n  <tbody>\n    <tr>\n      <th>0</th>\n      <td>536365</td>\n      <td>85123A</td>\n      <td>WHITE HANGING HEART T-LIGHT HOLDER</td>\n      <td>6</td>\n      <td>2010-12-01 08:26:00</td>\n      <td>2.55</td>\n      <td>17850</td>\n      <td>United Kingdom</td>\n      <td>Bought</td>\n    </tr>\n    <tr>\n      <th>1</th>\n      <td>536365</td>\n      <td>71053</td>\n      <td>WHITE METAL LANTERN</td>\n      <td>6</td>\n      <td>2010-12-01 08:26:00</td>\n      <td>3.39</td>\n      <td>17850</td>\n      <td>United Kingdom</td>\n      <td>Bought</td>\n    </tr>\n    <tr>\n      <th>2</th>\n      <td>536365</td>\n      <td>84406B</td>\n      <td>CREAM CUPID HEARTS COAT HANGER</td>\n      <td>8</td>\n      <td>2010-12-01 08:26:00</td>\n      <td>2.75</td>\n      <td>17850</td>\n      <td>United Kingdom</td>\n      <td>Bought</td>\n    </tr>\n    <tr>\n      <th>3</th>\n      <td>536365</td>\n      <td>84029G</td>\n      <td>KNITTED UNION FLAG HOT WATER BOTTLE</td>\n      <td>6</td>\n      <td>2010-12-01 08:26:00</td>\n      <td>3.39</td>\n      <td>17850</td>\n      <td>United Kingdom</td>\n      <td>Bought</td>\n    </tr>\n    <tr>\n      <th>4</th>\n      <td>536365</td>\n      <td>84029E</td>\n      <td>RED WOOLLY HOTTIE WHITE HEART.</td>\n      <td>6</td>\n      <td>2010-12-01 08:26:00</td>\n      <td>3.39</td>\n      <td>17850</td>\n      <td>United Kingdom</td>\n      <td>Bought</td>\n    </tr>\n    <tr>\n      <th>...</th>\n      <td>...</td>\n      <td>...</td>\n      <td>...</td>\n      <td>...</td>\n      <td>...</td>\n      <td>...</td>\n      <td>...</td>\n      <td>...</td>\n      <td>...</td>\n    </tr>\n    <tr>\n      <th>541904</th>\n      <td>581587</td>\n      <td>22613</td>\n      <td>PACK OF 20 SPACEBOY NAPKINS</td>\n      <td>12</td>\n      <td>2011-12-09 12:50:00</td>\n      <td>0.85</td>\n      <td>12680</td>\n      <td>France</td>\n      <td>Bought</td>\n    </tr>\n    <tr>\n      <th>541905</th>\n      <td>581587</td>\n      <td>22899</td>\n      <td>CHILDREN'S APRON DOLLY GIRL</td>\n      <td>6</td>\n      <td>2011-12-09 12:50:00</td>\n      <td>2.10</td>\n      <td>12680</td>\n      <td>France</td>\n      <td>Bought</td>\n    </tr>\n    <tr>\n      <th>541906</th>\n      <td>581587</td>\n      <td>23254</td>\n      <td>CHILDRENS CUTLERY DOLLY GIRL</td>\n      <td>4</td>\n      <td>2011-12-09 12:50:00</td>\n      <td>4.15</td>\n      <td>12680</td>\n      <td>France</td>\n      <td>Bought</td>\n    </tr>\n    <tr>\n      <th>541907</th>\n      <td>581587</td>\n      <td>23255</td>\n      <td>CHILDRENS CUTLERY CIRCUS PARADE</td>\n      <td>4</td>\n      <td>2011-12-09 12:50:00</td>\n      <td>4.15</td>\n      <td>12680</td>\n      <td>France</td>\n      <td>Bought</td>\n    </tr>\n    <tr>\n      <th>541908</th>\n      <td>581587</td>\n      <td>22138</td>\n      <td>BAKING SET 9 PIECE RETROSPOT</td>\n      <td>3</td>\n      <td>2011-12-09 12:50:00</td>\n      <td>4.95</td>\n      <td>12680</td>\n      <td>France</td>\n      <td>Bought</td>\n    </tr>\n  </tbody>\n</table>\n<p>539392 rows × 9 columns</p>\n</div>"
     },
     "execution_count": 42,
     "metadata": {},
     "output_type": "execute_result"
    }
   ],
   "source": [
    "data"
   ],
   "metadata": {
    "collapsed": false,
    "ExecuteTime": {
     "end_time": "2024-02-27T19:56:06.692296400Z",
     "start_time": "2024-02-27T19:56:06.650588700Z"
    }
   },
   "id": "20e96c6485b23dad"
  },
  {
   "cell_type": "code",
   "execution_count": 43,
   "outputs": [
    {
     "data": {
      "text/plain": "CustomerID\n15287    418230\n14646    196143\n12415     76946\n14911     76930\n17450     69029\n18102     64122\n17511     63012\n13694     61803\n14298     58021\n14156     57025\nName: Quantity, dtype: int64"
     },
     "execution_count": 43,
     "metadata": {},
     "output_type": "execute_result"
    }
   ],
   "source": [
    "customer_totals = data.groupby('CustomerID')['Quantity'].sum()\n",
    "sorted_totals = customer_totals.sort_values(ascending=False)\n",
    "top_customers = sorted_totals.head(10)\n",
    "top_customers"
   ],
   "metadata": {
    "collapsed": false,
    "ExecuteTime": {
     "end_time": "2024-02-27T19:56:06.798606Z",
     "start_time": "2024-02-27T19:56:06.676299500Z"
    }
   },
   "id": "a77f14e0bcbf568f"
  },
  {
   "cell_type": "code",
   "execution_count": null,
   "outputs": [],
   "source": [
    "data['InvoiceDate'] = pd.to_datetime(data['InvoiceDate'])\n",
    "data['Date'] = data['InvoiceDate'].dt.date\n",
    "data['Time'] = data['InvoiceDate'].dt.strftime('%H:%M:%S')\n",
    "data"
   ],
   "metadata": {
    "collapsed": false
   },
   "id": "cdec4ca6358c309f"
  },
  {
   "cell_type": "code",
   "execution_count": 49,
   "outputs": [
    {
     "data": {
      "text/plain": "       InvoiceNo StockCode                          Description  Quantity  \\\n0         536365    85123A   WHITE HANGING HEART T-LIGHT HOLDER         6   \n1         536365     71053                  WHITE METAL LANTERN         6   \n2         536365    84406B       CREAM CUPID HEARTS COAT HANGER         8   \n3         536365    84029G  KNITTED UNION FLAG HOT WATER BOTTLE         6   \n4         536365    84029E       RED WOOLLY HOTTIE WHITE HEART.         6   \n...          ...       ...                                  ...       ...   \n541904    581587     22613          PACK OF 20 SPACEBOY NAPKINS        12   \n541905    581587     22899         CHILDREN'S APRON DOLLY GIRL          6   \n541906    581587     23254        CHILDRENS CUTLERY DOLLY GIRL          4   \n541907    581587     23255      CHILDRENS CUTLERY CIRCUS PARADE         4   \n541908    581587     22138        BAKING SET 9 PIECE RETROSPOT          3   \n\n               InvoiceDate  UnitPrice  CustomerID         Country Transaction  \\\n0      2010-12-01 08:26:00       2.55       17850  United Kingdom      Bought   \n1      2010-12-01 08:26:00       3.39       17850  United Kingdom      Bought   \n2      2010-12-01 08:26:00       2.75       17850  United Kingdom      Bought   \n3      2010-12-01 08:26:00       3.39       17850  United Kingdom      Bought   \n4      2010-12-01 08:26:00       3.39       17850  United Kingdom      Bought   \n...                    ...        ...         ...             ...         ...   \n541904 2011-12-09 12:50:00       0.85       12680          France      Bought   \n541905 2011-12-09 12:50:00       2.10       12680          France      Bought   \n541906 2011-12-09 12:50:00       4.15       12680          France      Bought   \n541907 2011-12-09 12:50:00       4.15       12680          France      Bought   \n541908 2011-12-09 12:50:00       4.95       12680          France      Bought   \n\n              Date      Time Time of Day  \n0       2010-12-01  08:26:00     Morning  \n1       2010-12-01  08:26:00     Morning  \n2       2010-12-01  08:26:00     Morning  \n3       2010-12-01  08:26:00     Morning  \n4       2010-12-01  08:26:00     Morning  \n...            ...       ...         ...  \n541904  2011-12-09  12:50:00        Noon  \n541905  2011-12-09  12:50:00        Noon  \n541906  2011-12-09  12:50:00        Noon  \n541907  2011-12-09  12:50:00        Noon  \n541908  2011-12-09  12:50:00        Noon  \n\n[539392 rows x 12 columns]",
      "text/html": "<div>\n<style scoped>\n    .dataframe tbody tr th:only-of-type {\n        vertical-align: middle;\n    }\n\n    .dataframe tbody tr th {\n        vertical-align: top;\n    }\n\n    .dataframe thead th {\n        text-align: right;\n    }\n</style>\n<table border=\"1\" class=\"dataframe\">\n  <thead>\n    <tr style=\"text-align: right;\">\n      <th></th>\n      <th>InvoiceNo</th>\n      <th>StockCode</th>\n      <th>Description</th>\n      <th>Quantity</th>\n      <th>InvoiceDate</th>\n      <th>UnitPrice</th>\n      <th>CustomerID</th>\n      <th>Country</th>\n      <th>Transaction</th>\n      <th>Date</th>\n      <th>Time</th>\n      <th>Time of Day</th>\n    </tr>\n  </thead>\n  <tbody>\n    <tr>\n      <th>0</th>\n      <td>536365</td>\n      <td>85123A</td>\n      <td>WHITE HANGING HEART T-LIGHT HOLDER</td>\n      <td>6</td>\n      <td>2010-12-01 08:26:00</td>\n      <td>2.55</td>\n      <td>17850</td>\n      <td>United Kingdom</td>\n      <td>Bought</td>\n      <td>2010-12-01</td>\n      <td>08:26:00</td>\n      <td>Morning</td>\n    </tr>\n    <tr>\n      <th>1</th>\n      <td>536365</td>\n      <td>71053</td>\n      <td>WHITE METAL LANTERN</td>\n      <td>6</td>\n      <td>2010-12-01 08:26:00</td>\n      <td>3.39</td>\n      <td>17850</td>\n      <td>United Kingdom</td>\n      <td>Bought</td>\n      <td>2010-12-01</td>\n      <td>08:26:00</td>\n      <td>Morning</td>\n    </tr>\n    <tr>\n      <th>2</th>\n      <td>536365</td>\n      <td>84406B</td>\n      <td>CREAM CUPID HEARTS COAT HANGER</td>\n      <td>8</td>\n      <td>2010-12-01 08:26:00</td>\n      <td>2.75</td>\n      <td>17850</td>\n      <td>United Kingdom</td>\n      <td>Bought</td>\n      <td>2010-12-01</td>\n      <td>08:26:00</td>\n      <td>Morning</td>\n    </tr>\n    <tr>\n      <th>3</th>\n      <td>536365</td>\n      <td>84029G</td>\n      <td>KNITTED UNION FLAG HOT WATER BOTTLE</td>\n      <td>6</td>\n      <td>2010-12-01 08:26:00</td>\n      <td>3.39</td>\n      <td>17850</td>\n      <td>United Kingdom</td>\n      <td>Bought</td>\n      <td>2010-12-01</td>\n      <td>08:26:00</td>\n      <td>Morning</td>\n    </tr>\n    <tr>\n      <th>4</th>\n      <td>536365</td>\n      <td>84029E</td>\n      <td>RED WOOLLY HOTTIE WHITE HEART.</td>\n      <td>6</td>\n      <td>2010-12-01 08:26:00</td>\n      <td>3.39</td>\n      <td>17850</td>\n      <td>United Kingdom</td>\n      <td>Bought</td>\n      <td>2010-12-01</td>\n      <td>08:26:00</td>\n      <td>Morning</td>\n    </tr>\n    <tr>\n      <th>...</th>\n      <td>...</td>\n      <td>...</td>\n      <td>...</td>\n      <td>...</td>\n      <td>...</td>\n      <td>...</td>\n      <td>...</td>\n      <td>...</td>\n      <td>...</td>\n      <td>...</td>\n      <td>...</td>\n      <td>...</td>\n    </tr>\n    <tr>\n      <th>541904</th>\n      <td>581587</td>\n      <td>22613</td>\n      <td>PACK OF 20 SPACEBOY NAPKINS</td>\n      <td>12</td>\n      <td>2011-12-09 12:50:00</td>\n      <td>0.85</td>\n      <td>12680</td>\n      <td>France</td>\n      <td>Bought</td>\n      <td>2011-12-09</td>\n      <td>12:50:00</td>\n      <td>Noon</td>\n    </tr>\n    <tr>\n      <th>541905</th>\n      <td>581587</td>\n      <td>22899</td>\n      <td>CHILDREN'S APRON DOLLY GIRL</td>\n      <td>6</td>\n      <td>2011-12-09 12:50:00</td>\n      <td>2.10</td>\n      <td>12680</td>\n      <td>France</td>\n      <td>Bought</td>\n      <td>2011-12-09</td>\n      <td>12:50:00</td>\n      <td>Noon</td>\n    </tr>\n    <tr>\n      <th>541906</th>\n      <td>581587</td>\n      <td>23254</td>\n      <td>CHILDRENS CUTLERY DOLLY GIRL</td>\n      <td>4</td>\n      <td>2011-12-09 12:50:00</td>\n      <td>4.15</td>\n      <td>12680</td>\n      <td>France</td>\n      <td>Bought</td>\n      <td>2011-12-09</td>\n      <td>12:50:00</td>\n      <td>Noon</td>\n    </tr>\n    <tr>\n      <th>541907</th>\n      <td>581587</td>\n      <td>23255</td>\n      <td>CHILDRENS CUTLERY CIRCUS PARADE</td>\n      <td>4</td>\n      <td>2011-12-09 12:50:00</td>\n      <td>4.15</td>\n      <td>12680</td>\n      <td>France</td>\n      <td>Bought</td>\n      <td>2011-12-09</td>\n      <td>12:50:00</td>\n      <td>Noon</td>\n    </tr>\n    <tr>\n      <th>541908</th>\n      <td>581587</td>\n      <td>22138</td>\n      <td>BAKING SET 9 PIECE RETROSPOT</td>\n      <td>3</td>\n      <td>2011-12-09 12:50:00</td>\n      <td>4.95</td>\n      <td>12680</td>\n      <td>France</td>\n      <td>Bought</td>\n      <td>2011-12-09</td>\n      <td>12:50:00</td>\n      <td>Noon</td>\n    </tr>\n  </tbody>\n</table>\n<p>539392 rows × 12 columns</p>\n</div>"
     },
     "execution_count": 49,
     "metadata": {},
     "output_type": "execute_result"
    }
   ],
   "source": [
    "# Create new column with time interval labels\n",
    "time = data['InvoiceDate'].dt.hour\n",
    "data['Time of Day'] = ['Early Morning' if x < 6 else ('Morning' if x < 12 else ('Noon' if x < 14 else ('Afternoon' if x < 18 else ('Evening' if x < 22 else 'Night')))) for x in time]\n",
    "data"
   ],
   "metadata": {
    "collapsed": false,
    "ExecuteTime": {
     "end_time": "2024-02-27T20:00:38.837229200Z",
     "start_time": "2024-02-27T20:00:38.624173200Z"
    }
   },
   "id": "53620ef9761781ab"
  },
  {
   "cell_type": "code",
   "execution_count": 51,
   "outputs": [
    {
     "data": {
      "text/plain": "<Figure size 640x480 with 1 Axes>",
      "image/png": "[encoded data removed]"
     },
     "metadata": {},
     "output_type": "display_data"
    }
   ],
   "source": [
    "sns.set_style(\"whitegrid\")\n",
    "\n",
    "sns.countplot(data=data, x='Time of Day')\n",
    "plt.title(\"Time of Day\")\n",
    "plt.show()"
   ],
   "metadata": {
    "collapsed": false,
    "ExecuteTime": {
     "end_time": "2024-02-27T20:01:12.792503600Z",
     "start_time": "2024-02-27T20:01:11.485555100Z"
    }
   },
   "id": "c0e281cd2136a4de"
  },
  {
   "cell_type": "code",
   "execution_count": null,
   "outputs": [],
   "source": [],
   "metadata": {
    "collapsed": false,
    "ExecuteTime": {
     "start_time": "2024-02-27T19:56:11.212845200Z"
    }
   },
   "id": "65a7793b3498641b"
  }
 ],
 "metadata": {
  "kernelspec": {
   "display_name": "Python 3",
   "language": "python",
   "name": "python3"
  },
  "language_info": {
   "codemirror_mode": {
    "name": "ipython",
    "version": 2
   },
   "file_extension": ".py",
   "mimetype": "text/x-python",
   "name": "python",
   "nbconvert_exporter": "python",
   "pygments_lexer": "ipython2",
   "version": "2.7.6"
  }
 },
 "nbformat": 4,
 "nbformat_minor": 5
}
