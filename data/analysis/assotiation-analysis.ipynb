{
 "cells": [
  {
   "cell_type": "code",
   "execution_count": 19,
   "id": "initial_id",
   "metadata": {
    "collapsed": true,
    "pycharm": {
     "is_executing": true
    },
    "ExecuteTime": {
     "end_time": "2024-03-26T14:28:40.969314700Z",
     "start_time": "2024-03-26T14:28:40.753320300Z"
    }
   },
   "outputs": [],
   "source": [
    "import pandas as pd"
   ]
  },
  {
   "cell_type": "code",
   "execution_count": 20,
   "outputs": [
    {
     "data": {
      "text/plain": "  InvoiceNo StockCode                          Description  Quantity  \\\n0    536365    85123A   WHITE HANGING HEART T-LIGHT HOLDER         6   \n1    536365     71053                  WHITE METAL LANTERN         6   \n2    536365    84406B       CREAM CUPID HEARTS COAT HANGER         8   \n3    536365    84029G  KNITTED UNION FLAG HOT WATER BOTTLE         6   \n4    536365    84029E       RED WOOLLY HOTTIE WHITE HEART.         6   \n\n           InvoiceDate  UnitPrice  CustomerID         Country  \n0  2010-12-01 08:26:00       2.55       17850  United Kingdom  \n1  2010-12-01 08:26:00       3.39       17850  United Kingdom  \n2  2010-12-01 08:26:00       2.75       17850  United Kingdom  \n3  2010-12-01 08:26:00       3.39       17850  United Kingdom  \n4  2010-12-01 08:26:00       3.39       17850  United Kingdom  ",
      "text/html": "<div>\n<style scoped>\n    .dataframe tbody tr th:only-of-type {\n        vertical-align: middle;\n    }\n\n    .dataframe tbody tr th {\n        vertical-align: top;\n    }\n\n    .dataframe thead th {\n        text-align: right;\n    }\n</style>\n<table border=\"1\" class=\"dataframe\">\n  <thead>\n    <tr style=\"text-align: right;\">\n      <th></th>\n      <th>InvoiceNo</th>\n      <th>StockCode</th>\n      <th>Description</th>\n      <th>Quantity</th>\n      <th>InvoiceDate</th>\n      <th>UnitPrice</th>\n      <th>CustomerID</th>\n      <th>Country</th>\n    </tr>\n  </thead>\n  <tbody>\n    <tr>\n      <th>0</th>\n      <td>536365</td>\n      <td>85123A</td>\n      <td>WHITE HANGING HEART T-LIGHT HOLDER</td>\n      <td>6</td>\n      <td>2010-12-01 08:26:00</td>\n      <td>2.55</td>\n      <td>17850</td>\n      <td>United Kingdom</td>\n    </tr>\n    <tr>\n      <th>1</th>\n      <td>536365</td>\n      <td>71053</td>\n      <td>WHITE METAL LANTERN</td>\n      <td>6</td>\n      <td>2010-12-01 08:26:00</td>\n      <td>3.39</td>\n      <td>17850</td>\n      <td>United Kingdom</td>\n    </tr>\n    <tr>\n      <th>2</th>\n      <td>536365</td>\n      <td>84406B</td>\n      <td>CREAM CUPID HEARTS COAT HANGER</td>\n      <td>8</td>\n      <td>2010-12-01 08:26:00</td>\n      <td>2.75</td>\n      <td>17850</td>\n      <td>United Kingdom</td>\n    </tr>\n    <tr>\n      <th>3</th>\n      <td>536365</td>\n      <td>84029G</td>\n      <td>KNITTED UNION FLAG HOT WATER BOTTLE</td>\n      <td>6</td>\n      <td>2010-12-01 08:26:00</td>\n      <td>3.39</td>\n      <td>17850</td>\n      <td>United Kingdom</td>\n    </tr>\n    <tr>\n      <th>4</th>\n      <td>536365</td>\n      <td>84029E</td>\n      <td>RED WOOLLY HOTTIE WHITE HEART.</td>\n      <td>6</td>\n      <td>2010-12-01 08:26:00</td>\n      <td>3.39</td>\n      <td>17850</td>\n      <td>United Kingdom</td>\n    </tr>\n  </tbody>\n</table>\n</div>"
     },
     "execution_count": 20,
     "metadata": {},
     "output_type": "execute_result"
    }
   ],
   "source": [
    "data = pd.read_csv('online_retail.csv')\n",
    "data.head()"
   ],
   "metadata": {
    "collapsed": false,
    "ExecuteTime": {
     "end_time": "2024-03-26T14:28:41.638999300Z",
     "start_time": "2024-03-26T14:28:40.762320100Z"
    }
   },
   "id": "c11a7784f2b0f37"
  },
  {
   "cell_type": "markdown",
   "source": [
    "Уникальные значения товаров"
   ],
   "metadata": {
    "collapsed": false
   },
   "id": "8d41397a398e1161"
  },
  {
   "cell_type": "code",
   "execution_count": 21,
   "outputs": [
    {
     "data": {
      "text/plain": "Description\nWHITE HANGING HEART T-LIGHT HOLDER     2369\nREGENCY CAKESTAND 3 TIER               2200\nJUMBO BAG RED RETROSPOT                2159\nPARTY BUNTING                          1727\nLUNCH BAG RED RETROSPOT                1638\n                                       ... \nMissing                                   1\nhistoric computer difference?....se       1\nDUSTY PINK CHRISTMAS TREE 30CM            1\nWRAP BLUE RUSSIAN FOLKART                 1\nPINK BERTIE MOBILE PHONE CHARM            1\nName: count, Length: 4223, dtype: int64"
     },
     "execution_count": 21,
     "metadata": {},
     "output_type": "execute_result"
    }
   ],
   "source": [
    "data['Description'].value_counts()"
   ],
   "metadata": {
    "collapsed": false,
    "ExecuteTime": {
     "end_time": "2024-03-26T14:28:41.803107400Z",
     "start_time": "2024-03-26T14:28:41.631001400Z"
    }
   },
   "id": "c66f22067d9c7b22"
  },
  {
   "cell_type": "markdown",
   "source": [
    "## Очистка данных\n",
    "На данном этапе нужно очистить данные чтобы с ними было возможно работать. Проверим значение цены.\n",
    "Все данные, которые не имеют или имеют отрицательную цену должны быть очищены"
   ],
   "metadata": {
    "collapsed": false
   },
   "id": "b0deb3da95f2da80"
  },
  {
   "cell_type": "code",
   "execution_count": 22,
   "outputs": [
    {
     "data": {
      "text/plain": "       InvoiceNo StockCode                   Description  Quantity  \\\n622       536414     22139                           NaN        56   \n1970      536545     21134                           NaN         1   \n1971      536546     22145                           NaN         1   \n1972      536547     37509                           NaN         1   \n1987      536549    85226A                           NaN         1   \n...          ...       ...                           ...       ...   \n536981    581234     72817                           NaN        27   \n538504    581406    46000M  POLYESTER FILLER PAD 45x45cm       240   \n538505    581406    46000S  POLYESTER FILLER PAD 40x40cm       300   \n538554    581408     85175                           NaN        20   \n538919    581422     23169                       smashed      -235   \n\n                InvoiceDate  UnitPrice  CustomerID         Country  \n622     2010-12-01 11:52:00        0.0       15287  United Kingdom  \n1970    2010-12-01 14:32:00        0.0       15287  United Kingdom  \n1971    2010-12-01 14:33:00        0.0       15287  United Kingdom  \n1972    2010-12-01 14:33:00        0.0       15287  United Kingdom  \n1987    2010-12-01 14:34:00        0.0       15287  United Kingdom  \n...                     ...        ...         ...             ...  \n536981  2011-12-08 10:33:00        0.0       15287  United Kingdom  \n538504  2011-12-08 13:58:00        0.0       15287  United Kingdom  \n538505  2011-12-08 13:58:00        0.0       15287  United Kingdom  \n538554  2011-12-08 14:06:00        0.0       15287  United Kingdom  \n538919  2011-12-08 15:24:00        0.0       15287  United Kingdom  \n\n[2517 rows x 8 columns]",
      "text/html": "<div>\n<style scoped>\n    .dataframe tbody tr th:only-of-type {\n        vertical-align: middle;\n    }\n\n    .dataframe tbody tr th {\n        vertical-align: top;\n    }\n\n    .dataframe thead th {\n        text-align: right;\n    }\n</style>\n<table border=\"1\" class=\"dataframe\">\n  <thead>\n    <tr style=\"text-align: right;\">\n      <th></th>\n      <th>InvoiceNo</th>\n      <th>StockCode</th>\n      <th>Description</th>\n      <th>Quantity</th>\n      <th>InvoiceDate</th>\n      <th>UnitPrice</th>\n      <th>CustomerID</th>\n      <th>Country</th>\n    </tr>\n  </thead>\n  <tbody>\n    <tr>\n      <th>622</th>\n      <td>536414</td>\n      <td>22139</td>\n      <td>NaN</td>\n      <td>56</td>\n      <td>2010-12-01 11:52:00</td>\n      <td>0.0</td>\n      <td>15287</td>\n      <td>United Kingdom</td>\n    </tr>\n    <tr>\n      <th>1970</th>\n      <td>536545</td>\n      <td>21134</td>\n      <td>NaN</td>\n      <td>1</td>\n      <td>2010-12-01 14:32:00</td>\n      <td>0.0</td>\n      <td>15287</td>\n      <td>United Kingdom</td>\n    </tr>\n    <tr>\n      <th>1971</th>\n      <td>536546</td>\n      <td>22145</td>\n      <td>NaN</td>\n      <td>1</td>\n      <td>2010-12-01 14:33:00</td>\n      <td>0.0</td>\n      <td>15287</td>\n      <td>United Kingdom</td>\n    </tr>\n    <tr>\n      <th>1972</th>\n      <td>536547</td>\n      <td>37509</td>\n      <td>NaN</td>\n      <td>1</td>\n      <td>2010-12-01 14:33:00</td>\n      <td>0.0</td>\n      <td>15287</td>\n      <td>United Kingdom</td>\n    </tr>\n    <tr>\n      <th>1987</th>\n      <td>536549</td>\n      <td>85226A</td>\n      <td>NaN</td>\n      <td>1</td>\n      <td>2010-12-01 14:34:00</td>\n      <td>0.0</td>\n      <td>15287</td>\n      <td>United Kingdom</td>\n    </tr>\n    <tr>\n      <th>...</th>\n      <td>...</td>\n      <td>...</td>\n      <td>...</td>\n      <td>...</td>\n      <td>...</td>\n      <td>...</td>\n      <td>...</td>\n      <td>...</td>\n    </tr>\n    <tr>\n      <th>536981</th>\n      <td>581234</td>\n      <td>72817</td>\n      <td>NaN</td>\n      <td>27</td>\n      <td>2011-12-08 10:33:00</td>\n      <td>0.0</td>\n      <td>15287</td>\n      <td>United Kingdom</td>\n    </tr>\n    <tr>\n      <th>538504</th>\n      <td>581406</td>\n      <td>46000M</td>\n      <td>POLYESTER FILLER PAD 45x45cm</td>\n      <td>240</td>\n      <td>2011-12-08 13:58:00</td>\n      <td>0.0</td>\n      <td>15287</td>\n      <td>United Kingdom</td>\n    </tr>\n    <tr>\n      <th>538505</th>\n      <td>581406</td>\n      <td>46000S</td>\n      <td>POLYESTER FILLER PAD 40x40cm</td>\n      <td>300</td>\n      <td>2011-12-08 13:58:00</td>\n      <td>0.0</td>\n      <td>15287</td>\n      <td>United Kingdom</td>\n    </tr>\n    <tr>\n      <th>538554</th>\n      <td>581408</td>\n      <td>85175</td>\n      <td>NaN</td>\n      <td>20</td>\n      <td>2011-12-08 14:06:00</td>\n      <td>0.0</td>\n      <td>15287</td>\n      <td>United Kingdom</td>\n    </tr>\n    <tr>\n      <th>538919</th>\n      <td>581422</td>\n      <td>23169</td>\n      <td>smashed</td>\n      <td>-235</td>\n      <td>2011-12-08 15:24:00</td>\n      <td>0.0</td>\n      <td>15287</td>\n      <td>United Kingdom</td>\n    </tr>\n  </tbody>\n</table>\n<p>2517 rows × 8 columns</p>\n</div>"
     },
     "execution_count": 22,
     "metadata": {},
     "output_type": "execute_result"
    }
   ],
   "source": [
    "data.loc[data['UnitPrice'] <= 0]"
   ],
   "metadata": {
    "collapsed": false,
    "ExecuteTime": {
     "end_time": "2024-03-26T14:28:41.845623700Z",
     "start_time": "2024-03-26T14:28:41.714693300Z"
    }
   },
   "id": "b5264512ca2ee5de"
  },
  {
   "cell_type": "code",
   "execution_count": 23,
   "outputs": [],
   "source": [
    "data = data[data['UnitPrice'] > 0]"
   ],
   "metadata": {
    "collapsed": false,
    "ExecuteTime": {
     "end_time": "2024-03-26T14:28:41.848625400Z",
     "start_time": "2024-03-26T14:28:41.741571900Z"
    }
   },
   "id": "d319e1f30eb83dc9"
  },
  {
   "cell_type": "code",
   "execution_count": 24,
   "outputs": [
    {
     "data": {
      "text/plain": "Empty DataFrame\nColumns: [InvoiceNo, StockCode, Description, Quantity, InvoiceDate, UnitPrice, CustomerID, Country]\nIndex: []",
      "text/html": "<div>\n<style scoped>\n    .dataframe tbody tr th:only-of-type {\n        vertical-align: middle;\n    }\n\n    .dataframe tbody tr th {\n        vertical-align: top;\n    }\n\n    .dataframe thead th {\n        text-align: right;\n    }\n</style>\n<table border=\"1\" class=\"dataframe\">\n  <thead>\n    <tr style=\"text-align: right;\">\n      <th></th>\n      <th>InvoiceNo</th>\n      <th>StockCode</th>\n      <th>Description</th>\n      <th>Quantity</th>\n      <th>InvoiceDate</th>\n      <th>UnitPrice</th>\n      <th>CustomerID</th>\n      <th>Country</th>\n    </tr>\n  </thead>\n  <tbody>\n  </tbody>\n</table>\n</div>"
     },
     "execution_count": 24,
     "metadata": {},
     "output_type": "execute_result"
    }
   ],
   "source": [
    "data[data['UnitPrice'] < 0]"
   ],
   "metadata": {
    "collapsed": false,
    "ExecuteTime": {
     "end_time": "2024-03-26T14:28:41.849624900Z",
     "start_time": "2024-03-26T14:28:41.790656700Z"
    }
   },
   "id": "9d39a24d443b701a"
  },
  {
   "cell_type": "markdown",
   "source": [
    "Добавим колонку с куплей/продажей"
   ],
   "metadata": {
    "collapsed": false
   },
   "id": "7473b5f76bc21bfd"
  },
  {
   "cell_type": "code",
   "execution_count": 25,
   "outputs": [
    {
     "data": {
      "text/plain": "Transaction\nBought    530104\nSold        9288\nName: count, dtype: int64"
     },
     "execution_count": 25,
     "metadata": {},
     "output_type": "execute_result"
    }
   ],
   "source": [
    "data['Transaction'] = data['Quantity'].apply(lambda x: 'Sold' if x < 0 else 'Bought')\n",
    "data['Transaction'].value_counts()"
   ],
   "metadata": {
    "collapsed": false,
    "ExecuteTime": {
     "end_time": "2024-03-26T14:28:42.098744200Z",
     "start_time": "2024-03-26T14:28:41.813627600Z"
    }
   },
   "id": "ad386151cf4a6ec8"
  },
  {
   "cell_type": "markdown",
   "source": [
    "## Топ 10 покупателей по числу проданных товаров"
   ],
   "metadata": {
    "collapsed": false
   },
   "id": "1c8c84980603ec3b"
  },
  {
   "cell_type": "code",
   "execution_count": 26,
   "outputs": [
    {
     "data": {
      "text/plain": "CustomerID\n15287    418230\n14646    196143\n12415     76946\n14911     76930\n17450     69029\n18102     64122\n17511     63012\n13694     61803\n14298     58021\n14156     57025\nName: Quantity, dtype: int64"
     },
     "execution_count": 26,
     "metadata": {},
     "output_type": "execute_result"
    }
   ],
   "source": [
    "customer_totals = data.groupby('CustomerID')['Quantity'].sum()\n",
    "sorted_totals = customer_totals.sort_values(ascending=False)\n",
    "top_customers = sorted_totals.head(10)\n",
    "top_customers"
   ],
   "metadata": {
    "collapsed": false,
    "ExecuteTime": {
     "end_time": "2024-03-26T14:28:42.157744200Z",
     "start_time": "2024-03-26T14:28:41.959159Z"
    }
   },
   "id": "a77f14e0bcbf568f"
  },
  {
   "cell_type": "code",
   "execution_count": 27,
   "outputs": [
    {
     "data": {
      "text/plain": "       InvoiceNo StockCode                          Description  Quantity  \\\n0         536365    85123A   WHITE HANGING HEART T-LIGHT HOLDER         6   \n1         536365     71053                  WHITE METAL LANTERN         6   \n2         536365    84406B       CREAM CUPID HEARTS COAT HANGER         8   \n3         536365    84029G  KNITTED UNION FLAG HOT WATER BOTTLE         6   \n4         536365    84029E       RED WOOLLY HOTTIE WHITE HEART.         6   \n...          ...       ...                                  ...       ...   \n541904    581587     22613          PACK OF 20 SPACEBOY NAPKINS        12   \n541905    581587     22899         CHILDREN'S APRON DOLLY GIRL          6   \n541906    581587     23254        CHILDRENS CUTLERY DOLLY GIRL          4   \n541907    581587     23255      CHILDRENS CUTLERY CIRCUS PARADE         4   \n541908    581587     22138        BAKING SET 9 PIECE RETROSPOT          3   \n\n               InvoiceDate  UnitPrice  CustomerID         Country Transaction  \\\n0      2010-12-01 08:26:00       2.55       17850  United Kingdom      Bought   \n1      2010-12-01 08:26:00       3.39       17850  United Kingdom      Bought   \n2      2010-12-01 08:26:00       2.75       17850  United Kingdom      Bought   \n3      2010-12-01 08:26:00       3.39       17850  United Kingdom      Bought   \n4      2010-12-01 08:26:00       3.39       17850  United Kingdom      Bought   \n...                    ...        ...         ...             ...         ...   \n541904 2011-12-09 12:50:00       0.85       12680          France      Bought   \n541905 2011-12-09 12:50:00       2.10       12680          France      Bought   \n541906 2011-12-09 12:50:00       4.15       12680          France      Bought   \n541907 2011-12-09 12:50:00       4.15       12680          France      Bought   \n541908 2011-12-09 12:50:00       4.95       12680          France      Bought   \n\n              Date      Time  \n0       2010-12-01  08:26:00  \n1       2010-12-01  08:26:00  \n2       2010-12-01  08:26:00  \n3       2010-12-01  08:26:00  \n4       2010-12-01  08:26:00  \n...            ...       ...  \n541904  2011-12-09  12:50:00  \n541905  2011-12-09  12:50:00  \n541906  2011-12-09  12:50:00  \n541907  2011-12-09  12:50:00  \n541908  2011-12-09  12:50:00  \n\n[539392 rows x 11 columns]",
      "text/html": "<div>\n<style scoped>\n    .dataframe tbody tr th:only-of-type {\n        vertical-align: middle;\n    }\n\n    .dataframe tbody tr th {\n        vertical-align: top;\n    }\n\n    .dataframe thead th {\n        text-align: right;\n    }\n</style>\n<table border=\"1\" class=\"dataframe\">\n  <thead>\n    <tr style=\"text-align: right;\">\n      <th></th>\n      <th>InvoiceNo</th>\n      <th>StockCode</th>\n      <th>Description</th>\n      <th>Quantity</th>\n      <th>InvoiceDate</th>\n      <th>UnitPrice</th>\n      <th>CustomerID</th>\n      <th>Country</th>\n      <th>Transaction</th>\n      <th>Date</th>\n      <th>Time</th>\n    </tr>\n  </thead>\n  <tbody>\n    <tr>\n      <th>0</th>\n      <td>536365</td>\n      <td>85123A</td>\n      <td>WHITE HANGING HEART T-LIGHT HOLDER</td>\n      <td>6</td>\n      <td>2010-12-01 08:26:00</td>\n      <td>2.55</td>\n      <td>17850</td>\n      <td>United Kingdom</td>\n      <td>Bought</td>\n      <td>2010-12-01</td>\n      <td>08:26:00</td>\n    </tr>\n    <tr>\n      <th>1</th>\n      <td>536365</td>\n      <td>71053</td>\n      <td>WHITE METAL LANTERN</td>\n      <td>6</td>\n      <td>2010-12-01 08:26:00</td>\n      <td>3.39</td>\n      <td>17850</td>\n      <td>United Kingdom</td>\n      <td>Bought</td>\n      <td>2010-12-01</td>\n      <td>08:26:00</td>\n    </tr>\n    <tr>\n      <th>2</th>\n      <td>536365</td>\n      <td>84406B</td>\n      <td>CREAM CUPID HEARTS COAT HANGER</td>\n      <td>8</td>\n      <td>2010-12-01 08:26:00</td>\n      <td>2.75</td>\n      <td>17850</td>\n      <td>United Kingdom</td>\n      <td>Bought</td>\n      <td>2010-12-01</td>\n      <td>08:26:00</td>\n    </tr>\n    <tr>\n      <th>3</th>\n      <td>536365</td>\n      <td>84029G</td>\n      <td>KNITTED UNION FLAG HOT WATER BOTTLE</td>\n      <td>6</td>\n      <td>2010-12-01 08:26:00</td>\n      <td>3.39</td>\n      <td>17850</td>\n      <td>United Kingdom</td>\n      <td>Bought</td>\n      <td>2010-12-01</td>\n      <td>08:26:00</td>\n    </tr>\n    <tr>\n      <th>4</th>\n      <td>536365</td>\n      <td>84029E</td>\n      <td>RED WOOLLY HOTTIE WHITE HEART.</td>\n      <td>6</td>\n      <td>2010-12-01 08:26:00</td>\n      <td>3.39</td>\n      <td>17850</td>\n      <td>United Kingdom</td>\n      <td>Bought</td>\n      <td>2010-12-01</td>\n      <td>08:26:00</td>\n    </tr>\n    <tr>\n      <th>...</th>\n      <td>...</td>\n      <td>...</td>\n      <td>...</td>\n      <td>...</td>\n      <td>...</td>\n      <td>...</td>\n      <td>...</td>\n      <td>...</td>\n      <td>...</td>\n      <td>...</td>\n      <td>...</td>\n    </tr>\n    <tr>\n      <th>541904</th>\n      <td>581587</td>\n      <td>22613</td>\n      <td>PACK OF 20 SPACEBOY NAPKINS</td>\n      <td>12</td>\n      <td>2011-12-09 12:50:00</td>\n      <td>0.85</td>\n      <td>12680</td>\n      <td>France</td>\n      <td>Bought</td>\n      <td>2011-12-09</td>\n      <td>12:50:00</td>\n    </tr>\n    <tr>\n      <th>541905</th>\n      <td>581587</td>\n      <td>22899</td>\n      <td>CHILDREN'S APRON DOLLY GIRL</td>\n      <td>6</td>\n      <td>2011-12-09 12:50:00</td>\n      <td>2.10</td>\n      <td>12680</td>\n      <td>France</td>\n      <td>Bought</td>\n      <td>2011-12-09</td>\n      <td>12:50:00</td>\n    </tr>\n    <tr>\n      <th>541906</th>\n      <td>581587</td>\n      <td>23254</td>\n      <td>CHILDRENS CUTLERY DOLLY GIRL</td>\n      <td>4</td>\n      <td>2011-12-09 12:50:00</td>\n      <td>4.15</td>\n      <td>12680</td>\n      <td>France</td>\n      <td>Bought</td>\n      <td>2011-12-09</td>\n      <td>12:50:00</td>\n    </tr>\n    <tr>\n      <th>541907</th>\n      <td>581587</td>\n      <td>23255</td>\n      <td>CHILDRENS CUTLERY CIRCUS PARADE</td>\n      <td>4</td>\n      <td>2011-12-09 12:50:00</td>\n      <td>4.15</td>\n      <td>12680</td>\n      <td>France</td>\n      <td>Bought</td>\n      <td>2011-12-09</td>\n      <td>12:50:00</td>\n    </tr>\n    <tr>\n      <th>541908</th>\n      <td>581587</td>\n      <td>22138</td>\n      <td>BAKING SET 9 PIECE RETROSPOT</td>\n      <td>3</td>\n      <td>2011-12-09 12:50:00</td>\n      <td>4.95</td>\n      <td>12680</td>\n      <td>France</td>\n      <td>Bought</td>\n      <td>2011-12-09</td>\n      <td>12:50:00</td>\n    </tr>\n  </tbody>\n</table>\n<p>539392 rows × 11 columns</p>\n</div>"
     },
     "execution_count": 27,
     "metadata": {},
     "output_type": "execute_result"
    }
   ],
   "source": [
    "data['InvoiceDate'] = pd.to_datetime(data['InvoiceDate'])\n",
    "data['Date'] = data['InvoiceDate'].dt.date\n",
    "data['Time'] = data['InvoiceDate'].dt.strftime('%H:%M:%S')\n",
    "data"
   ],
   "metadata": {
    "collapsed": false,
    "ExecuteTime": {
     "end_time": "2024-03-26T14:28:46.623504900Z",
     "start_time": "2024-03-26T14:28:42.006743400Z"
    }
   },
   "id": "cdec4ca6358c309f"
  },
  {
   "cell_type": "code",
   "execution_count": 28,
   "outputs": [
    {
     "data": {
      "text/plain": "       InvoiceNo StockCode                          Description  Quantity  \\\n0         536365    85123A   WHITE HANGING HEART T-LIGHT HOLDER         6   \n1         536365     71053                  WHITE METAL LANTERN         6   \n2         536365    84406B       CREAM CUPID HEARTS COAT HANGER         8   \n3         536365    84029G  KNITTED UNION FLAG HOT WATER BOTTLE         6   \n4         536365    84029E       RED WOOLLY HOTTIE WHITE HEART.         6   \n...          ...       ...                                  ...       ...   \n541904    581587     22613          PACK OF 20 SPACEBOY NAPKINS        12   \n541905    581587     22899         CHILDREN'S APRON DOLLY GIRL          6   \n541906    581587     23254        CHILDRENS CUTLERY DOLLY GIRL          4   \n541907    581587     23255      CHILDRENS CUTLERY CIRCUS PARADE         4   \n541908    581587     22138        BAKING SET 9 PIECE RETROSPOT          3   \n\n               InvoiceDate  UnitPrice  CustomerID         Country Transaction  \\\n0      2010-12-01 08:26:00       2.55       17850  United Kingdom      Bought   \n1      2010-12-01 08:26:00       3.39       17850  United Kingdom      Bought   \n2      2010-12-01 08:26:00       2.75       17850  United Kingdom      Bought   \n3      2010-12-01 08:26:00       3.39       17850  United Kingdom      Bought   \n4      2010-12-01 08:26:00       3.39       17850  United Kingdom      Bought   \n...                    ...        ...         ...             ...         ...   \n541904 2011-12-09 12:50:00       0.85       12680          France      Bought   \n541905 2011-12-09 12:50:00       2.10       12680          France      Bought   \n541906 2011-12-09 12:50:00       4.15       12680          France      Bought   \n541907 2011-12-09 12:50:00       4.15       12680          France      Bought   \n541908 2011-12-09 12:50:00       4.95       12680          France      Bought   \n\n              Date      Time Time of Day  \n0       2010-12-01  08:26:00     Morning  \n1       2010-12-01  08:26:00     Morning  \n2       2010-12-01  08:26:00     Morning  \n3       2010-12-01  08:26:00     Morning  \n4       2010-12-01  08:26:00     Morning  \n...            ...       ...         ...  \n541904  2011-12-09  12:50:00        Noon  \n541905  2011-12-09  12:50:00        Noon  \n541906  2011-12-09  12:50:00        Noon  \n541907  2011-12-09  12:50:00        Noon  \n541908  2011-12-09  12:50:00        Noon  \n\n[539392 rows x 12 columns]",
      "text/html": "<div>\n<style scoped>\n    .dataframe tbody tr th:only-of-type {\n        vertical-align: middle;\n    }\n\n    .dataframe tbody tr th {\n        vertical-align: top;\n    }\n\n    .dataframe thead th {\n        text-align: right;\n    }\n</style>\n<table border=\"1\" class=\"dataframe\">\n  <thead>\n    <tr style=\"text-align: right;\">\n      <th></th>\n      <th>InvoiceNo</th>\n      <th>StockCode</th>\n      <th>Description</th>\n      <th>Quantity</th>\n      <th>InvoiceDate</th>\n      <th>UnitPrice</th>\n      <th>CustomerID</th>\n      <th>Country</th>\n      <th>Transaction</th>\n      <th>Date</th>\n      <th>Time</th>\n      <th>Time of Day</th>\n    </tr>\n  </thead>\n  <tbody>\n    <tr>\n      <th>0</th>\n      <td>536365</td>\n      <td>85123A</td>\n      <td>WHITE HANGING HEART T-LIGHT HOLDER</td>\n      <td>6</td>\n      <td>2010-12-01 08:26:00</td>\n      <td>2.55</td>\n      <td>17850</td>\n      <td>United Kingdom</td>\n      <td>Bought</td>\n      <td>2010-12-01</td>\n      <td>08:26:00</td>\n      <td>Morning</td>\n    </tr>\n    <tr>\n      <th>1</th>\n      <td>536365</td>\n      <td>71053</td>\n      <td>WHITE METAL LANTERN</td>\n      <td>6</td>\n      <td>2010-12-01 08:26:00</td>\n      <td>3.39</td>\n      <td>17850</td>\n      <td>United Kingdom</td>\n      <td>Bought</td>\n      <td>2010-12-01</td>\n      <td>08:26:00</td>\n      <td>Morning</td>\n    </tr>\n    <tr>\n      <th>2</th>\n      <td>536365</td>\n      <td>84406B</td>\n      <td>CREAM CUPID HEARTS COAT HANGER</td>\n      <td>8</td>\n      <td>2010-12-01 08:26:00</td>\n      <td>2.75</td>\n      <td>17850</td>\n      <td>United Kingdom</td>\n      <td>Bought</td>\n      <td>2010-12-01</td>\n      <td>08:26:00</td>\n      <td>Morning</td>\n    </tr>\n    <tr>\n      <th>3</th>\n      <td>536365</td>\n      <td>84029G</td>\n      <td>KNITTED UNION FLAG HOT WATER BOTTLE</td>\n      <td>6</td>\n      <td>2010-12-01 08:26:00</td>\n      <td>3.39</td>\n      <td>17850</td>\n      <td>United Kingdom</td>\n      <td>Bought</td>\n      <td>2010-12-01</td>\n      <td>08:26:00</td>\n      <td>Morning</td>\n    </tr>\n    <tr>\n      <th>4</th>\n      <td>536365</td>\n      <td>84029E</td>\n      <td>RED WOOLLY HOTTIE WHITE HEART.</td>\n      <td>6</td>\n      <td>2010-12-01 08:26:00</td>\n      <td>3.39</td>\n      <td>17850</td>\n      <td>United Kingdom</td>\n      <td>Bought</td>\n      <td>2010-12-01</td>\n      <td>08:26:00</td>\n      <td>Morning</td>\n    </tr>\n    <tr>\n      <th>...</th>\n      <td>...</td>\n      <td>...</td>\n      <td>...</td>\n      <td>...</td>\n      <td>...</td>\n      <td>...</td>\n      <td>...</td>\n      <td>...</td>\n      <td>...</td>\n      <td>...</td>\n      <td>...</td>\n      <td>...</td>\n    </tr>\n    <tr>\n      <th>541904</th>\n      <td>581587</td>\n      <td>22613</td>\n      <td>PACK OF 20 SPACEBOY NAPKINS</td>\n      <td>12</td>\n      <td>2011-12-09 12:50:00</td>\n      <td>0.85</td>\n      <td>12680</td>\n      <td>France</td>\n      <td>Bought</td>\n      <td>2011-12-09</td>\n      <td>12:50:00</td>\n      <td>Noon</td>\n    </tr>\n    <tr>\n      <th>541905</th>\n      <td>581587</td>\n      <td>22899</td>\n      <td>CHILDREN'S APRON DOLLY GIRL</td>\n      <td>6</td>\n      <td>2011-12-09 12:50:00</td>\n      <td>2.10</td>\n      <td>12680</td>\n      <td>France</td>\n      <td>Bought</td>\n      <td>2011-12-09</td>\n      <td>12:50:00</td>\n      <td>Noon</td>\n    </tr>\n    <tr>\n      <th>541906</th>\n      <td>581587</td>\n      <td>23254</td>\n      <td>CHILDRENS CUTLERY DOLLY GIRL</td>\n      <td>4</td>\n      <td>2011-12-09 12:50:00</td>\n      <td>4.15</td>\n      <td>12680</td>\n      <td>France</td>\n      <td>Bought</td>\n      <td>2011-12-09</td>\n      <td>12:50:00</td>\n      <td>Noon</td>\n    </tr>\n    <tr>\n      <th>541907</th>\n      <td>581587</td>\n      <td>23255</td>\n      <td>CHILDRENS CUTLERY CIRCUS PARADE</td>\n      <td>4</td>\n      <td>2011-12-09 12:50:00</td>\n      <td>4.15</td>\n      <td>12680</td>\n      <td>France</td>\n      <td>Bought</td>\n      <td>2011-12-09</td>\n      <td>12:50:00</td>\n      <td>Noon</td>\n    </tr>\n    <tr>\n      <th>541908</th>\n      <td>581587</td>\n      <td>22138</td>\n      <td>BAKING SET 9 PIECE RETROSPOT</td>\n      <td>3</td>\n      <td>2011-12-09 12:50:00</td>\n      <td>4.95</td>\n      <td>12680</td>\n      <td>France</td>\n      <td>Bought</td>\n      <td>2011-12-09</td>\n      <td>12:50:00</td>\n      <td>Noon</td>\n    </tr>\n  </tbody>\n</table>\n<p>539392 rows × 12 columns</p>\n</div>"
     },
     "execution_count": 28,
     "metadata": {},
     "output_type": "execute_result"
    }
   ],
   "source": [
    "# Create new column with time interval labels\n",
    "time = data['InvoiceDate'].dt.hour\n",
    "data['Time of Day'] = [\n",
    "    'Early Morning' if x < 6 else\n",
    "    'Morning' if x < 12 else\n",
    "    'Noon' if x < 14 else\n",
    "    'Afternoon' if x < 18 else\n",
    "    'Evening' if x < 22 else 'Night' for x in time]\n",
    "data"
   ],
   "metadata": {
    "collapsed": false,
    "ExecuteTime": {
     "end_time": "2024-03-26T14:28:46.831847300Z",
     "start_time": "2024-03-26T14:28:46.627503600Z"
    }
   },
   "id": "53620ef9761781ab"
  },
  {
   "cell_type": "code",
   "execution_count": 29,
   "outputs": [
    {
     "data": {
      "text/plain": "<Axes: xlabel='Time of Day', ylabel='count'>"
     },
     "execution_count": 29,
     "metadata": {},
     "output_type": "execute_result"
    },
    {
     "data": {
      "text/plain": "<Figure size 640x480 with 1 Axes>",
      "image/png": "[encoded data removed]"
     },
     "metadata": {},
     "output_type": "display_data"
    }
   ],
   "source": [
    "import seaborn as sns\n",
    "sns.countplot(data, x='Time of Day')"
   ],
   "metadata": {
    "collapsed": false,
    "ExecuteTime": {
     "end_time": "2024-03-26T14:28:48.693693800Z",
     "start_time": "2024-03-26T14:28:46.820846400Z"
    }
   },
   "id": "c0e281cd2136a4de"
  },
  {
   "cell_type": "markdown",
   "source": [
    "# Assosiations (Market bucket analysis)"
   ],
   "metadata": {
    "collapsed": false
   },
   "id": "b8f51557b76edbd8"
  },
  {
   "cell_type": "code",
   "execution_count": 30,
   "outputs": [],
   "source": [
    "import pandas as pd"
   ],
   "metadata": {
    "collapsed": false,
    "ExecuteTime": {
     "end_time": "2024-03-26T14:28:48.694680500Z",
     "start_time": "2024-03-26T14:28:48.683724Z"
    }
   },
   "id": "a3f685f2941b0f4d"
  },
  {
   "cell_type": "code",
   "execution_count": 32,
   "outputs": [
    {
     "data": {
      "text/plain": "   Member_number        Date   itemDescription\n0           1808  21-07-2015    tropical fruit\n1           2552  05-01-2015        whole milk\n2           2300  19-09-2015         pip fruit\n3           1187  12-12-2015  other vegetables\n4           3037  01-02-2015        whole milk",
      "text/html": "<div>\n<style scoped>\n    .dataframe tbody tr th:only-of-type {\n        vertical-align: middle;\n    }\n\n    .dataframe tbody tr th {\n        vertical-align: top;\n    }\n\n    .dataframe thead th {\n        text-align: right;\n    }\n</style>\n<table border=\"1\" class=\"dataframe\">\n  <thead>\n    <tr style=\"text-align: right;\">\n      <th></th>\n      <th>Member_number</th>\n      <th>Date</th>\n      <th>itemDescription</th>\n    </tr>\n  </thead>\n  <tbody>\n    <tr>\n      <th>0</th>\n      <td>1808</td>\n      <td>21-07-2015</td>\n      <td>tropical fruit</td>\n    </tr>\n    <tr>\n      <th>1</th>\n      <td>2552</td>\n      <td>05-01-2015</td>\n      <td>whole milk</td>\n    </tr>\n    <tr>\n      <th>2</th>\n      <td>2300</td>\n      <td>19-09-2015</td>\n      <td>pip fruit</td>\n    </tr>\n    <tr>\n      <th>3</th>\n      <td>1187</td>\n      <td>12-12-2015</td>\n      <td>other vegetables</td>\n    </tr>\n    <tr>\n      <th>4</th>\n      <td>3037</td>\n      <td>01-02-2015</td>\n      <td>whole milk</td>\n    </tr>\n  </tbody>\n</table>\n</div>"
     },
     "execution_count": 32,
     "metadata": {},
     "output_type": "execute_result"
    }
   ],
   "source": [
    "df = pd.read_csv('groceries_dataset.csv')\n",
    "df.head()"
   ],
   "metadata": {
    "collapsed": false,
    "ExecuteTime": {
     "end_time": "2024-03-26T14:29:43.079089200Z",
     "start_time": "2024-03-26T14:29:43.024634700Z"
    }
   },
   "id": "65a7793b3498641b"
  },
  {
   "cell_type": "code",
   "execution_count": 34,
   "outputs": [
    {
     "data": {
      "text/plain": "       Member_number        Date        itemDescription      transaction\n0               1808  21-07-2015         tropical fruit  1808_21-07-2015\n1               2552  05-01-2015             whole milk  2552_05-01-2015\n2               2300  19-09-2015              pip fruit  2300_19-09-2015\n3               1187  12-12-2015       other vegetables  1187_12-12-2015\n4               3037  01-02-2015             whole milk  3037_01-02-2015\n...              ...         ...                    ...              ...\n38760           4471  08-10-2014          sliced cheese  4471_08-10-2014\n38761           2022  23-02-2014                  candy  2022_23-02-2014\n38762           1097  16-04-2014               cake bar  1097_16-04-2014\n38763           1510  03-12-2014  fruit/vegetable juice  1510_03-12-2014\n38764           1521  26-12-2014               cat food  1521_26-12-2014\n\n[38765 rows x 4 columns]",
      "text/html": "<div>\n<style scoped>\n    .dataframe tbody tr th:only-of-type {\n        vertical-align: middle;\n    }\n\n    .dataframe tbody tr th {\n        vertical-align: top;\n    }\n\n    .dataframe thead th {\n        text-align: right;\n    }\n</style>\n<table border=\"1\" class=\"dataframe\">\n  <thead>\n    <tr style=\"text-align: right;\">\n      <th></th>\n      <th>Member_number</th>\n      <th>Date</th>\n      <th>itemDescription</th>\n      <th>transaction</th>\n    </tr>\n  </thead>\n  <tbody>\n    <tr>\n      <th>0</th>\n      <td>1808</td>\n      <td>21-07-2015</td>\n      <td>tropical fruit</td>\n      <td>1808_21-07-2015</td>\n    </tr>\n    <tr>\n      <th>1</th>\n      <td>2552</td>\n      <td>05-01-2015</td>\n      <td>whole milk</td>\n      <td>2552_05-01-2015</td>\n    </tr>\n    <tr>\n      <th>2</th>\n      <td>2300</td>\n      <td>19-09-2015</td>\n      <td>pip fruit</td>\n      <td>2300_19-09-2015</td>\n    </tr>\n    <tr>\n      <th>3</th>\n      <td>1187</td>\n      <td>12-12-2015</td>\n      <td>other vegetables</td>\n      <td>1187_12-12-2015</td>\n    </tr>\n    <tr>\n      <th>4</th>\n      <td>3037</td>\n      <td>01-02-2015</td>\n      <td>whole milk</td>\n      <td>3037_01-02-2015</td>\n    </tr>\n    <tr>\n      <th>...</th>\n      <td>...</td>\n      <td>...</td>\n      <td>...</td>\n      <td>...</td>\n    </tr>\n    <tr>\n      <th>38760</th>\n      <td>4471</td>\n      <td>08-10-2014</td>\n      <td>sliced cheese</td>\n      <td>4471_08-10-2014</td>\n    </tr>\n    <tr>\n      <th>38761</th>\n      <td>2022</td>\n      <td>23-02-2014</td>\n      <td>candy</td>\n      <td>2022_23-02-2014</td>\n    </tr>\n    <tr>\n      <th>38762</th>\n      <td>1097</td>\n      <td>16-04-2014</td>\n      <td>cake bar</td>\n      <td>1097_16-04-2014</td>\n    </tr>\n    <tr>\n      <th>38763</th>\n      <td>1510</td>\n      <td>03-12-2014</td>\n      <td>fruit/vegetable juice</td>\n      <td>1510_03-12-2014</td>\n    </tr>\n    <tr>\n      <th>38764</th>\n      <td>1521</td>\n      <td>26-12-2014</td>\n      <td>cat food</td>\n      <td>1521_26-12-2014</td>\n    </tr>\n  </tbody>\n</table>\n<p>38765 rows × 4 columns</p>\n</div>"
     },
     "execution_count": 34,
     "metadata": {},
     "output_type": "execute_result"
    }
   ],
   "source": [
    "df['transaction'] = df['Member_number'].astype(str) + '_' + df['Date'].astype(str)\n",
    "df"
   ],
   "metadata": {
    "collapsed": false,
    "ExecuteTime": {
     "end_time": "2024-03-26T14:29:46.860802800Z",
     "start_time": "2024-03-26T14:29:46.799377200Z"
    }
   },
   "id": "be73add97229d4cd"
  },
  {
   "cell_type": "code",
   "execution_count": 35,
   "outputs": [
    {
     "data": {
      "text/plain": "itemDescription  Instant food products  UHT-milk  abrasive cleaner  \\\ntransaction                                                          \n1000_15-03-2015                      0         0                 0   \n1000_24-06-2014                      0         0                 0   \n1000_24-07-2015                      0         0                 0   \n1000_25-11-2015                      0         0                 0   \n1000_27-05-2015                      0         0                 0   \n\nitemDescription  artif. sweetener  baby cosmetics  bags  baking powder  \\\ntransaction                                                              \n1000_15-03-2015                 0               0     0              0   \n1000_24-06-2014                 0               0     0              0   \n1000_24-07-2015                 0               0     0              0   \n1000_25-11-2015                 0               0     0              0   \n1000_27-05-2015                 0               0     0              0   \n\nitemDescription  bathroom cleaner  beef  berries  ...  turkey  vinegar  \\\ntransaction                                       ...                    \n1000_15-03-2015                 0     0        0  ...       0        0   \n1000_24-06-2014                 0     0        0  ...       0        0   \n1000_24-07-2015                 0     0        0  ...       0        0   \n1000_25-11-2015                 0     0        0  ...       0        0   \n1000_27-05-2015                 0     0        0  ...       0        0   \n\nitemDescription  waffles  whipped/sour cream  whisky  white bread  white wine  \\\ntransaction                                                                     \n1000_15-03-2015        0                   0       0            0           0   \n1000_24-06-2014        0                   0       0            0           0   \n1000_24-07-2015        0                   0       0            0           0   \n1000_25-11-2015        0                   0       0            0           0   \n1000_27-05-2015        0                   0       0            0           0   \n\nitemDescription  whole milk  yogurt  zwieback  \ntransaction                                    \n1000_15-03-2015           1       1         0  \n1000_24-06-2014           1       0         0  \n1000_24-07-2015           0       0         0  \n1000_25-11-2015           0       0         0  \n1000_27-05-2015           0       0         0  \n\n[5 rows x 167 columns]",
      "text/html": "<div>\n<style scoped>\n    .dataframe tbody tr th:only-of-type {\n        vertical-align: middle;\n    }\n\n    .dataframe tbody tr th {\n        vertical-align: top;\n    }\n\n    .dataframe thead th {\n        text-align: right;\n    }\n</style>\n<table border=\"1\" class=\"dataframe\">\n  <thead>\n    <tr style=\"text-align: right;\">\n      <th>itemDescription</th>\n      <th>Instant food products</th>\n      <th>UHT-milk</th>\n      <th>abrasive cleaner</th>\n      <th>artif. sweetener</th>\n      <th>baby cosmetics</th>\n      <th>bags</th>\n      <th>baking powder</th>\n      <th>bathroom cleaner</th>\n      <th>beef</th>\n      <th>berries</th>\n      <th>...</th>\n      <th>turkey</th>\n      <th>vinegar</th>\n      <th>waffles</th>\n      <th>whipped/sour cream</th>\n      <th>whisky</th>\n      <th>white bread</th>\n      <th>white wine</th>\n      <th>whole milk</th>\n      <th>yogurt</th>\n      <th>zwieback</th>\n    </tr>\n    <tr>\n      <th>transaction</th>\n      <th></th>\n      <th></th>\n      <th></th>\n      <th></th>\n      <th></th>\n      <th></th>\n      <th></th>\n      <th></th>\n      <th></th>\n      <th></th>\n      <th></th>\n      <th></th>\n      <th></th>\n      <th></th>\n      <th></th>\n      <th></th>\n      <th></th>\n      <th></th>\n      <th></th>\n      <th></th>\n      <th></th>\n    </tr>\n  </thead>\n  <tbody>\n    <tr>\n      <th>1000_15-03-2015</th>\n      <td>0</td>\n      <td>0</td>\n      <td>0</td>\n      <td>0</td>\n      <td>0</td>\n      <td>0</td>\n      <td>0</td>\n      <td>0</td>\n      <td>0</td>\n      <td>0</td>\n      <td>...</td>\n      <td>0</td>\n      <td>0</td>\n      <td>0</td>\n      <td>0</td>\n      <td>0</td>\n      <td>0</td>\n      <td>0</td>\n      <td>1</td>\n      <td>1</td>\n      <td>0</td>\n    </tr>\n    <tr>\n      <th>1000_24-06-2014</th>\n      <td>0</td>\n      <td>0</td>\n      <td>0</td>\n      <td>0</td>\n      <td>0</td>\n      <td>0</td>\n      <td>0</td>\n      <td>0</td>\n      <td>0</td>\n      <td>0</td>\n      <td>...</td>\n      <td>0</td>\n      <td>0</td>\n      <td>0</td>\n      <td>0</td>\n      <td>0</td>\n      <td>0</td>\n      <td>0</td>\n      <td>1</td>\n      <td>0</td>\n      <td>0</td>\n    </tr>\n    <tr>\n      <th>1000_24-07-2015</th>\n      <td>0</td>\n      <td>0</td>\n      <td>0</td>\n      <td>0</td>\n      <td>0</td>\n      <td>0</td>\n      <td>0</td>\n      <td>0</td>\n      <td>0</td>\n      <td>0</td>\n      <td>...</td>\n      <td>0</td>\n      <td>0</td>\n      <td>0</td>\n      <td>0</td>\n      <td>0</td>\n      <td>0</td>\n      <td>0</td>\n      <td>0</td>\n      <td>0</td>\n      <td>0</td>\n    </tr>\n    <tr>\n      <th>1000_25-11-2015</th>\n      <td>0</td>\n      <td>0</td>\n      <td>0</td>\n      <td>0</td>\n      <td>0</td>\n      <td>0</td>\n      <td>0</td>\n      <td>0</td>\n      <td>0</td>\n      <td>0</td>\n      <td>...</td>\n      <td>0</td>\n      <td>0</td>\n      <td>0</td>\n      <td>0</td>\n      <td>0</td>\n      <td>0</td>\n      <td>0</td>\n      <td>0</td>\n      <td>0</td>\n      <td>0</td>\n    </tr>\n    <tr>\n      <th>1000_27-05-2015</th>\n      <td>0</td>\n      <td>0</td>\n      <td>0</td>\n      <td>0</td>\n      <td>0</td>\n      <td>0</td>\n      <td>0</td>\n      <td>0</td>\n      <td>0</td>\n      <td>0</td>\n      <td>...</td>\n      <td>0</td>\n      <td>0</td>\n      <td>0</td>\n      <td>0</td>\n      <td>0</td>\n      <td>0</td>\n      <td>0</td>\n      <td>0</td>\n      <td>0</td>\n      <td>0</td>\n    </tr>\n  </tbody>\n</table>\n<p>5 rows × 167 columns</p>\n</div>"
     },
     "execution_count": 35,
     "metadata": {},
     "output_type": "execute_result"
    }
   ],
   "source": [
    "df2 = pd.crosstab(df['transaction'], df['itemDescription'])\n",
    "df2.head()"
   ],
   "metadata": {
    "collapsed": false,
    "ExecuteTime": {
     "end_time": "2024-03-26T14:29:49.196328900Z",
     "start_time": "2024-03-26T14:29:48.282980Z"
    }
   },
   "id": "62b00d5256fd2d18"
  },
  {
   "cell_type": "code",
   "execution_count": 36,
   "outputs": [
    {
     "name": "stderr",
     "output_type": "stream",
     "text": [
      "C:\\Users\\stasp\\AppData\\Local\\Temp\\ipykernel_31624\\722219245.py:7: FutureWarning: DataFrame.applymap has been deprecated. Use DataFrame.map instead.\n",
      "  basket_input = df2.applymap(encode)\n"
     ]
    },
    {
     "data": {
      "text/plain": "itemDescription  Instant food products  UHT-milk  abrasive cleaner  \\\ntransaction                                                          \n1000_15-03-2015                  False     False             False   \n1000_24-06-2014                  False     False             False   \n1000_24-07-2015                  False     False             False   \n1000_25-11-2015                  False     False             False   \n1000_27-05-2015                  False     False             False   \n...                                ...       ...               ...   \n4999_24-01-2015                  False     False             False   \n4999_26-12-2015                  False     False             False   \n5000_09-03-2014                  False     False             False   \n5000_10-02-2015                  False     False             False   \n5000_16-11-2014                  False     False             False   \n\nitemDescription  artif. sweetener  baby cosmetics   bags  baking powder  \\\ntransaction                                                               \n1000_15-03-2015             False           False  False          False   \n1000_24-06-2014             False           False  False          False   \n1000_24-07-2015             False           False  False          False   \n1000_25-11-2015             False           False  False          False   \n1000_27-05-2015             False           False  False          False   \n...                           ...             ...    ...            ...   \n4999_24-01-2015             False           False  False          False   \n4999_26-12-2015             False           False  False          False   \n5000_09-03-2014             False           False  False          False   \n5000_10-02-2015             False           False  False          False   \n5000_16-11-2014             False           False  False          False   \n\nitemDescription  bathroom cleaner   beef  berries  ...  turkey  vinegar  \\\ntransaction                                        ...                    \n1000_15-03-2015             False  False    False  ...   False    False   \n1000_24-06-2014             False  False    False  ...   False    False   \n1000_24-07-2015             False  False    False  ...   False    False   \n1000_25-11-2015             False  False    False  ...   False    False   \n1000_27-05-2015             False  False    False  ...   False    False   \n...                           ...    ...      ...  ...     ...      ...   \n4999_24-01-2015             False  False     True  ...   False    False   \n4999_26-12-2015             False  False    False  ...   False    False   \n5000_09-03-2014             False  False    False  ...   False    False   \n5000_10-02-2015             False  False    False  ...   False    False   \n5000_16-11-2014             False  False    False  ...   False    False   \n\nitemDescription  waffles  whipped/sour cream  whisky  white bread  white wine  \\\ntransaction                                                                     \n1000_15-03-2015    False               False   False        False       False   \n1000_24-06-2014    False               False   False        False       False   \n1000_24-07-2015    False               False   False        False       False   \n1000_25-11-2015    False               False   False        False       False   \n1000_27-05-2015    False               False   False        False       False   \n...                  ...                 ...     ...          ...         ...   \n4999_24-01-2015    False               False   False        False       False   \n4999_26-12-2015    False               False   False        False       False   \n5000_09-03-2014    False               False   False        False       False   \n5000_10-02-2015    False               False   False        False       False   \n5000_16-11-2014    False               False   False        False       False   \n\nitemDescription  whole milk  yogurt  zwieback  \ntransaction                                    \n1000_15-03-2015        True    True     False  \n1000_24-06-2014        True   False     False  \n1000_24-07-2015       False   False     False  \n1000_25-11-2015       False   False     False  \n1000_27-05-2015       False   False     False  \n...                     ...     ...       ...  \n4999_24-01-2015       False    True     False  \n4999_26-12-2015       False   False     False  \n5000_09-03-2014       False   False     False  \n5000_10-02-2015       False   False     False  \n5000_16-11-2014       False   False     False  \n\n[14963 rows x 167 columns]",
      "text/html": "<div>\n<style scoped>\n    .dataframe tbody tr th:only-of-type {\n        vertical-align: middle;\n    }\n\n    .dataframe tbody tr th {\n        vertical-align: top;\n    }\n\n    .dataframe thead th {\n        text-align: right;\n    }\n</style>\n<table border=\"1\" class=\"dataframe\">\n  <thead>\n    <tr style=\"text-align: right;\">\n      <th>itemDescription</th>\n      <th>Instant food products</th>\n      <th>UHT-milk</th>\n      <th>abrasive cleaner</th>\n      <th>artif. sweetener</th>\n      <th>baby cosmetics</th>\n      <th>bags</th>\n      <th>baking powder</th>\n      <th>bathroom cleaner</th>\n      <th>beef</th>\n      <th>berries</th>\n      <th>...</th>\n      <th>turkey</th>\n      <th>vinegar</th>\n      <th>waffles</th>\n      <th>whipped/sour cream</th>\n      <th>whisky</th>\n      <th>white bread</th>\n      <th>white wine</th>\n      <th>whole milk</th>\n      <th>yogurt</th>\n      <th>zwieback</th>\n    </tr>\n    <tr>\n      <th>transaction</th>\n      <th></th>\n      <th></th>\n      <th></th>\n      <th></th>\n      <th></th>\n      <th></th>\n      <th></th>\n      <th></th>\n      <th></th>\n      <th></th>\n      <th></th>\n      <th></th>\n      <th></th>\n      <th></th>\n      <th></th>\n      <th></th>\n      <th></th>\n      <th></th>\n      <th></th>\n      <th></th>\n      <th></th>\n    </tr>\n  </thead>\n  <tbody>\n    <tr>\n      <th>1000_15-03-2015</th>\n      <td>False</td>\n      <td>False</td>\n      <td>False</td>\n      <td>False</td>\n      <td>False</td>\n      <td>False</td>\n      <td>False</td>\n      <td>False</td>\n      <td>False</td>\n      <td>False</td>\n      <td>...</td>\n      <td>False</td>\n      <td>False</td>\n      <td>False</td>\n      <td>False</td>\n      <td>False</td>\n      <td>False</td>\n      <td>False</td>\n      <td>True</td>\n      <td>True</td>\n      <td>False</td>\n    </tr>\n    <tr>\n      <th>1000_24-06-2014</th>\n      <td>False</td>\n      <td>False</td>\n      <td>False</td>\n      <td>False</td>\n      <td>False</td>\n      <td>False</td>\n      <td>False</td>\n      <td>False</td>\n      <td>False</td>\n      <td>False</td>\n      <td>...</td>\n      <td>False</td>\n      <td>False</td>\n      <td>False</td>\n      <td>False</td>\n      <td>False</td>\n      <td>False</td>\n      <td>False</td>\n      <td>True</td>\n      <td>False</td>\n      <td>False</td>\n    </tr>\n    <tr>\n      <th>1000_24-07-2015</th>\n      <td>False</td>\n      <td>False</td>\n      <td>False</td>\n      <td>False</td>\n      <td>False</td>\n      <td>False</td>\n      <td>False</td>\n      <td>False</td>\n      <td>False</td>\n      <td>False</td>\n      <td>...</td>\n      <td>False</td>\n      <td>False</td>\n      <td>False</td>\n      <td>False</td>\n      <td>False</td>\n      <td>False</td>\n      <td>False</td>\n      <td>False</td>\n      <td>False</td>\n      <td>False</td>\n    </tr>\n    <tr>\n      <th>1000_25-11-2015</th>\n      <td>False</td>\n      <td>False</td>\n      <td>False</td>\n      <td>False</td>\n      <td>False</td>\n      <td>False</td>\n      <td>False</td>\n      <td>False</td>\n      <td>False</td>\n      <td>False</td>\n      <td>...</td>\n      <td>False</td>\n      <td>False</td>\n      <td>False</td>\n      <td>False</td>\n      <td>False</td>\n      <td>False</td>\n      <td>False</td>\n      <td>False</td>\n      <td>False</td>\n      <td>False</td>\n    </tr>\n    <tr>\n      <th>1000_27-05-2015</th>\n      <td>False</td>\n      <td>False</td>\n      <td>False</td>\n      <td>False</td>\n      <td>False</td>\n      <td>False</td>\n      <td>False</td>\n      <td>False</td>\n      <td>False</td>\n      <td>False</td>\n      <td>...</td>\n      <td>False</td>\n      <td>False</td>\n      <td>False</td>\n      <td>False</td>\n      <td>False</td>\n      <td>False</td>\n      <td>False</td>\n      <td>False</td>\n      <td>False</td>\n      <td>False</td>\n    </tr>\n    <tr>\n      <th>...</th>\n      <td>...</td>\n      <td>...</td>\n      <td>...</td>\n      <td>...</td>\n      <td>...</td>\n      <td>...</td>\n      <td>...</td>\n      <td>...</td>\n      <td>...</td>\n      <td>...</td>\n      <td>...</td>\n      <td>...</td>\n      <td>...</td>\n      <td>...</td>\n      <td>...</td>\n      <td>...</td>\n      <td>...</td>\n      <td>...</td>\n      <td>...</td>\n      <td>...</td>\n      <td>...</td>\n    </tr>\n    <tr>\n      <th>4999_24-01-2015</th>\n      <td>False</td>\n      <td>False</td>\n      <td>False</td>\n      <td>False</td>\n      <td>False</td>\n      <td>False</td>\n      <td>False</td>\n      <td>False</td>\n      <td>False</td>\n      <td>True</td>\n      <td>...</td>\n      <td>False</td>\n      <td>False</td>\n      <td>False</td>\n      <td>False</td>\n      <td>False</td>\n      <td>False</td>\n      <td>False</td>\n      <td>False</td>\n      <td>True</td>\n      <td>False</td>\n    </tr>\n    <tr>\n      <th>4999_26-12-2015</th>\n      <td>False</td>\n      <td>False</td>\n      <td>False</td>\n      <td>False</td>\n      <td>False</td>\n      <td>False</td>\n      <td>False</td>\n      <td>False</td>\n      <td>False</td>\n      <td>False</td>\n      <td>...</td>\n      <td>False</td>\n      <td>False</td>\n      <td>False</td>\n      <td>False</td>\n      <td>False</td>\n      <td>False</td>\n      <td>False</td>\n      <td>False</td>\n      <td>False</td>\n      <td>False</td>\n    </tr>\n    <tr>\n      <th>5000_09-03-2014</th>\n      <td>False</td>\n      <td>False</td>\n      <td>False</td>\n      <td>False</td>\n      <td>False</td>\n      <td>False</td>\n      <td>False</td>\n      <td>False</td>\n      <td>False</td>\n      <td>False</td>\n      <td>...</td>\n      <td>False</td>\n      <td>False</td>\n      <td>False</td>\n      <td>False</td>\n      <td>False</td>\n      <td>False</td>\n      <td>False</td>\n      <td>False</td>\n      <td>False</td>\n      <td>False</td>\n    </tr>\n    <tr>\n      <th>5000_10-02-2015</th>\n      <td>False</td>\n      <td>False</td>\n      <td>False</td>\n      <td>False</td>\n      <td>False</td>\n      <td>False</td>\n      <td>False</td>\n      <td>False</td>\n      <td>False</td>\n      <td>False</td>\n      <td>...</td>\n      <td>False</td>\n      <td>False</td>\n      <td>False</td>\n      <td>False</td>\n      <td>False</td>\n      <td>False</td>\n      <td>False</td>\n      <td>False</td>\n      <td>False</td>\n      <td>False</td>\n    </tr>\n    <tr>\n      <th>5000_16-11-2014</th>\n      <td>False</td>\n      <td>False</td>\n      <td>False</td>\n      <td>False</td>\n      <td>False</td>\n      <td>False</td>\n      <td>False</td>\n      <td>False</td>\n      <td>False</td>\n      <td>False</td>\n      <td>...</td>\n      <td>False</td>\n      <td>False</td>\n      <td>False</td>\n      <td>False</td>\n      <td>False</td>\n      <td>False</td>\n      <td>False</td>\n      <td>False</td>\n      <td>False</td>\n      <td>False</td>\n    </tr>\n  </tbody>\n</table>\n<p>14963 rows × 167 columns</p>\n</div>"
     },
     "execution_count": 36,
     "metadata": {},
     "output_type": "execute_result"
    }
   ],
   "source": [
    "def encode(item_freq):\n",
    "    res = False\n",
    "    if item_freq > 0:\n",
    "        res = True\n",
    "    return res\n",
    "\n",
    "basket_input = df2.applymap(encode)\n",
    "basket_input"
   ],
   "metadata": {
    "collapsed": false,
    "ExecuteTime": {
     "end_time": "2024-03-26T14:29:50.295512700Z",
     "start_time": "2024-03-26T14:29:49.660328800Z"
    }
   },
   "id": "59a4e5a30366fbbe"
  },
  {
   "cell_type": "markdown",
   "source": [
    "## Apriori"
   ],
   "metadata": {
    "collapsed": false
   },
   "id": "b55ce0ac46854bd7"
  },
  {
   "cell_type": "code",
   "execution_count": 37,
   "outputs": [],
   "source": [
    "from mlxtend.frequent_patterns import apriori, fpgrowth\n",
    "from mlxtend.frequent_patterns import association_rules\n",
    "\n",
    "apriori_items = apriori(basket_input, min_support=0.004, use_colnames=True)\n",
    "apriori_rules = association_rules(apriori_items, metric=\"lift\")"
   ],
   "metadata": {
    "collapsed": false,
    "ExecuteTime": {
     "end_time": "2024-03-26T14:30:01.691691700Z",
     "start_time": "2024-03-26T14:30:01.449155800Z"
    }
   },
   "id": "1ac7f13dd0d13290"
  },
  {
   "cell_type": "code",
   "execution_count": 38,
   "outputs": [
    {
     "data": {
      "text/plain": "           antecedents         consequents  antecedent support  \\\n56        (rolls/buns)        (whole milk)            0.110005   \n57        (whole milk)        (rolls/buns)            0.157923   \n74            (yogurt)        (whole milk)            0.085879   \n75        (whole milk)            (yogurt)            0.157923   \n41              (soda)  (other vegetables)            0.097106   \n40  (other vegetables)              (soda)            0.122101   \n62           (sausage)        (whole milk)            0.060349   \n63        (whole milk)           (sausage)            0.157923   \n\n    consequent support   support  confidence      lift  leverage  conviction  \\\n56            0.157923  0.013968    0.126974  0.804028 -0.003404    0.964550   \n57            0.110005  0.013968    0.088447  0.804028 -0.003404    0.976350   \n74            0.157923  0.011161    0.129961  0.822940 -0.002401    0.967861   \n75            0.085879  0.011161    0.070673  0.822940 -0.002401    0.983638   \n41            0.122101  0.009691    0.099794  0.817302 -0.002166    0.975219   \n40            0.097106  0.009691    0.079365  0.817302 -0.002166    0.980729   \n62            0.157923  0.008955    0.148394  0.939663 -0.000575    0.988811   \n63            0.060349  0.008955    0.056708  0.939663 -0.000575    0.996140   \n\n    zhangs_metric  \n56      -0.214986  \n57      -0.224474  \n74      -0.190525  \n75      -0.203508  \n41      -0.198448  \n40      -0.202951  \n62      -0.063965  \n63      -0.070851  ",
      "text/html": "<div>\n<style scoped>\n    .dataframe tbody tr th:only-of-type {\n        vertical-align: middle;\n    }\n\n    .dataframe tbody tr th {\n        vertical-align: top;\n    }\n\n    .dataframe thead th {\n        text-align: right;\n    }\n</style>\n<table border=\"1\" class=\"dataframe\">\n  <thead>\n    <tr style=\"text-align: right;\">\n      <th></th>\n      <th>antecedents</th>\n      <th>consequents</th>\n      <th>antecedent support</th>\n      <th>consequent support</th>\n      <th>support</th>\n      <th>confidence</th>\n      <th>lift</th>\n      <th>leverage</th>\n      <th>conviction</th>\n      <th>zhangs_metric</th>\n    </tr>\n  </thead>\n  <tbody>\n    <tr>\n      <th>56</th>\n      <td>(rolls/buns)</td>\n      <td>(whole milk)</td>\n      <td>0.110005</td>\n      <td>0.157923</td>\n      <td>0.013968</td>\n      <td>0.126974</td>\n      <td>0.804028</td>\n      <td>-0.003404</td>\n      <td>0.964550</td>\n      <td>-0.214986</td>\n    </tr>\n    <tr>\n      <th>57</th>\n      <td>(whole milk)</td>\n      <td>(rolls/buns)</td>\n      <td>0.157923</td>\n      <td>0.110005</td>\n      <td>0.013968</td>\n      <td>0.088447</td>\n      <td>0.804028</td>\n      <td>-0.003404</td>\n      <td>0.976350</td>\n      <td>-0.224474</td>\n    </tr>\n    <tr>\n      <th>74</th>\n      <td>(yogurt)</td>\n      <td>(whole milk)</td>\n      <td>0.085879</td>\n      <td>0.157923</td>\n      <td>0.011161</td>\n      <td>0.129961</td>\n      <td>0.822940</td>\n      <td>-0.002401</td>\n      <td>0.967861</td>\n      <td>-0.190525</td>\n    </tr>\n    <tr>\n      <th>75</th>\n      <td>(whole milk)</td>\n      <td>(yogurt)</td>\n      <td>0.157923</td>\n      <td>0.085879</td>\n      <td>0.011161</td>\n      <td>0.070673</td>\n      <td>0.822940</td>\n      <td>-0.002401</td>\n      <td>0.983638</td>\n      <td>-0.203508</td>\n    </tr>\n    <tr>\n      <th>41</th>\n      <td>(soda)</td>\n      <td>(other vegetables)</td>\n      <td>0.097106</td>\n      <td>0.122101</td>\n      <td>0.009691</td>\n      <td>0.099794</td>\n      <td>0.817302</td>\n      <td>-0.002166</td>\n      <td>0.975219</td>\n      <td>-0.198448</td>\n    </tr>\n    <tr>\n      <th>40</th>\n      <td>(other vegetables)</td>\n      <td>(soda)</td>\n      <td>0.122101</td>\n      <td>0.097106</td>\n      <td>0.009691</td>\n      <td>0.079365</td>\n      <td>0.817302</td>\n      <td>-0.002166</td>\n      <td>0.980729</td>\n      <td>-0.202951</td>\n    </tr>\n    <tr>\n      <th>62</th>\n      <td>(sausage)</td>\n      <td>(whole milk)</td>\n      <td>0.060349</td>\n      <td>0.157923</td>\n      <td>0.008955</td>\n      <td>0.148394</td>\n      <td>0.939663</td>\n      <td>-0.000575</td>\n      <td>0.988811</td>\n      <td>-0.063965</td>\n    </tr>\n    <tr>\n      <th>63</th>\n      <td>(whole milk)</td>\n      <td>(sausage)</td>\n      <td>0.157923</td>\n      <td>0.060349</td>\n      <td>0.008955</td>\n      <td>0.056708</td>\n      <td>0.939663</td>\n      <td>-0.000575</td>\n      <td>0.996140</td>\n      <td>-0.070851</td>\n    </tr>\n  </tbody>\n</table>\n</div>"
     },
     "execution_count": 38,
     "metadata": {},
     "output_type": "execute_result"
    }
   ],
   "source": [
    "apriori_rules.sort_values([\"support\", \"confidence\", \"lift\"], ascending=False).head(8)"
   ],
   "metadata": {
    "collapsed": false,
    "ExecuteTime": {
     "end_time": "2024-03-26T14:30:03.308162500Z",
     "start_time": "2024-03-26T14:30:03.286411Z"
    }
   },
   "id": "76af9b2c5ba9ebf1"
  },
  {
   "cell_type": "markdown",
   "source": [
    "## FPGrowth"
   ],
   "metadata": {
    "collapsed": false
   },
   "id": "dfb184601d7a39d8"
  },
  {
   "cell_type": "code",
   "execution_count": 39,
   "outputs": [
    {
     "name": "stdout",
     "output_type": "stream",
     "text": [
      "149 itemset(s) from tree conditioned on items ()\n",
      "0 itemset(s) from tree conditioned on items (whole milk)\n",
      "4 itemset(s) from tree conditioned on items (yogurt)\n",
      "0 itemset(s) from tree conditioned on items (yogurt, whole milk)\n",
      "0 itemset(s) from tree conditioned on items (yogurt, soda)\n",
      "1 itemset(s) from tree conditioned on items (yogurt, other vegetables)\n",
      "1 itemset(s) from tree conditioned on items (yogurt, rolls/buns)\n",
      "8 itemset(s) from tree conditioned on items (sausage)\n",
      "0 itemset(s) from tree conditioned on items (sausage, whole milk)\n",
      "1 itemset(s) from tree conditioned on items (sausage, yogurt)\n",
      "1 itemset(s) from tree conditioned on items (sausage, rolls/buns)\n",
      "0 itemset(s) from tree conditioned on items (sausage, bottled water)\n",
      "0 itemset(s) from tree conditioned on items (sausage, root vegetables)\n",
      "0 itemset(s) from tree conditioned on items (sausage, tropical fruit)\n",
      "1 itemset(s) from tree conditioned on items (sausage, soda)\n",
      "0 itemset(s) from tree conditioned on items (sausage, other vegetables)\n",
      "2 itemset(s) from tree conditioned on items (semi-finished bread)\n",
      "0 itemset(s) from tree conditioned on items (semi-finished bread, whole milk)\n",
      "0 itemset(s) from tree conditioned on items (semi-finished bread, other vegetables)\n",
      "10 itemset(s) from tree conditioned on items (pastry)\n",
      "0 itemset(s) from tree conditioned on items (pastry, whole milk)\n",
      "0 itemset(s) from tree conditioned on items (pastry, root vegetables)\n",
      "0 itemset(s) from tree conditioned on items (pastry, other vegetables)\n",
      "0 itemset(s) from tree conditioned on items (pastry, yogurt)\n",
      "0 itemset(s) from tree conditioned on items (pastry, sausage)\n",
      "0 itemset(s) from tree conditioned on items (pastry, tropical fruit)\n",
      "0 itemset(s) from tree conditioned on items (pastry, soda)\n",
      "0 itemset(s) from tree conditioned on items (pastry, rolls/buns)\n",
      "0 itemset(s) from tree conditioned on items (pastry, bottled water)\n",
      "0 itemset(s) from tree conditioned on items (pastry, citrus fruit)\n",
      "9 itemset(s) from tree conditioned on items (salty snack)\n",
      "0 itemset(s) from tree conditioned on items (salty snack, whole milk)\n",
      "0 itemset(s) from tree conditioned on items (salty snack, rolls/buns)\n",
      "0 itemset(s) from tree conditioned on items (salty snack, sausage)\n",
      "0 itemset(s) from tree conditioned on items (salty snack, soda)\n",
      "0 itemset(s) from tree conditioned on items (salty snack, other vegetables)\n",
      "0 itemset(s) from tree conditioned on items (salty snack, tropical fruit)\n",
      "0 itemset(s) from tree conditioned on items (salty snack, canned beer)\n",
      "0 itemset(s) from tree conditioned on items (salty snack, root vegetables)\n",
      "0 itemset(s) from tree conditioned on items (salty snack, yogurt)\n",
      "13 itemset(s) from tree conditioned on items (canned beer)\n",
      "0 itemset(s) from tree conditioned on items (canned beer, shopping bags)\n",
      "0 itemset(s) from tree conditioned on items (canned beer, rolls/buns)\n",
      "0 itemset(s) from tree conditioned on items (canned beer, root vegetables)\n",
      "0 itemset(s) from tree conditioned on items (canned beer, yogurt)\n",
      "0 itemset(s) from tree conditioned on items (canned beer, soda)\n",
      "0 itemset(s) from tree conditioned on items (canned beer, whole milk)\n",
      "0 itemset(s) from tree conditioned on items (canned beer, tropical fruit)\n",
      "0 itemset(s) from tree conditioned on items (canned beer, citrus fruit)\n",
      "0 itemset(s) from tree conditioned on items (canned beer, pastry)\n",
      "0 itemset(s) from tree conditioned on items (canned beer, pip fruit)\n",
      "0 itemset(s) from tree conditioned on items (canned beer, sausage)\n",
      "0 itemset(s) from tree conditioned on items (canned beer, other vegetables)\n",
      "0 itemset(s) from tree conditioned on items (canned beer, bottled water)\n",
      "6 itemset(s) from tree conditioned on items (misc. beverages)\n",
      "0 itemset(s) from tree conditioned on items (misc. beverages, sausage)\n",
      "0 itemset(s) from tree conditioned on items (misc. beverages, root vegetables)\n",
      "0 itemset(s) from tree conditioned on items (misc. beverages, whole milk)\n",
      "0 itemset(s) from tree conditioned on items (misc. beverages, yogurt)\n",
      "0 itemset(s) from tree conditioned on items (misc. beverages, other vegetables)\n",
      "0 itemset(s) from tree conditioned on items (misc. beverages, rolls/buns)\n",
      "5 itemset(s) from tree conditioned on items (hygiene articles)\n",
      "0 itemset(s) from tree conditioned on items (hygiene articles, other vegetables)\n",
      "0 itemset(s) from tree conditioned on items (hygiene articles, soda)\n",
      "0 itemset(s) from tree conditioned on items (hygiene articles, rolls/buns)\n",
      "0 itemset(s) from tree conditioned on items (hygiene articles, root vegetables)\n",
      "0 itemset(s) from tree conditioned on items (hygiene articles, whole milk)\n",
      "3 itemset(s) from tree conditioned on items (soda)\n",
      "0 itemset(s) from tree conditioned on items (soda, whole milk)\n",
      "1 itemset(s) from tree conditioned on items (soda, other vegetables)\n",
      "2 itemset(s) from tree conditioned on items (soda, rolls/buns)\n",
      "0 itemset(s) from tree conditioned on items (soda, rolls/buns, whole milk)\n",
      "0 itemset(s) from tree conditioned on items (soda, rolls/buns, other vegetables)\n",
      "1 itemset(s) from tree conditioned on items (pickled vegetables)\n",
      "17 itemset(s) from tree conditioned on items (frankfurter)\n",
      "0 itemset(s) from tree conditioned on items (frankfurter, soda)\n",
      "0 itemset(s) from tree conditioned on items (frankfurter, whipped/sour cream)\n",
      "0 itemset(s) from tree conditioned on items (frankfurter, whole milk)\n",
      "0 itemset(s) from tree conditioned on items (frankfurter, rolls/buns)\n",
      "0 itemset(s) from tree conditioned on items (frankfurter, bottled beer)\n",
      "0 itemset(s) from tree conditioned on items (frankfurter, bottled water)\n",
      "0 itemset(s) from tree conditioned on items (frankfurter, other vegetables)\n",
      "0 itemset(s) from tree conditioned on items (frankfurter, yogurt)\n",
      "0 itemset(s) from tree conditioned on items (frankfurter, pip fruit)\n",
      "0 itemset(s) from tree conditioned on items (frankfurter, pastry)\n",
      "0 itemset(s) from tree conditioned on items (frankfurter, canned beer)\n",
      "0 itemset(s) from tree conditioned on items (frankfurter, citrus fruit)\n",
      "0 itemset(s) from tree conditioned on items (frankfurter, tropical fruit)\n",
      "0 itemset(s) from tree conditioned on items (frankfurter, newspapers)\n",
      "0 itemset(s) from tree conditioned on items (frankfurter, shopping bags)\n",
      "0 itemset(s) from tree conditioned on items (frankfurter, root vegetables)\n",
      "0 itemset(s) from tree conditioned on items (frankfurter, sausage)\n",
      "20 itemset(s) from tree conditioned on items (curd)\n",
      "0 itemset(s) from tree conditioned on items (curd, frankfurter)\n",
      "0 itemset(s) from tree conditioned on items (curd, yogurt)\n",
      "0 itemset(s) from tree conditioned on items (curd, tropical fruit)\n",
      "0 itemset(s) from tree conditioned on items (curd, root vegetables)\n",
      "0 itemset(s) from tree conditioned on items (curd, soda)\n",
      "0 itemset(s) from tree conditioned on items (curd, pip fruit)\n",
      "0 itemset(s) from tree conditioned on items (curd, rolls/buns)\n",
      "0 itemset(s) from tree conditioned on items (curd, other vegetables)\n",
      "0 itemset(s) from tree conditioned on items (curd, beef)\n",
      "0 itemset(s) from tree conditioned on items (curd, whole milk)\n",
      "0 itemset(s) from tree conditioned on items (curd, whipped/sour cream)\n",
      "0 itemset(s) from tree conditioned on items (curd, shopping bags)\n",
      "0 itemset(s) from tree conditioned on items (curd, pastry)\n",
      "0 itemset(s) from tree conditioned on items (curd, canned beer)\n",
      "0 itemset(s) from tree conditioned on items (curd, bottled water)\n",
      "0 itemset(s) from tree conditioned on items (curd, sausage)\n",
      "0 itemset(s) from tree conditioned on items (curd, citrus fruit)\n",
      "0 itemset(s) from tree conditioned on items (curd, bottled beer)\n",
      "0 itemset(s) from tree conditioned on items (curd, brown bread)\n",
      "0 itemset(s) from tree conditioned on items (curd, pork)\n",
      "2 itemset(s) from tree conditioned on items (rolls/buns)\n",
      "0 itemset(s) from tree conditioned on items (rolls/buns, whole milk)\n",
      "1 itemset(s) from tree conditioned on items (rolls/buns, other vegetables)\n",
      "20 itemset(s) from tree conditioned on items (beef)\n",
      "0 itemset(s) from tree conditioned on items (beef, yogurt)\n",
      "0 itemset(s) from tree conditioned on items (beef, shopping bags)\n",
      "0 itemset(s) from tree conditioned on items (beef, other vegetables)\n",
      "0 itemset(s) from tree conditioned on items (beef, soda)\n",
      "0 itemset(s) from tree conditioned on items (beef, butter)\n",
      "0 itemset(s) from tree conditioned on items (beef, newspapers)\n",
      "0 itemset(s) from tree conditioned on items (beef, domestic eggs)\n",
      "0 itemset(s) from tree conditioned on items (beef, bottled beer)\n",
      "0 itemset(s) from tree conditioned on items (beef, whole milk)\n",
      "0 itemset(s) from tree conditioned on items (beef, citrus fruit)\n",
      "0 itemset(s) from tree conditioned on items (beef, bottled water)\n",
      "0 itemset(s) from tree conditioned on items (beef, whipped/sour cream)\n",
      "0 itemset(s) from tree conditioned on items (beef, brown bread)\n",
      "0 itemset(s) from tree conditioned on items (beef, canned beer)\n",
      "0 itemset(s) from tree conditioned on items (beef, rolls/buns)\n",
      "0 itemset(s) from tree conditioned on items (beef, pastry)\n",
      "0 itemset(s) from tree conditioned on items (beef, frankfurter)\n",
      "0 itemset(s) from tree conditioned on items (beef, tropical fruit)\n",
      "0 itemset(s) from tree conditioned on items (beef, root vegetables)\n",
      "0 itemset(s) from tree conditioned on items (beef, fruit/vegetable juice)\n",
      "14 itemset(s) from tree conditioned on items (white bread)\n",
      "0 itemset(s) from tree conditioned on items (white bread, domestic eggs)\n",
      "0 itemset(s) from tree conditioned on items (white bread, yogurt)\n",
      "0 itemset(s) from tree conditioned on items (white bread, other vegetables)\n",
      "0 itemset(s) from tree conditioned on items (white bread, soda)\n",
      "0 itemset(s) from tree conditioned on items (white bread, whole milk)\n",
      "0 itemset(s) from tree conditioned on items (white bread, rolls/buns)\n",
      "0 itemset(s) from tree conditioned on items (white bread, tropical fruit)\n",
      "0 itemset(s) from tree conditioned on items (white bread, root vegetables)\n",
      "0 itemset(s) from tree conditioned on items (white bread, brown bread)\n",
      "0 itemset(s) from tree conditioned on items (white bread, sausage)\n",
      "0 itemset(s) from tree conditioned on items (white bread, citrus fruit)\n",
      "0 itemset(s) from tree conditioned on items (white bread, bottled water)\n",
      "0 itemset(s) from tree conditioned on items (white bread, canned beer)\n",
      "0 itemset(s) from tree conditioned on items (white bread, whipped/sour cream)\n",
      "15 itemset(s) from tree conditioned on items (whipped/sour cream)\n",
      "0 itemset(s) from tree conditioned on items (whipped/sour cream, soda)\n",
      "0 itemset(s) from tree conditioned on items (whipped/sour cream, whole milk)\n",
      "0 itemset(s) from tree conditioned on items (whipped/sour cream, rolls/buns)\n",
      "0 itemset(s) from tree conditioned on items (whipped/sour cream, root vegetables)\n",
      "0 itemset(s) from tree conditioned on items (whipped/sour cream, sausage)\n",
      "0 itemset(s) from tree conditioned on items (whipped/sour cream, canned beer)\n",
      "0 itemset(s) from tree conditioned on items (whipped/sour cream, pip fruit)\n",
      "0 itemset(s) from tree conditioned on items (whipped/sour cream, shopping bags)\n",
      "0 itemset(s) from tree conditioned on items (whipped/sour cream, bottled water)\n",
      "0 itemset(s) from tree conditioned on items (whipped/sour cream, other vegetables)\n",
      "0 itemset(s) from tree conditioned on items (whipped/sour cream, pastry)\n",
      "0 itemset(s) from tree conditioned on items (whipped/sour cream, yogurt)\n",
      "0 itemset(s) from tree conditioned on items (whipped/sour cream, citrus fruit)\n",
      "0 itemset(s) from tree conditioned on items (whipped/sour cream, tropical fruit)\n",
      "0 itemset(s) from tree conditioned on items (whipped/sour cream, bottled beer)\n",
      "1 itemset(s) from tree conditioned on items (other vegetables)\n",
      "15 itemset(s) from tree conditioned on items (frozen vegetables)\n",
      "0 itemset(s) from tree conditioned on items (frozen vegetables, other vegetables)\n",
      "0 itemset(s) from tree conditioned on items (frozen vegetables, tropical fruit)\n",
      "0 itemset(s) from tree conditioned on items (frozen vegetables, sausage)\n",
      "0 itemset(s) from tree conditioned on items (frozen vegetables, whole milk)\n",
      "0 itemset(s) from tree conditioned on items (frozen vegetables, root vegetables)\n",
      "0 itemset(s) from tree conditioned on items (frozen vegetables, soda)\n",
      "0 itemset(s) from tree conditioned on items (frozen vegetables, bottled water)\n",
      "0 itemset(s) from tree conditioned on items (frozen vegetables, citrus fruit)\n",
      "0 itemset(s) from tree conditioned on items (frozen vegetables, bottled beer)\n",
      "0 itemset(s) from tree conditioned on items (frozen vegetables, rolls/buns)\n",
      "0 itemset(s) from tree conditioned on items (frozen vegetables, pip fruit)\n",
      "0 itemset(s) from tree conditioned on items (frozen vegetables, yogurt)\n",
      "0 itemset(s) from tree conditioned on items (frozen vegetables, frankfurter)\n",
      "0 itemset(s) from tree conditioned on items (frozen vegetables, canned beer)\n",
      "0 itemset(s) from tree conditioned on items (frozen vegetables, beef)\n",
      "19 itemset(s) from tree conditioned on items (butter)\n",
      "0 itemset(s) from tree conditioned on items (butter, whole milk)\n",
      "0 itemset(s) from tree conditioned on items (butter, yogurt)\n",
      "0 itemset(s) from tree conditioned on items (butter, newspapers)\n",
      "0 itemset(s) from tree conditioned on items (butter, soda)\n",
      "0 itemset(s) from tree conditioned on items (butter, other vegetables)\n",
      "0 itemset(s) from tree conditioned on items (butter, whipped/sour cream)\n",
      "0 itemset(s) from tree conditioned on items (butter, sausage)\n",
      "0 itemset(s) from tree conditioned on items (butter, root vegetables)\n",
      "0 itemset(s) from tree conditioned on items (butter, shopping bags)\n",
      "0 itemset(s) from tree conditioned on items (butter, bottled water)\n",
      "0 itemset(s) from tree conditioned on items (butter, frankfurter)\n",
      "0 itemset(s) from tree conditioned on items (butter, pastry)\n",
      "0 itemset(s) from tree conditioned on items (butter, rolls/buns)\n",
      "0 itemset(s) from tree conditioned on items (butter, bottled beer)\n",
      "0 itemset(s) from tree conditioned on items (butter, brown bread)\n",
      "0 itemset(s) from tree conditioned on items (butter, canned beer)\n",
      "0 itemset(s) from tree conditioned on items (butter, citrus fruit)\n",
      "0 itemset(s) from tree conditioned on items (butter, tropical fruit)\n",
      "0 itemset(s) from tree conditioned on items (butter, pip fruit)\n",
      "6 itemset(s) from tree conditioned on items (tropical fruit)\n",
      "0 itemset(s) from tree conditioned on items (tropical fruit, whole milk)\n",
      "0 itemset(s) from tree conditioned on items (tropical fruit, soda)\n",
      "0 itemset(s) from tree conditioned on items (tropical fruit, yogurt)\n",
      "0 itemset(s) from tree conditioned on items (tropical fruit, root vegetables)\n",
      "0 itemset(s) from tree conditioned on items (tropical fruit, rolls/buns)\n",
      "0 itemset(s) from tree conditioned on items (tropical fruit, other vegetables)\n",
      "5 itemset(s) from tree conditioned on items (sugar)\n",
      "0 itemset(s) from tree conditioned on items (sugar, tropical fruit)\n",
      "0 itemset(s) from tree conditioned on items (sugar, whole milk)\n",
      "0 itemset(s) from tree conditioned on items (sugar, bottled water)\n",
      "0 itemset(s) from tree conditioned on items (sugar, other vegetables)\n",
      "0 itemset(s) from tree conditioned on items (sugar, soda)\n",
      "8 itemset(s) from tree conditioned on items (butter milk)\n",
      "0 itemset(s) from tree conditioned on items (butter milk, root vegetables)\n",
      "0 itemset(s) from tree conditioned on items (butter milk, yogurt)\n",
      "0 itemset(s) from tree conditioned on items (butter milk, soda)\n",
      "0 itemset(s) from tree conditioned on items (butter milk, tropical fruit)\n",
      "0 itemset(s) from tree conditioned on items (butter milk, rolls/buns)\n",
      "0 itemset(s) from tree conditioned on items (butter milk, other vegetables)\n",
      "0 itemset(s) from tree conditioned on items (butter milk, whole milk)\n",
      "0 itemset(s) from tree conditioned on items (butter milk, shopping bags)\n",
      "6 itemset(s) from tree conditioned on items (specialty chocolate)\n",
      "0 itemset(s) from tree conditioned on items (specialty chocolate, other vegetables)\n",
      "0 itemset(s) from tree conditioned on items (specialty chocolate, soda)\n",
      "0 itemset(s) from tree conditioned on items (specialty chocolate, citrus fruit)\n",
      "0 itemset(s) from tree conditioned on items (specialty chocolate, tropical fruit)\n",
      "0 itemset(s) from tree conditioned on items (specialty chocolate, whole milk)\n",
      "0 itemset(s) from tree conditioned on items (specialty chocolate, rolls/buns)\n",
      "5 itemset(s) from tree conditioned on items (root vegetables)\n",
      "0 itemset(s) from tree conditioned on items (root vegetables, whole milk)\n",
      "0 itemset(s) from tree conditioned on items (root vegetables, soda)\n",
      "0 itemset(s) from tree conditioned on items (root vegetables, yogurt)\n",
      "0 itemset(s) from tree conditioned on items (root vegetables, rolls/buns)\n",
      "0 itemset(s) from tree conditioned on items (root vegetables, other vegetables)\n",
      "3 itemset(s) from tree conditioned on items (detergent)\n",
      "0 itemset(s) from tree conditioned on items (detergent, yogurt)\n",
      "0 itemset(s) from tree conditioned on items (detergent, whole milk)\n",
      "0 itemset(s) from tree conditioned on items (detergent, rolls/buns)\n",
      "6 itemset(s) from tree conditioned on items (frozen meals)\n",
      "0 itemset(s) from tree conditioned on items (frozen meals, whole milk)\n",
      "0 itemset(s) from tree conditioned on items (frozen meals, yogurt)\n",
      "0 itemset(s) from tree conditioned on items (frozen meals, soda)\n",
      "0 itemset(s) from tree conditioned on items (frozen meals, rolls/buns)\n",
      "0 itemset(s) from tree conditioned on items (frozen meals, sausage)\n",
      "0 itemset(s) from tree conditioned on items (frozen meals, other vegetables)\n",
      "0 itemset(s) from tree conditioned on items (dental care)\n",
      "0 itemset(s) from tree conditioned on items (cling film/bags)\n",
      "0 itemset(s) from tree conditioned on items (dish cleaner)\n",
      "1 itemset(s) from tree conditioned on items (frozen fish)\n",
      "11 itemset(s) from tree conditioned on items (pip fruit)\n",
      "0 itemset(s) from tree conditioned on items (pip fruit, whole milk)\n",
      "0 itemset(s) from tree conditioned on items (pip fruit, tropical fruit)\n",
      "0 itemset(s) from tree conditioned on items (pip fruit, rolls/buns)\n",
      "0 itemset(s) from tree conditioned on items (pip fruit, yogurt)\n",
      "0 itemset(s) from tree conditioned on items (pip fruit, soda)\n",
      "0 itemset(s) from tree conditioned on items (pip fruit, other vegetables)\n",
      "0 itemset(s) from tree conditioned on items (pip fruit, sausage)\n",
      "0 itemset(s) from tree conditioned on items (pip fruit, pastry)\n",
      "0 itemset(s) from tree conditioned on items (pip fruit, root vegetables)\n",
      "0 itemset(s) from tree conditioned on items (pip fruit, citrus fruit)\n",
      "0 itemset(s) from tree conditioned on items (pip fruit, bottled water)\n",
      "13 itemset(s) from tree conditioned on items (chocolate)\n",
      "0 itemset(s) from tree conditioned on items (chocolate, rolls/buns)\n",
      "0 itemset(s) from tree conditioned on items (chocolate, whole milk)\n",
      "0 itemset(s) from tree conditioned on items (chocolate, bottled beer)\n",
      "0 itemset(s) from tree conditioned on items (chocolate, tropical fruit)\n",
      "0 itemset(s) from tree conditioned on items (chocolate, sausage)\n",
      "0 itemset(s) from tree conditioned on items (chocolate, pip fruit)\n",
      "0 itemset(s) from tree conditioned on items (chocolate, bottled water)\n",
      "0 itemset(s) from tree conditioned on items (chocolate, yogurt)\n",
      "0 itemset(s) from tree conditioned on items (chocolate, canned beer)\n",
      "0 itemset(s) from tree conditioned on items (chocolate, soda)\n",
      "0 itemset(s) from tree conditioned on items (chocolate, root vegetables)\n",
      "0 itemset(s) from tree conditioned on items (chocolate, other vegetables)\n",
      "0 itemset(s) from tree conditioned on items (chocolate, citrus fruit)\n",
      "2 itemset(s) from tree conditioned on items (red/blush wine)\n",
      "0 itemset(s) from tree conditioned on items (red/blush wine, rolls/buns)\n",
      "0 itemset(s) from tree conditioned on items (red/blush wine, other vegetables)\n",
      "12 itemset(s) from tree conditioned on items (shopping bags)\n",
      "0 itemset(s) from tree conditioned on items (shopping bags, other vegetables)\n",
      "0 itemset(s) from tree conditioned on items (shopping bags, rolls/buns)\n",
      "0 itemset(s) from tree conditioned on items (shopping bags, root vegetables)\n",
      "0 itemset(s) from tree conditioned on items (shopping bags, tropical fruit)\n",
      "0 itemset(s) from tree conditioned on items (shopping bags, soda)\n",
      "0 itemset(s) from tree conditioned on items (shopping bags, whole milk)\n",
      "0 itemset(s) from tree conditioned on items (shopping bags, pastry)\n",
      "0 itemset(s) from tree conditioned on items (shopping bags, citrus fruit)\n",
      "0 itemset(s) from tree conditioned on items (shopping bags, yogurt)\n",
      "0 itemset(s) from tree conditioned on items (shopping bags, sausage)\n",
      "0 itemset(s) from tree conditioned on items (shopping bags, bottled water)\n",
      "0 itemset(s) from tree conditioned on items (shopping bags, pip fruit)\n",
      "1 itemset(s) from tree conditioned on items (packaged fruit/vegetables)\n",
      "22 itemset(s) from tree conditioned on items (margarine)\n",
      "0 itemset(s) from tree conditioned on items (margarine, whipped/sour cream)\n",
      "0 itemset(s) from tree conditioned on items (margarine, yogurt)\n",
      "0 itemset(s) from tree conditioned on items (margarine, frankfurter)\n",
      "0 itemset(s) from tree conditioned on items (margarine, citrus fruit)\n",
      "0 itemset(s) from tree conditioned on items (margarine, whole milk)\n",
      "0 itemset(s) from tree conditioned on items (margarine, root vegetables)\n",
      "0 itemset(s) from tree conditioned on items (margarine, tropical fruit)\n",
      "0 itemset(s) from tree conditioned on items (margarine, other vegetables)\n",
      "0 itemset(s) from tree conditioned on items (margarine, beef)\n",
      "0 itemset(s) from tree conditioned on items (margarine, canned beer)\n",
      "0 itemset(s) from tree conditioned on items (margarine, pip fruit)\n",
      "0 itemset(s) from tree conditioned on items (margarine, butter)\n",
      "0 itemset(s) from tree conditioned on items (margarine, pastry)\n",
      "0 itemset(s) from tree conditioned on items (margarine, curd)\n",
      "0 itemset(s) from tree conditioned on items (margarine, rolls/buns)\n",
      "0 itemset(s) from tree conditioned on items (margarine, shopping bags)\n",
      "0 itemset(s) from tree conditioned on items (margarine, soda)\n",
      "0 itemset(s) from tree conditioned on items (margarine, pork)\n",
      "0 itemset(s) from tree conditioned on items (margarine, bottled water)\n",
      "0 itemset(s) from tree conditioned on items (margarine, sausage)\n",
      "0 itemset(s) from tree conditioned on items (margarine, fruit/vegetable juice)\n",
      "0 itemset(s) from tree conditioned on items (margarine, bottled beer)\n",
      "7 itemset(s) from tree conditioned on items (bottled water)\n",
      "0 itemset(s) from tree conditioned on items (bottled water, rolls/buns)\n",
      "0 itemset(s) from tree conditioned on items (bottled water, soda)\n",
      "0 itemset(s) from tree conditioned on items (bottled water, yogurt)\n",
      "0 itemset(s) from tree conditioned on items (bottled water, root vegetables)\n",
      "0 itemset(s) from tree conditioned on items (bottled water, whole milk)\n",
      "0 itemset(s) from tree conditioned on items (bottled water, tropical fruit)\n",
      "0 itemset(s) from tree conditioned on items (bottled water, other vegetables)\n",
      "0 itemset(s) from tree conditioned on items (softener)\n",
      "0 itemset(s) from tree conditioned on items (rice)\n",
      "0 itemset(s) from tree conditioned on items (skin care)\n",
      "14 itemset(s) from tree conditioned on items (bottled beer)\n",
      "0 itemset(s) from tree conditioned on items (bottled beer, whole milk)\n",
      "0 itemset(s) from tree conditioned on items (bottled beer, rolls/buns)\n",
      "0 itemset(s) from tree conditioned on items (bottled beer, yogurt)\n",
      "0 itemset(s) from tree conditioned on items (bottled beer, sausage)\n",
      "0 itemset(s) from tree conditioned on items (bottled beer, soda)\n",
      "0 itemset(s) from tree conditioned on items (bottled beer, root vegetables)\n",
      "0 itemset(s) from tree conditioned on items (bottled beer, tropical fruit)\n",
      "0 itemset(s) from tree conditioned on items (bottled beer, other vegetables)\n",
      "0 itemset(s) from tree conditioned on items (bottled beer, bottled water)\n",
      "0 itemset(s) from tree conditioned on items (bottled beer, canned beer)\n",
      "0 itemset(s) from tree conditioned on items (bottled beer, citrus fruit)\n",
      "0 itemset(s) from tree conditioned on items (bottled beer, shopping bags)\n",
      "0 itemset(s) from tree conditioned on items (bottled beer, pastry)\n",
      "0 itemset(s) from tree conditioned on items (bottled beer, pip fruit)\n",
      "19 itemset(s) from tree conditioned on items (chicken)\n",
      "0 itemset(s) from tree conditioned on items (chicken, whole milk)\n",
      "0 itemset(s) from tree conditioned on items (chicken, rolls/buns)\n",
      "0 itemset(s) from tree conditioned on items (chicken, bottled beer)\n",
      "0 itemset(s) from tree conditioned on items (chicken, tropical fruit)\n",
      "0 itemset(s) from tree conditioned on items (chicken, other vegetables)\n",
      "0 itemset(s) from tree conditioned on items (chicken, bottled water)\n",
      "0 itemset(s) from tree conditioned on items (chicken, soda)\n",
      "0 itemset(s) from tree conditioned on items (chicken, pastry)\n",
      "0 itemset(s) from tree conditioned on items (chicken, shopping bags)\n",
      "0 itemset(s) from tree conditioned on items (chicken, domestic eggs)\n",
      "0 itemset(s) from tree conditioned on items (chicken, yogurt)\n",
      "0 itemset(s) from tree conditioned on items (chicken, pip fruit)\n",
      "0 itemset(s) from tree conditioned on items (chicken, root vegetables)\n",
      "0 itemset(s) from tree conditioned on items (chicken, margarine)\n",
      "0 itemset(s) from tree conditioned on items (chicken, citrus fruit)\n",
      "0 itemset(s) from tree conditioned on items (chicken, curd)\n",
      "0 itemset(s) from tree conditioned on items (chicken, sausage)\n",
      "0 itemset(s) from tree conditioned on items (chicken, whipped/sour cream)\n",
      "0 itemset(s) from tree conditioned on items (chicken, canned beer)\n",
      "2 itemset(s) from tree conditioned on items (flour)\n",
      "0 itemset(s) from tree conditioned on items (flour, whole milk)\n",
      "0 itemset(s) from tree conditioned on items (flour, tropical fruit)\n",
      "11 itemset(s) from tree conditioned on items (dessert)\n",
      "0 itemset(s) from tree conditioned on items (dessert, soda)\n",
      "0 itemset(s) from tree conditioned on items (dessert, shopping bags)\n",
      "0 itemset(s) from tree conditioned on items (dessert, rolls/buns)\n",
      "0 itemset(s) from tree conditioned on items (dessert, sausage)\n",
      "0 itemset(s) from tree conditioned on items (dessert, bottled water)\n",
      "0 itemset(s) from tree conditioned on items (dessert, root vegetables)\n",
      "0 itemset(s) from tree conditioned on items (dessert, other vegetables)\n",
      "0 itemset(s) from tree conditioned on items (dessert, tropical fruit)\n",
      "0 itemset(s) from tree conditioned on items (dessert, whole milk)\n",
      "0 itemset(s) from tree conditioned on items (dessert, yogurt)\n",
      "0 itemset(s) from tree conditioned on items (dessert, curd)\n",
      "9 itemset(s) from tree conditioned on items (hamburger meat)\n",
      "0 itemset(s) from tree conditioned on items (hamburger meat, yogurt)\n",
      "0 itemset(s) from tree conditioned on items (hamburger meat, other vegetables)\n",
      "0 itemset(s) from tree conditioned on items (hamburger meat, tropical fruit)\n",
      "0 itemset(s) from tree conditioned on items (hamburger meat, bottled beer)\n",
      "0 itemset(s) from tree conditioned on items (hamburger meat, soda)\n",
      "0 itemset(s) from tree conditioned on items (hamburger meat, pastry)\n",
      "0 itemset(s) from tree conditioned on items (hamburger meat, whole milk)\n",
      "0 itemset(s) from tree conditioned on items (hamburger meat, rolls/buns)\n",
      "0 itemset(s) from tree conditioned on items (hamburger meat, root vegetables)\n",
      "0 itemset(s) from tree conditioned on items (liquor (appetizer))\n",
      "0 itemset(s) from tree conditioned on items (liver loaf)\n",
      "18 itemset(s) from tree conditioned on items (domestic eggs)\n",
      "0 itemset(s) from tree conditioned on items (domestic eggs, soda)\n",
      "0 itemset(s) from tree conditioned on items (domestic eggs, tropical fruit)\n",
      "0 itemset(s) from tree conditioned on items (domestic eggs, yogurt)\n",
      "0 itemset(s) from tree conditioned on items (domestic eggs, root vegetables)\n",
      "0 itemset(s) from tree conditioned on items (domestic eggs, bottled water)\n",
      "0 itemset(s) from tree conditioned on items (domestic eggs, other vegetables)\n",
      "0 itemset(s) from tree conditioned on items (domestic eggs, rolls/buns)\n",
      "0 itemset(s) from tree conditioned on items (domestic eggs, sausage)\n",
      "0 itemset(s) from tree conditioned on items (domestic eggs, bottled beer)\n",
      "0 itemset(s) from tree conditioned on items (domestic eggs, pork)\n",
      "0 itemset(s) from tree conditioned on items (domestic eggs, citrus fruit)\n",
      "0 itemset(s) from tree conditioned on items (domestic eggs, newspapers)\n",
      "0 itemset(s) from tree conditioned on items (domestic eggs, whole milk)\n",
      "0 itemset(s) from tree conditioned on items (domestic eggs, shopping bags)\n",
      "0 itemset(s) from tree conditioned on items (domestic eggs, canned beer)\n",
      "0 itemset(s) from tree conditioned on items (domestic eggs, pastry)\n",
      "0 itemset(s) from tree conditioned on items (domestic eggs, brown bread)\n",
      "0 itemset(s) from tree conditioned on items (domestic eggs, frankfurter)\n",
      "1 itemset(s) from tree conditioned on items (white wine)\n",
      "0 itemset(s) from tree conditioned on items (photo/film)\n",
      "16 itemset(s) from tree conditioned on items (newspapers)\n",
      "0 itemset(s) from tree conditioned on items (newspapers, yogurt)\n",
      "0 itemset(s) from tree conditioned on items (newspapers, whipped/sour cream)\n",
      "0 itemset(s) from tree conditioned on items (newspapers, tropical fruit)\n",
      "0 itemset(s) from tree conditioned on items (newspapers, whole milk)\n",
      "0 itemset(s) from tree conditioned on items (newspapers, soda)\n",
      "0 itemset(s) from tree conditioned on items (newspapers, bottled water)\n",
      "0 itemset(s) from tree conditioned on items (newspapers, other vegetables)\n",
      "0 itemset(s) from tree conditioned on items (newspapers, pastry)\n",
      "0 itemset(s) from tree conditioned on items (newspapers, rolls/buns)\n",
      "0 itemset(s) from tree conditioned on items (newspapers, root vegetables)\n",
      "0 itemset(s) from tree conditioned on items (newspapers, bottled beer)\n",
      "0 itemset(s) from tree conditioned on items (newspapers, citrus fruit)\n",
      "0 itemset(s) from tree conditioned on items (newspapers, pip fruit)\n",
      "0 itemset(s) from tree conditioned on items (newspapers, canned beer)\n",
      "0 itemset(s) from tree conditioned on items (newspapers, sausage)\n",
      "0 itemset(s) from tree conditioned on items (newspapers, shopping bags)\n",
      "2 itemset(s) from tree conditioned on items (herbs)\n",
      "0 itemset(s) from tree conditioned on items (herbs, yogurt)\n",
      "0 itemset(s) from tree conditioned on items (herbs, whole milk)\n",
      "0 itemset(s) from tree conditioned on items (ketchup)\n",
      "0 itemset(s) from tree conditioned on items (canned fish)\n",
      "0 itemset(s) from tree conditioned on items (cocoa drinks)\n",
      "16 itemset(s) from tree conditioned on items (coffee)\n",
      "0 itemset(s) from tree conditioned on items (coffee, pip fruit)\n",
      "0 itemset(s) from tree conditioned on items (coffee, shopping bags)\n",
      "0 itemset(s) from tree conditioned on items (coffee, rolls/buns)\n",
      "0 itemset(s) from tree conditioned on items (coffee, tropical fruit)\n",
      "0 itemset(s) from tree conditioned on items (coffee, whole milk)\n",
      "0 itemset(s) from tree conditioned on items (coffee, frankfurter)\n",
      "0 itemset(s) from tree conditioned on items (coffee, root vegetables)\n",
      "0 itemset(s) from tree conditioned on items (coffee, domestic eggs)\n",
      "0 itemset(s) from tree conditioned on items (coffee, soda)\n",
      "0 itemset(s) from tree conditioned on items (coffee, pastry)\n",
      "0 itemset(s) from tree conditioned on items (coffee, canned beer)\n",
      "0 itemset(s) from tree conditioned on items (coffee, yogurt)\n",
      "0 itemset(s) from tree conditioned on items (coffee, citrus fruit)\n",
      "0 itemset(s) from tree conditioned on items (coffee, sausage)\n",
      "0 itemset(s) from tree conditioned on items (coffee, other vegetables)\n",
      "0 itemset(s) from tree conditioned on items (coffee, bottled water)\n",
      "9 itemset(s) from tree conditioned on items (UHT-milk)\n",
      "0 itemset(s) from tree conditioned on items (UHT-milk, other vegetables)\n",
      "0 itemset(s) from tree conditioned on items (UHT-milk, tropical fruit)\n",
      "0 itemset(s) from tree conditioned on items (UHT-milk, whole milk)\n",
      "0 itemset(s) from tree conditioned on items (UHT-milk, soda)\n",
      "0 itemset(s) from tree conditioned on items (UHT-milk, rolls/buns)\n",
      "0 itemset(s) from tree conditioned on items (UHT-milk, bottled water)\n",
      "0 itemset(s) from tree conditioned on items (UHT-milk, root vegetables)\n",
      "0 itemset(s) from tree conditioned on items (UHT-milk, sausage)\n",
      "0 itemset(s) from tree conditioned on items (UHT-milk, yogurt)\n",
      "5 itemset(s) from tree conditioned on items (sliced cheese)\n",
      "0 itemset(s) from tree conditioned on items (sliced cheese, soda)\n",
      "0 itemset(s) from tree conditioned on items (sliced cheese, other vegetables)\n",
      "0 itemset(s) from tree conditioned on items (sliced cheese, whole milk)\n",
      "0 itemset(s) from tree conditioned on items (sliced cheese, sausage)\n",
      "0 itemset(s) from tree conditioned on items (sliced cheese, root vegetables)\n",
      "0 itemset(s) from tree conditioned on items (kitchen towels)\n",
      "5 itemset(s) from tree conditioned on items (specialty bar)\n",
      "0 itemset(s) from tree conditioned on items (specialty bar, yogurt)\n",
      "0 itemset(s) from tree conditioned on items (specialty bar, other vegetables)\n",
      "0 itemset(s) from tree conditioned on items (specialty bar, soda)\n",
      "0 itemset(s) from tree conditioned on items (specialty bar, whole milk)\n",
      "0 itemset(s) from tree conditioned on items (specialty bar, rolls/buns)\n",
      "0 itemset(s) from tree conditioned on items (candles)\n",
      "0 itemset(s) from tree conditioned on items (curd cheese)\n",
      "6 itemset(s) from tree conditioned on items (grapes)\n",
      "0 itemset(s) from tree conditioned on items (grapes, whole milk)\n",
      "0 itemset(s) from tree conditioned on items (grapes, other vegetables)\n",
      "0 itemset(s) from tree conditioned on items (grapes, root vegetables)\n",
      "0 itemset(s) from tree conditioned on items (grapes, rolls/buns)\n",
      "0 itemset(s) from tree conditioned on items (grapes, sausage)\n",
      "0 itemset(s) from tree conditioned on items (grapes, soda)\n",
      "9 itemset(s) from tree conditioned on items (citrus fruit)\n",
      "0 itemset(s) from tree conditioned on items (citrus fruit, rolls/buns)\n",
      "0 itemset(s) from tree conditioned on items (citrus fruit, bottled water)\n",
      "0 itemset(s) from tree conditioned on items (citrus fruit, whole milk)\n",
      "0 itemset(s) from tree conditioned on items (citrus fruit, yogurt)\n",
      "0 itemset(s) from tree conditioned on items (citrus fruit, root vegetables)\n",
      "0 itemset(s) from tree conditioned on items (citrus fruit, tropical fruit)\n",
      "0 itemset(s) from tree conditioned on items (citrus fruit, soda)\n",
      "0 itemset(s) from tree conditioned on items (citrus fruit, sausage)\n",
      "0 itemset(s) from tree conditioned on items (citrus fruit, other vegetables)\n",
      "6 itemset(s) from tree conditioned on items (candy)\n",
      "0 itemset(s) from tree conditioned on items (candy, rolls/buns)\n",
      "0 itemset(s) from tree conditioned on items (candy, citrus fruit)\n",
      "0 itemset(s) from tree conditioned on items (candy, whole milk)\n",
      "0 itemset(s) from tree conditioned on items (candy, other vegetables)\n",
      "0 itemset(s) from tree conditioned on items (candy, soda)\n",
      "0 itemset(s) from tree conditioned on items (candy, yogurt)\n",
      "9 itemset(s) from tree conditioned on items (onions)\n",
      "0 itemset(s) from tree conditioned on items (onions, rolls/buns)\n",
      "0 itemset(s) from tree conditioned on items (onions, root vegetables)\n",
      "0 itemset(s) from tree conditioned on items (onions, tropical fruit)\n",
      "0 itemset(s) from tree conditioned on items (onions, bottled water)\n",
      "0 itemset(s) from tree conditioned on items (onions, other vegetables)\n",
      "0 itemset(s) from tree conditioned on items (onions, whole milk)\n",
      "0 itemset(s) from tree conditioned on items (onions, soda)\n",
      "0 itemset(s) from tree conditioned on items (onions, whipped/sour cream)\n",
      "0 itemset(s) from tree conditioned on items (onions, yogurt)\n",
      "17 itemset(s) from tree conditioned on items (brown bread)\n",
      "0 itemset(s) from tree conditioned on items (brown bread, whole milk)\n",
      "0 itemset(s) from tree conditioned on items (brown bread, tropical fruit)\n",
      "0 itemset(s) from tree conditioned on items (brown bread, sausage)\n",
      "0 itemset(s) from tree conditioned on items (brown bread, pip fruit)\n",
      "0 itemset(s) from tree conditioned on items (brown bread, yogurt)\n",
      "0 itemset(s) from tree conditioned on items (brown bread, shopping bags)\n",
      "0 itemset(s) from tree conditioned on items (brown bread, soda)\n",
      "0 itemset(s) from tree conditioned on items (brown bread, citrus fruit)\n",
      "0 itemset(s) from tree conditioned on items (brown bread, pastry)\n",
      "0 itemset(s) from tree conditioned on items (brown bread, rolls/buns)\n",
      "0 itemset(s) from tree conditioned on items (brown bread, canned beer)\n",
      "0 itemset(s) from tree conditioned on items (brown bread, other vegetables)\n",
      "0 itemset(s) from tree conditioned on items (brown bread, root vegetables)\n",
      "0 itemset(s) from tree conditioned on items (brown bread, bottled beer)\n",
      "0 itemset(s) from tree conditioned on items (brown bread, whipped/sour cream)\n",
      "0 itemset(s) from tree conditioned on items (brown bread, bottled water)\n",
      "0 itemset(s) from tree conditioned on items (brown bread, frankfurter)\n",
      "3 itemset(s) from tree conditioned on items (processed cheese)\n",
      "0 itemset(s) from tree conditioned on items (processed cheese, whole milk)\n",
      "0 itemset(s) from tree conditioned on items (processed cheese, rolls/buns)\n",
      "0 itemset(s) from tree conditioned on items (processed cheese, root vegetables)\n",
      "5 itemset(s) from tree conditioned on items (meat)\n",
      "0 itemset(s) from tree conditioned on items (meat, whole milk)\n",
      "0 itemset(s) from tree conditioned on items (meat, other vegetables)\n",
      "0 itemset(s) from tree conditioned on items (meat, soda)\n",
      "0 itemset(s) from tree conditioned on items (meat, root vegetables)\n",
      "0 itemset(s) from tree conditioned on items (meat, rolls/buns)\n",
      "0 itemset(s) from tree conditioned on items (roll products )\n",
      "0 itemset(s) from tree conditioned on items (mayonnaise)\n",
      "0 itemset(s) from tree conditioned on items (mustard)\n",
      "9 itemset(s) from tree conditioned on items (napkins)\n",
      "0 itemset(s) from tree conditioned on items (napkins, whole milk)\n",
      "0 itemset(s) from tree conditioned on items (napkins, rolls/buns)\n",
      "0 itemset(s) from tree conditioned on items (napkins, pastry)\n",
      "0 itemset(s) from tree conditioned on items (napkins, yogurt)\n",
      "0 itemset(s) from tree conditioned on items (napkins, other vegetables)\n",
      "0 itemset(s) from tree conditioned on items (napkins, root vegetables)\n",
      "0 itemset(s) from tree conditioned on items (napkins, citrus fruit)\n",
      "0 itemset(s) from tree conditioned on items (napkins, tropical fruit)\n",
      "0 itemset(s) from tree conditioned on items (napkins, soda)\n",
      "6 itemset(s) from tree conditioned on items (hard cheese)\n",
      "0 itemset(s) from tree conditioned on items (hard cheese, whole milk)\n",
      "0 itemset(s) from tree conditioned on items (hard cheese, yogurt)\n",
      "0 itemset(s) from tree conditioned on items (hard cheese, other vegetables)\n",
      "0 itemset(s) from tree conditioned on items (hard cheese, root vegetables)\n",
      "0 itemset(s) from tree conditioned on items (hard cheese, rolls/buns)\n",
      "0 itemset(s) from tree conditioned on items (hard cheese, pip fruit)\n",
      "0 itemset(s) from tree conditioned on items (cookware)\n",
      "17 itemset(s) from tree conditioned on items (fruit/vegetable juice)\n",
      "0 itemset(s) from tree conditioned on items (fruit/vegetable juice, rolls/buns)\n",
      "0 itemset(s) from tree conditioned on items (fruit/vegetable juice, sausage)\n",
      "0 itemset(s) from tree conditioned on items (fruit/vegetable juice, butter)\n",
      "0 itemset(s) from tree conditioned on items (fruit/vegetable juice, whole milk)\n",
      "0 itemset(s) from tree conditioned on items (fruit/vegetable juice, soda)\n",
      "0 itemset(s) from tree conditioned on items (fruit/vegetable juice, bottled beer)\n",
      "0 itemset(s) from tree conditioned on items (fruit/vegetable juice, yogurt)\n",
      "0 itemset(s) from tree conditioned on items (fruit/vegetable juice, citrus fruit)\n",
      "0 itemset(s) from tree conditioned on items (fruit/vegetable juice, bottled water)\n",
      "0 itemset(s) from tree conditioned on items (fruit/vegetable juice, frankfurter)\n",
      "0 itemset(s) from tree conditioned on items (fruit/vegetable juice, pip fruit)\n",
      "0 itemset(s) from tree conditioned on items (fruit/vegetable juice, other vegetables)\n",
      "0 itemset(s) from tree conditioned on items (fruit/vegetable juice, canned beer)\n",
      "0 itemset(s) from tree conditioned on items (fruit/vegetable juice, domestic eggs)\n",
      "0 itemset(s) from tree conditioned on items (fruit/vegetable juice, root vegetables)\n",
      "0 itemset(s) from tree conditioned on items (fruit/vegetable juice, tropical fruit)\n",
      "0 itemset(s) from tree conditioned on items (fruit/vegetable juice, pastry)\n",
      "4 itemset(s) from tree conditioned on items (soft cheese)\n",
      "0 itemset(s) from tree conditioned on items (soft cheese, yogurt)\n",
      "0 itemset(s) from tree conditioned on items (soft cheese, other vegetables)\n",
      "0 itemset(s) from tree conditioned on items (soft cheese, rolls/buns)\n",
      "0 itemset(s) from tree conditioned on items (soft cheese, whole milk)\n",
      "5 itemset(s) from tree conditioned on items (oil)\n",
      "0 itemset(s) from tree conditioned on items (oil, rolls/buns)\n",
      "0 itemset(s) from tree conditioned on items (oil, yogurt)\n",
      "0 itemset(s) from tree conditioned on items (oil, other vegetables)\n",
      "0 itemset(s) from tree conditioned on items (oil, whole milk)\n",
      "0 itemset(s) from tree conditioned on items (oil, soda)\n",
      "0 itemset(s) from tree conditioned on items (pet care)\n",
      "7 itemset(s) from tree conditioned on items (long life bakery product)\n",
      "0 itemset(s) from tree conditioned on items (long life bakery product, whole milk)\n",
      "0 itemset(s) from tree conditioned on items (long life bakery product, other vegetables)\n",
      "0 itemset(s) from tree conditioned on items (long life bakery product, tropical fruit)\n",
      "0 itemset(s) from tree conditioned on items (long life bakery product, soda)\n",
      "0 itemset(s) from tree conditioned on items (long life bakery product, rolls/buns)\n",
      "0 itemset(s) from tree conditioned on items (long life bakery product, yogurt)\n",
      "0 itemset(s) from tree conditioned on items (long life bakery product, sausage)\n",
      "6 itemset(s) from tree conditioned on items (beverages)\n",
      "0 itemset(s) from tree conditioned on items (beverages, sausage)\n",
      "0 itemset(s) from tree conditioned on items (beverages, rolls/buns)\n",
      "0 itemset(s) from tree conditioned on items (beverages, soda)\n",
      "0 itemset(s) from tree conditioned on items (beverages, whole milk)\n",
      "0 itemset(s) from tree conditioned on items (beverages, bottled water)\n",
      "0 itemset(s) from tree conditioned on items (beverages, other vegetables)\n",
      "10 itemset(s) from tree conditioned on items (berries)\n",
      "0 itemset(s) from tree conditioned on items (berries, yogurt)\n",
      "0 itemset(s) from tree conditioned on items (berries, other vegetables)\n",
      "0 itemset(s) from tree conditioned on items (berries, soda)\n",
      "0 itemset(s) from tree conditioned on items (berries, pip fruit)\n",
      "0 itemset(s) from tree conditioned on items (berries, pastry)\n",
      "0 itemset(s) from tree conditioned on items (berries, bottled water)\n",
      "0 itemset(s) from tree conditioned on items (berries, tropical fruit)\n",
      "0 itemset(s) from tree conditioned on items (berries, rolls/buns)\n",
      "0 itemset(s) from tree conditioned on items (berries, whole milk)\n",
      "0 itemset(s) from tree conditioned on items (berries, root vegetables)\n",
      "0 itemset(s) from tree conditioned on items (cake bar)\n",
      "0 itemset(s) from tree conditioned on items (spices)\n",
      "0 itemset(s) from tree conditioned on items (baking powder)\n",
      "0 itemset(s) from tree conditioned on items (liquor)\n",
      "0 itemset(s) from tree conditioned on items (male cosmetics)\n",
      "0 itemset(s) from tree conditioned on items (fish)\n",
      "11 itemset(s) from tree conditioned on items (cream cheese )\n",
      "0 itemset(s) from tree conditioned on items (cream cheese , other vegetables)\n",
      "0 itemset(s) from tree conditioned on items (cream cheese , soda)\n",
      "0 itemset(s) from tree conditioned on items (cream cheese , tropical fruit)\n",
      "0 itemset(s) from tree conditioned on items (cream cheese , rolls/buns)\n",
      "0 itemset(s) from tree conditioned on items (cream cheese , root vegetables)\n",
      "0 itemset(s) from tree conditioned on items (cream cheese , whole milk)\n",
      "0 itemset(s) from tree conditioned on items (cream cheese , sausage)\n",
      "0 itemset(s) from tree conditioned on items (cream cheese , citrus fruit)\n",
      "0 itemset(s) from tree conditioned on items (cream cheese , shopping bags)\n",
      "0 itemset(s) from tree conditioned on items (cream cheese , frankfurter)\n",
      "0 itemset(s) from tree conditioned on items (cream cheese , yogurt)\n",
      "6 itemset(s) from tree conditioned on items (ham)\n",
      "0 itemset(s) from tree conditioned on items (ham, whole milk)\n",
      "0 itemset(s) from tree conditioned on items (ham, other vegetables)\n",
      "0 itemset(s) from tree conditioned on items (ham, yogurt)\n",
      "0 itemset(s) from tree conditioned on items (ham, soda)\n",
      "0 itemset(s) from tree conditioned on items (ham, tropical fruit)\n",
      "0 itemset(s) from tree conditioned on items (ham, rolls/buns)\n",
      "0 itemset(s) from tree conditioned on items (salt)\n",
      "16 itemset(s) from tree conditioned on items (pork)\n",
      "0 itemset(s) from tree conditioned on items (pork, whole milk)\n",
      "0 itemset(s) from tree conditioned on items (pork, sausage)\n",
      "0 itemset(s) from tree conditioned on items (pork, bottled water)\n",
      "0 itemset(s) from tree conditioned on items (pork, other vegetables)\n",
      "0 itemset(s) from tree conditioned on items (pork, yogurt)\n",
      "0 itemset(s) from tree conditioned on items (pork, shopping bags)\n",
      "0 itemset(s) from tree conditioned on items (pork, rolls/buns)\n",
      "0 itemset(s) from tree conditioned on items (pork, soda)\n",
      "0 itemset(s) from tree conditioned on items (pork, root vegetables)\n",
      "0 itemset(s) from tree conditioned on items (pork, tropical fruit)\n",
      "0 itemset(s) from tree conditioned on items (pork, brown bread)\n",
      "0 itemset(s) from tree conditioned on items (pork, pastry)\n",
      "0 itemset(s) from tree conditioned on items (pork, citrus fruit)\n",
      "0 itemset(s) from tree conditioned on items (pork, canned beer)\n",
      "0 itemset(s) from tree conditioned on items (pork, pip fruit)\n",
      "0 itemset(s) from tree conditioned on items (pork, bottled beer)\n",
      "0 itemset(s) from tree conditioned on items (flower (seeds))\n",
      "4 itemset(s) from tree conditioned on items (ice cream)\n",
      "0 itemset(s) from tree conditioned on items (ice cream, whole milk)\n",
      "0 itemset(s) from tree conditioned on items (ice cream, other vegetables)\n",
      "0 itemset(s) from tree conditioned on items (ice cream, soda)\n",
      "0 itemset(s) from tree conditioned on items (ice cream, rolls/buns)\n",
      "2 itemset(s) from tree conditioned on items (pot plants)\n",
      "0 itemset(s) from tree conditioned on items (pot plants, whole milk)\n",
      "0 itemset(s) from tree conditioned on items (pot plants, other vegetables)\n",
      "6 itemset(s) from tree conditioned on items (waffles)\n",
      "0 itemset(s) from tree conditioned on items (waffles, rolls/buns)\n",
      "0 itemset(s) from tree conditioned on items (waffles, whole milk)\n",
      "0 itemset(s) from tree conditioned on items (waffles, other vegetables)\n",
      "0 itemset(s) from tree conditioned on items (waffles, root vegetables)\n",
      "0 itemset(s) from tree conditioned on items (waffles, tropical fruit)\n",
      "0 itemset(s) from tree conditioned on items (waffles, yogurt)\n",
      "0 itemset(s) from tree conditioned on items (snack products)\n",
      "3 itemset(s) from tree conditioned on items (cat food)\n",
      "0 itemset(s) from tree conditioned on items (cat food, rolls/buns)\n",
      "0 itemset(s) from tree conditioned on items (cat food, tropical fruit)\n",
      "0 itemset(s) from tree conditioned on items (cat food, whole milk)\n",
      "0 itemset(s) from tree conditioned on items (vinegar)\n",
      "4 itemset(s) from tree conditioned on items (chewing gum)\n",
      "0 itemset(s) from tree conditioned on items (chewing gum, whole milk)\n",
      "0 itemset(s) from tree conditioned on items (chewing gum, yogurt)\n",
      "0 itemset(s) from tree conditioned on items (chewing gum, other vegetables)\n",
      "0 itemset(s) from tree conditioned on items (chewing gum, soda)\n",
      "0 itemset(s) from tree conditioned on items (Instant food products)\n",
      "1 itemset(s) from tree conditioned on items (pasta)\n",
      "0 itemset(s) from tree conditioned on items (prosecco)\n",
      "0 itemset(s) from tree conditioned on items (chocolate marshmallow)\n",
      "0 itemset(s) from tree conditioned on items (sweet spreads)\n",
      "0 itemset(s) from tree conditioned on items (condensed milk)\n",
      "0 itemset(s) from tree conditioned on items (house keeping products)\n",
      "0 itemset(s) from tree conditioned on items (dishes)\n",
      "0 itemset(s) from tree conditioned on items (popcorn)\n",
      "0 itemset(s) from tree conditioned on items (female sanitary products)\n",
      "0 itemset(s) from tree conditioned on items (dog food)\n",
      "0 itemset(s) from tree conditioned on items (meat spreads)\n",
      "0 itemset(s) from tree conditioned on items (spread cheese)\n",
      "0 itemset(s) from tree conditioned on items (sauces)\n",
      "0 itemset(s) from tree conditioned on items (rum)\n",
      "0 itemset(s) from tree conditioned on items (finished products)\n",
      "0 itemset(s) from tree conditioned on items (instant coffee)\n",
      "0 itemset(s) from tree conditioned on items (artif. sweetener)\n",
      "0 itemset(s) from tree conditioned on items (bathroom cleaner)\n",
      "0 itemset(s) from tree conditioned on items (jam)\n",
      "0 itemset(s) from tree conditioned on items (pudding powder)\n",
      "0 itemset(s) from tree conditioned on items (sparkling wine)\n",
      "0 itemset(s) from tree conditioned on items (tea)\n",
      "0 itemset(s) from tree conditioned on items (specialty fat)\n",
      "0 itemset(s) from tree conditioned on items (specialty cheese)\n",
      "0 itemset(s) from tree conditioned on items (frozen potato products)\n",
      "0 itemset(s) from tree conditioned on items (turkey)\n",
      "0 itemset(s) from tree conditioned on items (zwieback)\n",
      "0 itemset(s) from tree conditioned on items (canned vegetables)\n",
      "0 itemset(s) from tree conditioned on items (nut snack)\n",
      "0 itemset(s) from tree conditioned on items (soups)\n",
      "0 itemset(s) from tree conditioned on items (cereals)\n",
      "1 itemset(s) from tree conditioned on items (seasonal products)\n",
      "0 itemset(s) from tree conditioned on items (ready soups)\n",
      "0 itemset(s) from tree conditioned on items (brandy)\n",
      "0 itemset(s) from tree conditioned on items (light bulbs)\n",
      "0 itemset(s) from tree conditioned on items (cleaner)\n",
      "0 itemset(s) from tree conditioned on items (syrup)\n",
      "0 itemset(s) from tree conditioned on items (canned fruit)\n",
      "0 itemset(s) from tree conditioned on items (cooking chocolate)\n",
      "0 itemset(s) from tree conditioned on items (abrasive cleaner)\n",
      "0 itemset(s) from tree conditioned on items (frozen dessert)\n",
      "0 itemset(s) from tree conditioned on items (organic sausage)\n",
      "0 itemset(s) from tree conditioned on items (flower soil/fertilizer)\n",
      "0 itemset(s) from tree conditioned on items (tidbits)\n",
      "0 itemset(s) from tree conditioned on items (potato products)\n",
      "0 itemset(s) from tree conditioned on items (nuts/prunes)\n",
      "0 itemset(s) from tree conditioned on items (soap)\n"
     ]
    }
   ],
   "source": [
    "fpgrowth_items: pd.DataFrame = fpgrowth(basket_input, min_support=0.001, use_colnames=True, max_len=5, verbose=True)\n",
    "fpgrowth_items = fpgrowth_items[fpgrowth_items.itemsets.map(len) > 2]"
   ],
   "metadata": {
    "collapsed": false,
    "ExecuteTime": {
     "end_time": "2024-03-26T14:30:05.099580800Z",
     "start_time": "2024-03-26T14:30:04.840134500Z"
    }
   },
   "id": "3ce1b8508a202002"
  },
  {
   "cell_type": "code",
   "execution_count": 40,
   "outputs": [
    {
     "data": {
      "text/plain": "      support                                    itemsets\n163  0.001470               (sausage, yogurt, whole milk)\n154  0.001337            (yogurt, rolls/buns, whole milk)\n257  0.001203  (other vegetables, rolls/buns, whole milk)\n153  0.001136      (other vegetables, yogurt, whole milk)\n164  0.001136           (sausage, rolls/buns, whole milk)\n214  0.001136        (other vegetables, soda, whole milk)\n216  0.001136        (other vegetables, soda, rolls/buns)\n165  0.001069                 (sausage, soda, whole milk)",
      "text/html": "<div>\n<style scoped>\n    .dataframe tbody tr th:only-of-type {\n        vertical-align: middle;\n    }\n\n    .dataframe tbody tr th {\n        vertical-align: top;\n    }\n\n    .dataframe thead th {\n        text-align: right;\n    }\n</style>\n<table border=\"1\" class=\"dataframe\">\n  <thead>\n    <tr style=\"text-align: right;\">\n      <th></th>\n      <th>support</th>\n      <th>itemsets</th>\n    </tr>\n  </thead>\n  <tbody>\n    <tr>\n      <th>163</th>\n      <td>0.001470</td>\n      <td>(sausage, yogurt, whole milk)</td>\n    </tr>\n    <tr>\n      <th>154</th>\n      <td>0.001337</td>\n      <td>(yogurt, rolls/buns, whole milk)</td>\n    </tr>\n    <tr>\n      <th>257</th>\n      <td>0.001203</td>\n      <td>(other vegetables, rolls/buns, whole milk)</td>\n    </tr>\n    <tr>\n      <th>153</th>\n      <td>0.001136</td>\n      <td>(other vegetables, yogurt, whole milk)</td>\n    </tr>\n    <tr>\n      <th>164</th>\n      <td>0.001136</td>\n      <td>(sausage, rolls/buns, whole milk)</td>\n    </tr>\n    <tr>\n      <th>214</th>\n      <td>0.001136</td>\n      <td>(other vegetables, soda, whole milk)</td>\n    </tr>\n    <tr>\n      <th>216</th>\n      <td>0.001136</td>\n      <td>(other vegetables, soda, rolls/buns)</td>\n    </tr>\n    <tr>\n      <th>165</th>\n      <td>0.001069</td>\n      <td>(sausage, soda, whole milk)</td>\n    </tr>\n  </tbody>\n</table>\n</div>"
     },
     "execution_count": 40,
     "metadata": {},
     "output_type": "execute_result"
    }
   ],
   "source": [
    "fpgrowth_items.sort_values(\"support\", ascending=False).head(8)"
   ],
   "metadata": {
    "collapsed": false,
    "ExecuteTime": {
     "end_time": "2024-03-26T14:30:09.672441800Z",
     "start_time": "2024-03-26T14:30:09.660778400Z"
    }
   },
   "id": "74a05beeed3fabef"
  }
 ],
 "metadata": {
  "kernelspec": {
   "display_name": "Python 3",
   "language": "python",
   "name": "python3"
  },
  "language_info": {
   "codemirror_mode": {
    "name": "ipython",
    "version": 2
   },
   "file_extension": ".py",
   "mimetype": "text/x-python",
   "name": "python",
   "nbconvert_exporter": "python",
   "pygments_lexer": "ipython2",
   "version": "2.7.6"
  }
 },
 "nbformat": 4,
 "nbformat_minor": 5
}
