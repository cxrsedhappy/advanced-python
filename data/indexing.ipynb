{
 "cells": [
  {
   "cell_type": "code",
   "execution_count": 29,
   "id": "initial_id",
   "metadata": {
    "collapsed": true,
    "ExecuteTime": {
     "end_time": "2024-02-21T16:09:47.132517900Z",
     "start_time": "2024-02-21T16:09:47.110970800Z"
    }
   },
   "outputs": [],
   "source": [
    "import pandas as pd\n",
    "import numpy as np"
   ]
  },
  {
   "cell_type": "code",
   "execution_count": 30,
   "outputs": [
    {
     "data": {
      "text/plain": "                          ID                      Name  Popularity  \\\n0     0VjIjW4GlUZAMYd2vXMi3b           Blinding Lights          93   \n1     7qiZfU4dY1lWllzX7mPBI3              Shape of You          89   \n2     7qEHsqek33rTcFNT9PFqLf         Someone You Loved          92   \n3     1rTQOSIX6hcx3ioGrFzyAb       Love Pechida Lagela          12   \n4     6M7l3GsIXgkon7zNpg6rAF                    Kampen           3   \n...                      ...                       ...         ...   \n8236  1Yu4wHT3jf3FGlAaYqYlVD  Master Your Fears - Edit           1   \n8237  1YDb4e4sEu8qN8gM6W7U2b           Acid Surf Dream           1   \n8238  0Kjf6g9mIaGg7hexRFaEbH              Tam Tam Club           8   \n8239  0k1ErMZEEHBogaZjkZXNON        Waters of Nazareth           4   \n8240  21koF4lgFMw9GY7XvxM0zV                   Over Me           9   \n\n                       Artists  \n0                   The Weeknd  \n1                   Ed Sheeran  \n2                Lewis Capaldi  \n3                 Kumar Pritam  \n4        Strindberg som tortyr  \n...                        ...  \n8236  Colin Barratt, Phil York  \n8237         Ceephax Acid Crew  \n8238             Birdy Nam Nam  \n8239                   Justice  \n8240         The Shapeshifters  \n\n[8241 rows x 4 columns]",
      "text/html": "<div>\n<style scoped>\n    .dataframe tbody tr th:only-of-type {\n        vertical-align: middle;\n    }\n\n    .dataframe tbody tr th {\n        vertical-align: top;\n    }\n\n    .dataframe thead th {\n        text-align: right;\n    }\n</style>\n<table border=\"1\" class=\"dataframe\">\n  <thead>\n    <tr style=\"text-align: right;\">\n      <th></th>\n      <th>ID</th>\n      <th>Name</th>\n      <th>Popularity</th>\n      <th>Artists</th>\n    </tr>\n  </thead>\n  <tbody>\n    <tr>\n      <th>0</th>\n      <td>0VjIjW4GlUZAMYd2vXMi3b</td>\n      <td>Blinding Lights</td>\n      <td>93</td>\n      <td>The Weeknd</td>\n    </tr>\n    <tr>\n      <th>1</th>\n      <td>7qiZfU4dY1lWllzX7mPBI3</td>\n      <td>Shape of You</td>\n      <td>89</td>\n      <td>Ed Sheeran</td>\n    </tr>\n    <tr>\n      <th>2</th>\n      <td>7qEHsqek33rTcFNT9PFqLf</td>\n      <td>Someone You Loved</td>\n      <td>92</td>\n      <td>Lewis Capaldi</td>\n    </tr>\n    <tr>\n      <th>3</th>\n      <td>1rTQOSIX6hcx3ioGrFzyAb</td>\n      <td>Love Pechida Lagela</td>\n      <td>12</td>\n      <td>Kumar Pritam</td>\n    </tr>\n    <tr>\n      <th>4</th>\n      <td>6M7l3GsIXgkon7zNpg6rAF</td>\n      <td>Kampen</td>\n      <td>3</td>\n      <td>Strindberg som tortyr</td>\n    </tr>\n    <tr>\n      <th>...</th>\n      <td>...</td>\n      <td>...</td>\n      <td>...</td>\n      <td>...</td>\n    </tr>\n    <tr>\n      <th>8236</th>\n      <td>1Yu4wHT3jf3FGlAaYqYlVD</td>\n      <td>Master Your Fears - Edit</td>\n      <td>1</td>\n      <td>Colin Barratt, Phil York</td>\n    </tr>\n    <tr>\n      <th>8237</th>\n      <td>1YDb4e4sEu8qN8gM6W7U2b</td>\n      <td>Acid Surf Dream</td>\n      <td>1</td>\n      <td>Ceephax Acid Crew</td>\n    </tr>\n    <tr>\n      <th>8238</th>\n      <td>0Kjf6g9mIaGg7hexRFaEbH</td>\n      <td>Tam Tam Club</td>\n      <td>8</td>\n      <td>Birdy Nam Nam</td>\n    </tr>\n    <tr>\n      <th>8239</th>\n      <td>0k1ErMZEEHBogaZjkZXNON</td>\n      <td>Waters of Nazareth</td>\n      <td>4</td>\n      <td>Justice</td>\n    </tr>\n    <tr>\n      <th>8240</th>\n      <td>21koF4lgFMw9GY7XvxM0zV</td>\n      <td>Over Me</td>\n      <td>9</td>\n      <td>The Shapeshifters</td>\n    </tr>\n  </tbody>\n</table>\n<p>8241 rows × 4 columns</p>\n</div>"
     },
     "execution_count": 30,
     "metadata": {},
     "output_type": "execute_result"
    }
   ],
   "source": [
    "df = pd.read_csv('csv/8000_popular_tracks.csv')\n",
    "df"
   ],
   "metadata": {
    "collapsed": false,
    "ExecuteTime": {
     "end_time": "2024-02-21T16:09:48.408214300Z",
     "start_time": "2024-02-21T16:09:48.356167100Z"
    }
   },
   "id": "c35d48f07686025a"
  }
 ],
 "metadata": {
  "kernelspec": {
   "display_name": "Python 3",
   "language": "python",
   "name": "python3"
  },
  "language_info": {
   "codemirror_mode": {
    "name": "ipython",
    "version": 2
   },
   "file_extension": ".py",
   "mimetype": "text/x-python",
   "name": "python",
   "nbconvert_exporter": "python",
   "pygments_lexer": "ipython2",
   "version": "2.7.6"
  }
 },
 "nbformat": 4,
 "nbformat_minor": 5
}
