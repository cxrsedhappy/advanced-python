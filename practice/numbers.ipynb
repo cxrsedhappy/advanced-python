{
 "cells": [
  {
   "cell_type": "markdown",
   "metadata": {},
   "source": [
    "Numpy basics"
   ]
  },
  {
   "cell_type": "code",
   "execution_count": 1,
   "metadata": {
    "ExecuteTime": {
     "start_time": "2024-03-07T16:46:26.561373Z",
     "end_time": "2024-03-07T16:46:26.566364Z"
    }
   },
   "outputs": [],
   "source": [
    "import numpy as np"
   ]
  },
  {
   "cell_type": "markdown",
   "metadata": {},
   "source": [
    "Using numpy"
   ]
  },
  {
   "cell_type": "code",
   "execution_count": 47,
   "metadata": {
    "ExecuteTime": {
     "start_time": "2024-03-07T18:01:47.264681Z",
     "end_time": "2024-03-07T18:01:47.275650Z"
    }
   },
   "outputs": [
    {
     "name": "stdout",
     "output_type": "stream",
     "text": [
      "[1.  2.  3.5 1.3] - (4,)\n",
      "[[ 0.2 -1.4  3.4]\n",
      " [ 0.8  3.   1.6]\n",
      " [-1.2  1.5 -2. ]\n",
      " [ 4.2  0.6 -2.3]] - (4, 3)\n",
      "Output: [ 5.06 12.03 -4.39]\n"
     ]
    }
   ],
   "source": [
    "inputs = np.array(\n",
    "    [1, 2, 3.5, 1.3]\n",
    ")\n",
    "weights = np.array([\n",
    "    [0.2, 0.8, -1.2, 4.2],\n",
    "    [-1.4, 3, 1.5, 0.6],\n",
    "    [3.4, 1.6, -2, -2.3]\n",
    "])\n",
    "biases = np.array([2, 1.4, -1])\n",
    "\n",
    "print(f'{inputs} - {inputs.shape}\\n{weights.T} - {weights.T.shape}')\n",
    "output: np.ndarray = np.dot(inputs, weights.T) + biases\n",
    "print(f'Output: {output}')\n"
   ]
  },
  {
   "cell_type": "code",
   "execution_count": 52,
   "outputs": [
    {
     "name": "stdout",
     "output_type": "stream",
     "text": [
      "[[0.52007233 0.15997478 0.         0.         0.        ]]\n",
      "[[0.20473926 0.18441026 0.21379763 0.19218482 0.20486803]] 1.0\n"
     ]
    }
   ],
   "source": [
    "def ReLU(x):\n",
    "    return np.maximum(x, 0)\n",
    "\n",
    "def softmax(x):\n",
    "    return np.exp(x) / np.sum(np.exp(x))\n",
    "\n",
    "\n",
    "class Layer:\n",
    "    def __init__(self, n_inputs, n_neurons):\n",
    "        self.weights = 0.10 * np.random.randn(n_inputs, n_neurons)\n",
    "        self.biases = np.zeros((1, n_neurons))\n",
    "\n",
    "    def forward(self, x):\n",
    "        return np.dot(x, self.weights) + self.biases\n",
    "\n",
    "layer1 = Layer(4, 5)\n",
    "layer2 = Layer(5, 5)\n",
    "\n",
    "output1 = layer1.forward(inputs)\n",
    "output1 = ReLU(output1)\n",
    "print(output1)\n",
    "output2 = layer2.forward(output1)\n",
    "output2 = softmax(output2)\n",
    "print(output2, np.sum(output2))\n",
    "\n",
    "\n"
   ],
   "metadata": {
    "collapsed": false,
    "ExecuteTime": {
     "start_time": "2024-03-07T18:02:38.983694Z",
     "end_time": "2024-03-07T18:02:38.988686Z"
    }
   }
  },
  {
   "cell_type": "markdown",
   "source": [
    "# Calculating Loss with Categorical Cross-Entropy"
   ],
   "metadata": {
    "collapsed": false
   }
  },
  {
   "cell_type": "code",
   "execution_count": 61,
   "outputs": [
    {
     "name": "stdout",
     "output_type": "stream",
     "text": [
      "0.35667494393873245\n",
      "0.35667494393873245\n"
     ]
    }
   ],
   "source": [
    "classes = 5\n",
    "label = 2\n",
    "target = [1, 0, 0, 0, 0]\n",
    "output2 = np.array([0.7, 0.1, 0.1, 0.05, 0.05])\n",
    "\n",
    "def loss(x):\n",
    "    return -np.sum(np.array([np.log(x[i]) * target[i] for i in range(len(x))]))\n",
    "\n",
    "print(loss(output2))"
   ],
   "metadata": {
    "collapsed": false,
    "ExecuteTime": {
     "start_time": "2024-03-07T19:33:49.539121Z",
     "end_time": "2024-03-07T19:33:49.544820Z"
    }
   }
  },
  {
   "cell_type": "code",
   "execution_count": null,
   "outputs": [],
   "source": [],
   "metadata": {
    "collapsed": false
   }
  }
 ],
 "metadata": {
  "kernelspec": {
   "display_name": "Python 3 (ipykernel)",
   "language": "python",
   "name": "python3"
  },
  "language_info": {
   "codemirror_mode": {
    "name": "ipython",
    "version": 3
   },
   "file_extension": ".py",
   "mimetype": "text/x-python",
   "name": "python",
   "nbconvert_exporter": "python",
   "pygments_lexer": "ipython3",
   "version": "3.11.3"
  }
 },
 "nbformat": 4,
 "nbformat_minor": 4
}
