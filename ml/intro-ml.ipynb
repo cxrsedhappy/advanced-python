{
 "cells": [
  {
   "cell_type": "markdown",
   "metadata": {
    "id": "ad3nBqBSGH6j"
   },
   "source": [
    "Загрузка самых базовых библиотек:"
   ]
  },
  {
   "cell_type": "code",
   "execution_count": 2,
   "metadata": {
    "id": "Z8Iht5qhGH6l",
    "ExecuteTime": {
     "start_time": "2024-05-21T01:11:38.042732Z",
     "end_time": "2024-05-21T01:11:43.505366Z"
    }
   },
   "outputs": [],
   "source": [
    "import numpy as np\n",
    "import pandas as pd\n",
    "import matplotlib.pyplot as plt\n",
    "\n",
    "from sklearn.model_selection import train_test_split"
   ]
  },
  {
   "cell_type": "markdown",
   "metadata": {
    "id": "eZpuxPhJGH6v"
   },
   "source": [
    "**1.** Реализуйте функцию, принимающую на вход два одномерных массива `first_array` и `second_array` и возвращающую матрицу, в которой первый массив соответствует первому столбцу матрицы, второй — второму."
   ]
  },
  {
   "cell_type": "code",
   "execution_count": 6,
   "metadata": {
    "id": "hmQk1N6rGH6w",
    "ExecuteTime": {
     "start_time": "2024-05-19T15:12:21.444840Z",
     "end_time": "2024-05-19T15:12:21.455367Z"
    }
   },
   "outputs": [],
   "source": [
    "def construct_matrix(first_array, second_array):\n",
    "    \"\"\"\n",
    "    Construct matrix from a pair of arrays\n",
    "    :param first_array: first array\n",
    "    :param second_array: second array\n",
    "    :return: constructed matrix\n",
    "    \"\"\"\n",
    "    return np.vstack([first_array, second_array]).T # <- your first right code here"
   ]
  },
  {
   "cell_type": "code",
   "execution_count": 7,
   "metadata": {
    "scrolled": true,
    "id": "TeFqyCz4GH6x",
    "outputId": "ecd0b7d3-7acf-40f2-878e-057d17136e8c",
    "ExecuteTime": {
     "start_time": "2024-05-19T15:12:21.872779Z",
     "end_time": "2024-05-19T15:12:21.907267Z"
    }
   },
   "outputs": [
    {
     "data": {
      "text/plain": "array([[1, 3],\n       [2, 4],\n       [3, 5],\n       [4, 6]])"
     },
     "execution_count": 7,
     "metadata": {},
     "output_type": "execute_result"
    }
   ],
   "source": [
    "construct_matrix(np.array([1, 2, 3, 4]), np.array([3, 4, 5, 6]))"
   ]
  },
  {
   "cell_type": "markdown",
   "metadata": {
    "id": "lP-lmcA2GH6y"
   },
   "source": [
    "Другие методы"
   ]
  },
  {
   "cell_type": "code",
   "execution_count": 8,
   "metadata": {
    "id": "xguxLJ0VGH6y",
    "outputId": "2f32df14-6f5d-4800-96b5-bb8fba9c9ec0",
    "ExecuteTime": {
     "start_time": "2024-05-19T15:12:40.814417Z",
     "end_time": "2024-05-19T15:12:40.841734Z"
    }
   },
   "outputs": [],
   "source": [
    "a = np.array([1, 2, 3, 4])\n",
    "b = np.array([5, 6, 7, 8])"
   ]
  },
  {
   "cell_type": "code",
   "execution_count": 9,
   "metadata": {
    "id": "z1JFw75eGH6y",
    "outputId": "16e3c894-2e0e-4a5a-edd4-7a974cfa43e4",
    "ExecuteTime": {
     "start_time": "2024-05-19T15:12:41.268851Z",
     "end_time": "2024-05-19T15:12:41.297885Z"
    }
   },
   "outputs": [
    {
     "name": "stdout",
     "output_type": "stream",
     "text": [
      "vstack: \n",
      " [[1 2 3 4]\n",
      " [5 6 7 8]] (2, 4)\n",
      "hstack: \n",
      " [1 2 3 4 5 6 7 8] (8,)\n",
      "dstack: \n",
      " [[[1 5]\n",
      "  [2 6]\n",
      "  [3 7]\n",
      "  [4 8]]] (1, 4, 2)\n"
     ]
    }
   ],
   "source": [
    "print(\"vstack: \\n\", np.vstack((a, b)), np.vstack((a, b)).shape)\n",
    "print(\"hstack: \\n\", np.hstack((a, b)), np.hstack((a, b)).shape)\n",
    "print(\"dstack: \\n\", np.dstack((a, b)), np.dstack((a, b)).shape)"
   ]
  },
  {
   "cell_type": "code",
   "execution_count": 10,
   "metadata": {
    "id": "cvbthbDDGH6z",
    "outputId": "d89430e5-8c64-4b5f-f2b3-4343f4c659ed",
    "ExecuteTime": {
     "start_time": "2024-05-19T15:12:50.493658Z",
     "end_time": "2024-05-19T15:12:50.537777Z"
    }
   },
   "outputs": [
    {
     "data": {
      "text/plain": "array([[1, 2],\n       [3, 4],\n       [5, 6],\n       [7, 8]])"
     },
     "execution_count": 10,
     "metadata": {},
     "output_type": "execute_result"
    }
   ],
   "source": [
    "np.concatenate((a, b)).reshape(4, 2)"
   ]
  },
  {
   "cell_type": "code",
   "execution_count": 38,
   "metadata": {
    "id": "XZysMovaGH61",
    "ExecuteTime": {
     "start_time": "2024-05-19T15:51:34.540404Z",
     "end_time": "2024-05-19T15:51:34.553740Z"
    }
   },
   "outputs": [],
   "source": [
    "def most_frequent(nums: np.array):\n",
    "    \"\"\"\n",
    "    Find the most frequent value in an array\n",
    "    :param nums:  of ints\n",
    "    :return: the most frequent value\n",
    "    \"\"\"\n",
    "\n",
    "    unique = set(nums)\n",
    "    pair_tuple = {n: list(nums).count(n) for n in unique}\n",
    "    return max(pair_tuple.items(), key=lambda x: x[1])[0]"
   ]
  },
  {
   "cell_type": "code",
   "execution_count": 39,
   "outputs": [
    {
     "data": {
      "text/plain": "3"
     },
     "execution_count": 39,
     "metadata": {},
     "output_type": "execute_result"
    }
   ],
   "source": [
    "most_frequent(np.array([1, 2, 3, 3, 3, 3, 3, 4, 4, 5, 4, 4]))"
   ],
   "metadata": {
    "collapsed": false,
    "ExecuteTime": {
     "start_time": "2024-05-19T15:51:35.605410Z",
     "end_time": "2024-05-19T15:51:35.625465Z"
    }
   }
  },
  {
   "cell_type": "markdown",
   "metadata": {
    "id": "e6kjITZMGH62"
   },
   "source": [
    "### Переходим к работе с данными\n",
    "\n",
    "Задачей будет **предсказание среднего чека** (average_bill) по некоторым другим свойствам заведения."
   ]
  },
  {
   "cell_type": "code",
   "execution_count": 3,
   "metadata": {
    "id": "uzDIu6uXGH62",
    "ExecuteTime": {
     "start_time": "2024-05-21T01:11:52.858636Z",
     "end_time": "2024-05-21T01:11:53.275764Z"
    }
   },
   "outputs": [],
   "source": [
    "data = pd.read_csv('organisations.csv')\n",
    "features = pd.read_csv('features.csv')\n",
    "rubrics = pd.read_csv('rubrics.csv')"
   ]
  },
  {
   "cell_type": "markdown",
   "metadata": {
    "id": "4hrvEN_3GH63"
   },
   "source": [
    "## Изучение данных"
   ]
  },
  {
   "cell_type": "code",
   "execution_count": 175,
   "metadata": {
    "id": "VA_0DG29GH64",
    "ExecuteTime": {
     "start_time": "2024-05-19T16:50:26.869421Z",
     "end_time": "2024-05-19T16:50:26.879926Z"
    }
   },
   "outputs": [
    {
     "data": {
      "text/plain": "Empty DataFrame\nColumns: [org_id, city, average_bill, rating, rubrics_id, features_id]\nIndex: []",
      "text/html": "<div>\n<style scoped>\n    .dataframe tbody tr th:only-of-type {\n        vertical-align: middle;\n    }\n\n    .dataframe tbody tr th {\n        vertical-align: top;\n    }\n\n    .dataframe thead th {\n        text-align: right;\n    }\n</style>\n<table border=\"1\" class=\"dataframe\">\n  <thead>\n    <tr style=\"text-align: right;\">\n      <th></th>\n      <th>org_id</th>\n      <th>city</th>\n      <th>average_bill</th>\n      <th>rating</th>\n      <th>rubrics_id</th>\n      <th>features_id</th>\n    </tr>\n  </thead>\n  <tbody>\n  </tbody>\n</table>\n</div>"
     },
     "execution_count": 175,
     "metadata": {},
     "output_type": "execute_result"
    }
   ],
   "source": [
    "data[data['rubrics_id'].isnull()]"
   ]
  },
  {
   "cell_type": "markdown",
   "metadata": {
    "id": "GN9kZbURGH64"
   },
   "source": [
    "* **org_id** вам не понадобится;\n",
    "* **city** - город, в котором находится заведение (``msk`` или ``spb``);\n",
    "* **average_bill** - средний чек в заведении - он будет нашим таргетом;\n",
    "* **rating** - рейтинг заведения;\n",
    "* **rubrics_id** - тип заведения (или несколько типов). Соответствие кодов каким-то человекочитаемым типам живёт в табличке ``rubrics``\n",
    "* **features_id** - набор неких фичей заведения. Соответствие кодов каким-то человекочитаемым типам живёт в табличке ``features``\n",
    "\n",
    "Обратим внимание, что **rubrics_id** и **features_id** - это не списки, а разделённые пробелами строки."
   ]
  },
  {
   "cell_type": "markdown",
   "metadata": {
    "id": "J0IJIWz3GH64"
   },
   "source": [
    "Чтобы быстро восстанавливать по рубрикам и фичам их нормальные названия, сделайте словари вида ``код_фичи:название_фичи``"
   ]
  },
  {
   "cell_type": "code",
   "execution_count": 4,
   "metadata": {
    "id": "8KwKEKr7GH65",
    "ExecuteTime": {
     "start_time": "2024-05-21T01:11:57.218819Z",
     "end_time": "2024-05-21T01:11:57.225819Z"
    }
   },
   "outputs": [],
   "source": [
    "rubric_dict = {}\n",
    "for k, v in zip(rubrics.rubric_id, rubrics.rubric_name):\n",
    "    rubric_dict[k] = v"
   ]
  },
  {
   "cell_type": "code",
   "execution_count": 5,
   "metadata": {
    "scrolled": false,
    "id": "8WhaPPEeGH65",
    "outputId": "aaf9cc8c-64ae-4bac-d8f8-6dd4d03033d8",
    "ExecuteTime": {
     "start_time": "2024-05-21T01:11:58.452376Z",
     "end_time": "2024-05-21T01:11:58.496177Z"
    }
   },
   "outputs": [
    {
     "data": {
      "text/plain": "{30519: 'Булочная, пекарня',\n 30770: 'Бар, паб',\n 30771: 'Быстрое питание',\n 30774: 'Кафе',\n 30775: 'Пиццерия',\n 30776: 'Ресторан',\n 30777: 'Столовая',\n 31286: 'Спортбар',\n 31350: 'Кондитерская',\n 31375: 'Суши-бар',\n 31401: 'Кальян-бар',\n 31495: 'Кофейня',\n 3108292683: 'Бар безалкогольных напитков',\n 3501514558: 'Фудкорт',\n 3501750896: 'Кофе с собой'}"
     },
     "execution_count": 5,
     "metadata": {},
     "output_type": "execute_result"
    }
   ],
   "source": [
    "rubric_dict"
   ]
  },
  {
   "cell_type": "markdown",
   "metadata": {
    "id": "qA6Bm_8EGH66"
   },
   "source": [
    "Мы что-то поняли про признаки, которыми нам предстоит пользоваться. Теперь время посмотреть на таргет. Вооружившись функциями ``hist`` и ``scatter`` из библиотеки ``matplotlib``, а также методом ``isna`` для pandas-таблиц разберитесь, какие значения принимают таргеты, есть ли там там выбросы, пропуски или ещё какие-то проблемы.\n",
    "\n",
    "&nbsp;\n",
    "\n",
    "<details>\n",
    "  <summary>Когда будете готовы, кликните сюда, чтобы посмотреть ответ</summary>\n",
    "    <ol>\n",
    "      <li>Среди таргетов довольно много пропусков;</li>\n",
    "      <li>Все таргеты - это числа, кратные 500;</li>\n",
    "      <li>Есть какие-то адские значения, превышающие 100 000 (видимо, выбросы);</li>\n",
    "      <li>В целом, число ресторанов с данным средним чеком быстро падает с ростом среднего чека. Для средних чеков, больших 2500, заведений уже совсем мало. Примерно у 2/3 заведений средний чек 500.</li>\n",
    "    </ol>\n",
    "</details>"
   ]
  },
  {
   "cell_type": "code",
   "execution_count": null,
   "metadata": {
    "scrolled": true,
    "id": "f6bg-kmIGH66",
    "outputId": "69beeb66-b7aa-4905-bc73-59a6ab27edf3"
   },
   "outputs": [
    {
     "data": {
      "image/png": "[encoded data removed]",
      "text/plain": [
       "<Figure size 640x480 with 1 Axes>"
      ]
     },
     "metadata": {},
     "output_type": "display_data"
    }
   ],
   "source": []
  },
  {
   "cell_type": "markdown",
   "metadata": {
    "id": "trfl5F_4GH66"
   },
   "source": [
    "**Базовая очистка данных**\n",
    "\n",
    "Раз есть треш, давайте чистить данные.\n",
    "\n",
    "С пропусками можно бороться по-разному (даже и с пропусками в таргете), но пока мы сделаем самую простую вещь: дропнем все заведения, для которых мы не знаем средний чек.\n",
    "\n",
    "Уберите из них все заведения, у которых средний чек неизвестен или превышает 2500. Пока есть опасение, что их слишком мало, чтобы мы смогли обучить на них что-нибудь.\n",
    "\n",
    "**3. Введите в Контест количество заведений, которое у вас получилось после очистки**.\n",
    "\n",
    "Дальше мы будем работать с очищенными данными."
   ]
  },
  {
   "cell_type": "code",
   "execution_count": 6,
   "metadata": {
    "id": "OxIkRsA1GH67",
    "ExecuteTime": {
     "start_time": "2024-05-21T01:12:30.957338Z",
     "end_time": "2024-05-21T01:12:31.020922Z"
    }
   },
   "outputs": [
    {
     "data": {
      "text/plain": "                     org_id city  average_bill    rating         rubrics_id  \\\n0      15903868628669802651  msk        1500.0  4.270968        30776 30774   \n1      16076540698036998306  msk         500.0  4.375000              30771   \n2       8129364761615040323  msk         500.0  4.000000              31495   \n3      15262729117594253452  msk         500.0  4.538813        30776 30770   \n4      13418544315327784420  msk         500.0  4.409091              31495   \n...                     ...  ...           ...       ...                ...   \n68328  17662684569129497551  spb        1000.0  4.561707              30776   \n68329   5700899951016592061  msk        1500.0  4.377129              31401   \n68330   4686040819909966338  msk        1500.0  3.666667              30776   \n68331  12499715465202129892  msk        1500.0  4.554577  30770 30776 30774   \n68332    971801737399231340  msk        2500.0  4.659884              30776   \n\n                                             features_id  \n0      3501685156 3501779478 20422 3502045016 3502045...  \n1      1509 1082283206 273469383 10462 11617 35017794...  \n2      10462 11177 11617 11629 1416 1018 11704 11867 ...  \n3      3501618484 2020795524 11629 11617 1018 11704 2...  \n4      11617 10462 11177 1416 11867 3501744275 20282 ...  \n...                                                  ...  \n68328  246 3501779478 1018 3501618484 3501481353 3501...  \n68329  3501773763 10462 1018 246 3501779478 350175479...  \n68330  10462 1189498238 11629 1416 1415 11741 3501481...  \n68331  273469383 10462 21247 1509 1416 3501618484 350...  \n68332  11629 10462 21247 20424 3501513153 273469383 3...  \n\n[32136 rows x 6 columns]",
      "text/html": "<div>\n<style scoped>\n    .dataframe tbody tr th:only-of-type {\n        vertical-align: middle;\n    }\n\n    .dataframe tbody tr th {\n        vertical-align: top;\n    }\n\n    .dataframe thead th {\n        text-align: right;\n    }\n</style>\n<table border=\"1\" class=\"dataframe\">\n  <thead>\n    <tr style=\"text-align: right;\">\n      <th></th>\n      <th>org_id</th>\n      <th>city</th>\n      <th>average_bill</th>\n      <th>rating</th>\n      <th>rubrics_id</th>\n      <th>features_id</th>\n    </tr>\n  </thead>\n  <tbody>\n    <tr>\n      <th>0</th>\n      <td>15903868628669802651</td>\n      <td>msk</td>\n      <td>1500.0</td>\n      <td>4.270968</td>\n      <td>30776 30774</td>\n      <td>3501685156 3501779478 20422 3502045016 3502045...</td>\n    </tr>\n    <tr>\n      <th>1</th>\n      <td>16076540698036998306</td>\n      <td>msk</td>\n      <td>500.0</td>\n      <td>4.375000</td>\n      <td>30771</td>\n      <td>1509 1082283206 273469383 10462 11617 35017794...</td>\n    </tr>\n    <tr>\n      <th>2</th>\n      <td>8129364761615040323</td>\n      <td>msk</td>\n      <td>500.0</td>\n      <td>4.000000</td>\n      <td>31495</td>\n      <td>10462 11177 11617 11629 1416 1018 11704 11867 ...</td>\n    </tr>\n    <tr>\n      <th>3</th>\n      <td>15262729117594253452</td>\n      <td>msk</td>\n      <td>500.0</td>\n      <td>4.538813</td>\n      <td>30776 30770</td>\n      <td>3501618484 2020795524 11629 11617 1018 11704 2...</td>\n    </tr>\n    <tr>\n      <th>4</th>\n      <td>13418544315327784420</td>\n      <td>msk</td>\n      <td>500.0</td>\n      <td>4.409091</td>\n      <td>31495</td>\n      <td>11617 10462 11177 1416 11867 3501744275 20282 ...</td>\n    </tr>\n    <tr>\n      <th>...</th>\n      <td>...</td>\n      <td>...</td>\n      <td>...</td>\n      <td>...</td>\n      <td>...</td>\n      <td>...</td>\n    </tr>\n    <tr>\n      <th>68328</th>\n      <td>17662684569129497551</td>\n      <td>spb</td>\n      <td>1000.0</td>\n      <td>4.561707</td>\n      <td>30776</td>\n      <td>246 3501779478 1018 3501618484 3501481353 3501...</td>\n    </tr>\n    <tr>\n      <th>68329</th>\n      <td>5700899951016592061</td>\n      <td>msk</td>\n      <td>1500.0</td>\n      <td>4.377129</td>\n      <td>31401</td>\n      <td>3501773763 10462 1018 246 3501779478 350175479...</td>\n    </tr>\n    <tr>\n      <th>68330</th>\n      <td>4686040819909966338</td>\n      <td>msk</td>\n      <td>1500.0</td>\n      <td>3.666667</td>\n      <td>30776</td>\n      <td>10462 1189498238 11629 1416 1415 11741 3501481...</td>\n    </tr>\n    <tr>\n      <th>68331</th>\n      <td>12499715465202129892</td>\n      <td>msk</td>\n      <td>1500.0</td>\n      <td>4.554577</td>\n      <td>30770 30776 30774</td>\n      <td>273469383 10462 21247 1509 1416 3501618484 350...</td>\n    </tr>\n    <tr>\n      <th>68332</th>\n      <td>971801737399231340</td>\n      <td>msk</td>\n      <td>2500.0</td>\n      <td>4.659884</td>\n      <td>30776</td>\n      <td>11629 10462 21247 20424 3501513153 273469383 3...</td>\n    </tr>\n  </tbody>\n</table>\n<p>32136 rows × 6 columns</p>\n</div>"
     },
     "execution_count": 6,
     "metadata": {},
     "output_type": "execute_result"
    }
   ],
   "source": [
    "data = data.drop(data[(data.average_bill > 2500) | (data.average_bill.isnull())].index)\n",
    "data"
   ]
  },
  {
   "cell_type": "markdown",
   "metadata": {
    "id": "GsNzGAp1GH67"
   },
   "source": [
    "**4. Посчитайте и введите в Контест разность между средними арифметическими average_bill в кафе Москвы и Санкт-Петербурга. Округлите ответ до целого.**\n",
    "\n",
    "&nbsp;\n",
    "\n",
    "<details>\n",
    "  <summary>Небольшая подсказка</summary>\n",
    "  Примените часто используемый метод groupby.\n",
    "</details>"
   ]
  },
  {
   "cell_type": "code",
   "execution_count": 7,
   "metadata": {
    "id": "gLdl3zVCGH67",
    "ExecuteTime": {
     "start_time": "2024-05-21T01:12:35.037101Z",
     "end_time": "2024-05-21T01:12:35.122499Z"
    }
   },
   "outputs": [
    {
     "name": "stdout",
     "output_type": "stream",
     "text": [
      "             org_id  average_bill        rating\n",
      "count  1.427200e+04  14272.000000  12162.000000\n",
      "mean   9.139303e+18    732.658352      4.124155\n",
      "std    5.383747e+18    413.340697      0.557348\n",
      "min    5.786926e+13    500.000000      0.666667\n",
      "25%    4.472155e+18    500.000000      3.881018\n",
      "50%    9.065056e+18    500.000000      4.222222\n",
      "75%    1.382073e+19   1000.000000      4.480029\n",
      "max    1.844412e+19   2500.000000      5.000000\n",
      "MSK Average: 781.0807941395052\n",
      "Rating: 4.126712319628362\n",
      "SPB Average: 638.6771069441583\n",
      "Rating: 4.1193089723375165\n",
      "Difference:  142.40368719534695\n"
     ]
    }
   ],
   "source": [
    "cafes = data[data.rubrics_id.str.contains('30774')]\n",
    "print(cafes.describe())\n",
    "msk_cafes = cafes[cafes.city == 'msk']\n",
    "print(f'MSK Average: {msk_cafes.average_bill.mean()}\\nRating: {msk_cafes.rating.mean()}')\n",
    "spb_cafes = cafes[cafes.city == 'spb']\n",
    "print(f'SPB Average: {spb_cafes.average_bill.mean()}\\nRating: {spb_cafes.rating.mean()}')\n",
    "print(f'Difference:  {msk_cafes.average_bill.mean() - spb_cafes.average_bill.mean()}')"
   ]
  },
  {
   "cell_type": "code",
   "execution_count": 53,
   "outputs": [
    {
     "name": "stderr",
     "output_type": "stream",
     "text": [
      "C:\\Users\\Stas\\AppData\\Local\\Temp\\ipykernel_15620\\2468908060.py:13: UserWarning: set_ticklabels() should only be used with a fixed number of ticks, i.e. after set_ticks() or using a FixedLocator.\n",
      "  ax.set_xticklabels(ax.get_xticklabels(), rotation=45, ha='right')\n"
     ]
    },
    {
     "data": {
      "text/plain": "[Text(0, 0, 'Булочная, пекарня'),\n Text(1, 0, 'Бар, паб'),\n Text(2, 0, 'Быстрое питание'),\n Text(3, 0, 'Кафе'),\n Text(4, 0, 'Пиццерия'),\n Text(5, 0, 'Ресторан'),\n Text(6, 0, 'Столовая'),\n Text(7, 0, 'Спортбар'),\n Text(8, 0, 'Кондитерская'),\n Text(9, 0, 'Суши-бар'),\n Text(10, 0, 'Кальян-бар'),\n Text(11, 0, 'Кофейня'),\n Text(12, 0, 'Бар безалкогольных напитков'),\n Text(13, 0, 'Кофе с собой')]"
     },
     "execution_count": 53,
     "metadata": {},
     "output_type": "execute_result"
    },
    {
     "data": {
      "text/plain": "<Figure size 1200x500 with 1 Axes>",
      "image/png": "[encoded data removed]"
     },
     "metadata": {},
     "output_type": "display_data"
    }
   ],
   "source": [
    "figure, ax = plt.subplots()\n",
    "figure.set_figheight(5)\n",
    "figure.set_figwidth(12)\n",
    "\n",
    "ax.grid()\n",
    "\n",
    "for rubric in rubric_dict.items():\n",
    "    _id, name = rubric[0], rubric[1]\n",
    "    average_bill = data[data.rubrics_id.str.contains(f'{_id}')].average_bill.mean()\n",
    "    if average_bill >= 0:\n",
    "        ax.bar(name, average_bill, width=0.6, label=f'{name}')\n",
    "\n",
    "ax.set_xticklabels(ax.get_xticklabels(), rotation=45, ha='right')"
   ],
   "metadata": {
    "collapsed": false,
    "ExecuteTime": {
     "start_time": "2024-05-21T01:54:31.900242Z",
     "end_time": "2024-05-21T01:54:32.312381Z"
    }
   }
  },
  {
   "cell_type": "markdown",
   "metadata": {
    "id": "Qncnmi8bGH7F"
   },
   "source": [
    "Давайте ещё немного поизучаем данные. Ответьте на вопросы:\n",
    "\n",
    "1. Есть ли разница между средними чеками в Москве и Санкт-Петербурге?\n",
    "2. Коррелирует ли средний чек с рейтингом?\n",
    "3. Есть ли разница в среднем чеке между ресторанами и пабами (см. соответствующие типы из ``rubrics``)?\n",
    "\n",
    "&nbsp;\n",
    "\n",
    "<details>\n",
    "  <summary>Когда будете готовы, кликните сюда, чтобы посмотреть ответ</summary>\n",
    "    <ol>\n",
    "      <li>В целом, да. Вы могли бы сравнить средние (в Москве больше) или медианы (они равны, потому что уж больно много где средний чек 500). Этого, конечно, мало для того, чтобы сделать вывод. Нужно проверять какие-то статические критерии, которые изучаются в курсе по статистике. Не будем останавливаться на этом подробно. Поскольку данные совсем не нормальные, никакой t-тест не сработает; мы бы предложили использовать критерий Манна-Уитни (см. википедию и функцию mannwhitneyu из библиотеки scipy.stats).</li>\n",
    "      <li>Какая-то корреляция между ними есть но уж больно неубедительная (рекомендуем построим на одном графике boxplot рейтинга по каждому значению среднего чека для визуализации). Конечно, дна становится меньше с ростом среднего чека, но, видимо, в предсказании это особо не используешь;</li>\n",
    "      <li>Несомненно, в ресторанах средний чек выше. Это и невооружённым глазом видно, и с помощью критерия Манна-Уитни можно проверить.</li>\n",
    "    </ol>\n",
    "</details>"
   ]
  },
  {
   "cell_type": "code",
   "execution_count": null,
   "outputs": [],
   "source": [],
   "metadata": {
    "collapsed": false
   }
  },
  {
   "cell_type": "markdown",
   "metadata": {
    "id": "ATY5075lGH7F"
   },
   "source": [
    "## Формулируем задачу"
   ]
  },
  {
   "cell_type": "markdown",
   "metadata": {
    "id": "znpEgJGIGH7F"
   },
   "source": [
    "Прежде, чем решать задачу, её надо сформулировать.\n",
    "\n",
    "**Вопрос первый**: это классификация или регрессия? Подумайте над этим.\n",
    "\n",
    "&nbsp;\n",
    "\n",
    "<details>\n",
    "  <summary>Когда будете готовы, кликните сюда, чтобы посмотреть ответ</summary>\n",
    "    Ответ не столь однозначен, как хотелось бы. С одной стороны, таргет принимает всего четыре значения, и потому это может быть классификацией с 4 классами. С другой стороны, таргеты - это не абстрактные \"треугольник\", \"круг\", \"квадрат\", а вещественные числа, и когда мы вместо 500 предсказываем 2500, это явно хуже, чем вместо 1500 предсказать 2000. В целом, задачу можно решать и так, и так; мы будем смотреть на метрики обеих задач.\n",
    "</details>"
   ]
  },
  {
   "cell_type": "markdown",
   "metadata": {
    "id": "aaVuazxsGH7G"
   },
   "source": [
    "**Вопрос второй**: какие метрики мы будем использовать для оценки качества решения? Какие метрики вы предложили бы для этой задачи как для задачи классификации? А для этой задачи, как для задачи регрессии?\n",
    "\n",
    "&nbsp;\n",
    "\n",
    "<details>\n",
    "  <summary>Когда будете готовы, кликните сюда, чтобы посмотреть ответ</summary>\n",
    "    \n",
    "    Начнём с классификации. Метрика accuracy не очень хороша из-за несбалансированности классов. Действительно, классификатор, который всегда говорит 500, будет иметь accuracy примерно 0.66, хотя это никак не отражает практическую ценность модели. Как мы увидим, самая большая проблема будет заключаться в том, чтобы научиться выделять заведения с большими чеками, а их меньше всего и в accuracy они вносят самый маленький вклад. Есть разные способы с этим бороться, один -- использовать sklearn.metrics.balanced_accuracy_score. Его идея, грубо говоря, в том, чтобы по каждому классу найти, какая доля объектов этого класса правильно классифицирована, а потом эти доли усреднить. Тогда у бессмысленного классификатора, который всем ставит 500, будет скор 1/5 (ведь классов 5), а чтобы получить прежние 2/3, нужно будет научиться в каждом классе правильно ставить хотя бы 2/3 меток.    \n",
    "    \n",
    "    Теперь что касается регрессии. Основых метрики две - MSE и MAE. Из первой стоит извлекать корень, чтобы получать интерпретируемые человеком значения, а вторая менее агрессивна к выбросам (впрочем, выбросов тут уже нет, мы их все выкинули). Без дополнительной информации не очень понятно, какую выбирать, можно брать любую. А выбирать надо: ведь даже банальные модели \"предсказывай всегда среднее\" и \"предсказывай всегда медиану\" будут по-разному ранжироваться этими метриками.\n",
    "    \n",
    "</details>"
   ]
  },
  {
   "cell_type": "markdown",
   "metadata": {
    "id": "vs-jkCj-GH7G"
   },
   "source": [
    "**Вопрос третий**: а не взять ли нам какую-нибудь более экзотическую метрику? Например, MAPE (определение в учебнике в главе про оценку качества моделей). А как вам такое соображение: допустим, заказчик говорит, что пользователи будут расстраиваться, только если мы завысили средний чек - так давайте поправим MSE или MAE, обнуляя те слагаемые, для которых предсказанный таргет меньше истинного. Вот это хорошая метрика или нет?\n",
    "\n",
    "&nbsp;\n",
    "\n",
    "<details>\n",
    "  <summary>Когда будете готовы, кликните сюда, чтобы посмотреть ответ</summary>\n",
    "    \n",
    "    Что касается MAPE, у нас нет тех проблем, с которой она борется. Вот если бы у нас были средние чеки от 500 до миллиона, мы бы столкнулись с ситуацией, что большие ошибки для больших чеков доминировали бы в сумме для MSE и MAE (500 вместо 1000 меркнет по сравнению с 500к вместо миллиона). Говоря поэтически, мы бы оптимизировали модель для миллионеров, забыв про простых трудяг. И было бы логично перейти от парадигмы \"ошибаемся на 500 рублей\" к парадигме \"ошибаемся на 50%\". Но у нас все таргеты примерно одного порядка, MAPE нам особо ни к чему.\n",
    "    \n",
    "    Вторая метрика коварна тем, что её можно \"накрутить\" безо всякой пользы для дела. А именно, модель, которая всегда предсказывает средний чек в миллион, была бы идеальна. Но все бы расстраивались и не ходили есть. Другое дело, что можно ввести разные веса для ошибок в большую и в меньшую сторону, но опять же - пока нет показаний к тому, что это нужно.\n",
    "    \n",
    "</details>"
   ]
  },
  {
   "cell_type": "markdown",
   "metadata": {
    "id": "VCjV_SoAGH7G"
   },
   "source": [
    "## Применяем ML"
   ]
  },
  {
   "cell_type": "markdown",
   "metadata": {
    "id": "lqkvcLSPGH7G"
   },
   "source": [
    "Теперь время разбить данные на обучающую и тестовую выборку. Делается это с помощью функции ``train_test_split`` из пакета ``sklearn``. При этом очень важно сделать две вещи:\n",
    "\n",
    "* Зафиксировать ``random_state=42`` (да, именно этот, а то ваши модели могут не зайти в Контест), чтобы всё, что мы делаем, было воспроизводимо (иначе от перезапуска к перезапуску числа могут меняться, и мы не будем понимать, из-за чего это происходит).\n",
    "* Сделать стратификацию по таргету. В противном случае у нас в трейне и тесте могут оказаться разные пропорции классов (обычно особенно страдают мало представленные классы), что неутешительно скажется на результате.\n",
    "\n",
    "**Обратите внимание**, что если вы побьёте выборку на train и test по-другому, ваши результаты могут не зайти в контест."
   ]
  },
  {
   "cell_type": "code",
   "execution_count": 211,
   "metadata": {
    "id": "AF2IVpOjGH7H",
    "ExecuteTime": {
     "start_time": "2024-05-19T18:11:58.193052Z",
     "end_time": "2024-05-19T18:11:58.246835Z"
    }
   },
   "outputs": [
    {
     "data": {
      "text/plain": "(                     org_id city  average_bill    rating         rubrics_id  \\\n 65841  14385912302763770021  spb        1000.0  4.748444  30776 30770 31401   \n 48882  16695436192794975203  msk         500.0  3.793758              30771   \n 33711  11841431940065207518  msk         500.0  3.606557        30771 30777   \n 33544  16028521499441205186  msk        2000.0  4.683841              30776   \n 35293  12477116204055673498  spb         500.0  4.165394  30776 31401 30770   \n ...                     ...  ...           ...       ...                ...   \n 55337   9041226080397910513  msk        2500.0  4.408108              30776   \n 64048  14998683880343589209  msk        1000.0  3.555556              30776   \n 22010   1621254442333414922  msk        2000.0  4.402516              30776   \n 40089   5620614742257813954  msk         500.0       NaN              30771   \n 32180  11624301828012509826  spb         500.0  4.250000              30774   \n \n                                              features_id  \n 65841  11177 3501618484 10462 3501481355 1509 1416 20...  \n 48882  3501744275 273469383 3501513153 11617 10462 11...  \n 33711  3501773763 3501744275 3501773764 3501618484 15...  \n 33544  3501618484 20422 1082283206 11704 11629 21247 ...  \n 35293  1524 246 11704 1018 3501618484 2020795524 2124...  \n ...                                                  ...  \n 55337  11629 11704 10462 11617 3501744275 20424 35017...  \n 64048  273469383 20424 20422 246 1416 11867 11629 104...  \n 22010  273469383 21247 11867 1082283206 20422 246 101...  \n 40089                   11704 1018 273469383 10462 20422  \n 32180  246 11867 1018 1415 1416 1524 10462 1509 11617...  \n \n [10605 rows x 6 columns],\n                      org_id city  average_bill    rating         rubrics_id  \\\n 65841  14385912302763770021  spb        1000.0  4.748444  30776 30770 31401   \n 48882  16695436192794975203  msk         500.0  3.793758              30771   \n 33711  11841431940065207518  msk         500.0  3.606557        30771 30777   \n 33544  16028521499441205186  msk        2000.0  4.683841              30776   \n 35293  12477116204055673498  spb         500.0  4.165394  30776 31401 30770   \n ...                     ...  ...           ...       ...                ...   \n 55337   9041226080397910513  msk        2500.0  4.408108              30776   \n 64048  14998683880343589209  msk        1000.0  3.555556              30776   \n 22010   1621254442333414922  msk        2000.0  4.402516              30776   \n 40089   5620614742257813954  msk         500.0       NaN              30771   \n 32180  11624301828012509826  spb         500.0  4.250000              30774   \n \n                                              features_id  \n 65841  11177 3501618484 10462 3501481355 1509 1416 20...  \n 48882  3501744275 273469383 3501513153 11617 10462 11...  \n 33711  3501773763 3501744275 3501773764 3501618484 15...  \n 33544  3501618484 20422 1082283206 11704 11629 21247 ...  \n 35293  1524 246 11704 1018 3501618484 2020795524 2124...  \n ...                                                  ...  \n 55337  11629 11704 10462 11617 3501744275 20424 35017...  \n 64048  273469383 20424 20422 246 1416 11867 11629 104...  \n 22010  273469383 21247 11867 1082283206 20422 246 101...  \n 40089                   11704 1018 273469383 10462 20422  \n 32180  246 11867 1018 1415 1416 1524 10462 1509 11617...  \n \n [10605 rows x 6 columns])"
     },
     "execution_count": 211,
     "metadata": {},
     "output_type": "execute_result"
    }
   ],
   "source": [
    "clean_data_train, clean_data_test = train_test_split(\n",
    "    data, stratify=data['average_bill'], test_size=0.33, random_state=42)\n",
    "clean_data_test, clean_data_test"
   ]
  },
  {
   "cell_type": "markdown",
   "metadata": {
    "id": "S161veFJGH7H"
   },
   "source": [
    "Теперь нам нужен **бейзлайн** - очень простая модель, с которой мы в дальнейшем будем сравниваться.\n",
    "\n",
    "Поскольку мы ещё не знаем никаких умных классов моделей, все модели мы будем писать руками. А именно, мы напишем две простых модели на основе ``sklearn.baseRegressorMixin`` и ``sklearn.base.ClassifierMixin`` (посмотрите примеры в документации sklearn и сделайте так же):\n",
    "\n",
    "* Модель для задачи регрессии, которая для всех заведений предсказывает одно число — среднее значение среднего чека;\n",
    "* Модель для задачи классификации, которая для всех заведений предсказывает один класс — самый частый класс (ироничным образом он в данном случае совпадает с медианой).\n",
    "\n",
    "**Важно!** Мы будем много раз повторять вам мантру о том, что **информация из тестовой выборки не должна протекать в процесс обучения**. Так вот, и среднее, и самый частый класс вы должны считать именно на обучающей выборке!\n",
    "\n",
    "**5 и 6. Напишите эти две модели и сдайте в Контест**. В процессе проверки модели будут и обучаться, и предсказывать.\n",
    "\n",
    "Заметим, что для этих моделей нам вообще не нужны какие-то \"фичи\"; мы работаем только с таргетом.\n",
    "\n",
    "У каждой модели есть (как минимум) два метода: `fit` (обучает модель по фичам `X` и таргету `y`) `predict` (предсказывает по фичам `X`)"
   ]
  },
  {
   "cell_type": "code",
   "execution_count": null,
   "metadata": {
    "id": "lLz_sxtUGH7H"
   },
   "outputs": [],
   "source": [
    "from scipy.stats import mode\n",
    "\n",
    "from sklearn.base import RegressorMixin\n",
    "\n",
    "class MeanRegressor(RegressorMixin):\n",
    "    # Predicts the mean of y_train\n",
    "    def fit(self, X=None, y=None):\n",
    "        \"\"\"\n",
    "        Parameters\n",
    "        ----------\n",
    "        X : array like, shape = (n_samples, n_features)\n",
    "        Training data features\n",
    "        y : array like, shape = (_samples,)\n",
    "        Training data targets\n",
    "        \"\"\"\n",
    "        self.model = \n",
    "        pass # YOUR CODE HERE\n",
    "\n",
    "    def predict(self, X=None):\n",
    "        \"\"\"\n",
    "        Parameters\n",
    "        ----------\n",
    "        X : array like, shape = (n_samples, n_features)\n",
    "        Data to predict\n",
    "        \"\"\"\n",
    "        pass # YOUR CODE HERE\n",
    "\n",
    "from sklearn.base import ClassifierMixin\n",
    "\n",
    "class MostFrequentClassifier(ClassifierMixin):\n",
    "    # Predicts the rounded (just in case) median of y_train\n",
    "    def fit(self, X=None, y=None):\n",
    "        \"\"\"\n",
    "        Parameters\n",
    "        ----------\n",
    "        X : array like, shape = (n_samples, n_features)\n",
    "        Training data features\n",
    "        y : array like, shape = (_samples,)\n",
    "        Training data targets\n",
    "        \"\"\"\n",
    "        pass # YOUR CODE HERE\n",
    "\n",
    "    def predict(self, X=None):\n",
    "        \"\"\"\n",
    "        Parameters\n",
    "        ----------\n",
    "        X : array like, shape = (n_samples, n_features)\n",
    "        Data to predict\n",
    "        \"\"\"\n",
    "        pass # YOUR CODE HERE"
   ]
  },
  {
   "cell_type": "markdown",
   "metadata": {
    "id": "lo2pNhVoGH7I"
   },
   "source": [
    "Обучим наши модели"
   ]
  },
  {
   "cell_type": "code",
   "execution_count": null,
   "metadata": {
    "id": "arXlaGnTGH7I"
   },
   "outputs": [],
   "source": [
    "reg = MeanRegressor()\n",
    "reg.fit(y=clean_data_train['average_bill'])\n",
    "\n",
    "clf = MostFrequentClassifier()\n",
    "clf.fit(y=clean_data_train['average_bill'])"
   ]
  },
  {
   "cell_type": "markdown",
   "metadata": {
    "id": "jJG8x0tmGH7I"
   },
   "source": [
    "Обучите модели и оцените их качество на тестовой выборке. В качестве метрик возьмём RMSE (``np.sqrt`` от ``sklearn.metrics.mean_squared_error``) и ``sklearn.metrics.balanced_accuracy_score``.\n",
    "\n",
    "Для регрессионной модели имеет смысл считать только RMSE (значения будут не кратны 500, точно мы угадывать не будем никогда), а вот для классификационной можно найти обе метрики. Сделайте это. Какая модель оказалась лучше по RMSE?"
   ]
  },
  {
   "cell_type": "markdown",
   "metadata": {
    "id": "kvZwp54sGH7J"
   },
   "source": [
    "<details>\n",
    "  <summary>Когда будете готовы, кликните сюда</summary>\n",
    "    \n",
    "  Казалось бы, регрессор никогда не угадывает, но он в каком-то смысле лучше классификатора - справедливо ли это? Возможно. Несуществующий пользователь модели вряд ли будет задавать вопросы \"почему средний чек не кратен 500?\" Ну, выдали около 800 - ок, понятно.\n",
    "    \n",
    "</details>"
   ]
  },
  {
   "cell_type": "markdown",
   "metadata": {
    "id": "V-1-O9GyGH7J"
   },
   "source": [
    "## Усложнение модели"
   ]
  },
  {
   "cell_type": "markdown",
   "metadata": {
    "id": "dGWgxl0VGH7J"
   },
   "source": [
    "Бейзлайны будут нашей отправной точкой. Строя дальнейшие модели, мы будем спрашивать себя: получилось ли лучше бейзлайна? Если нет или если не особо, то в чём смысл усложнения?"
   ]
  },
  {
   "cell_type": "markdown",
   "metadata": {
    "id": "9w3DkuuFGH7K"
   },
   "source": [
    "Начнём с использования фичи ``city``. Мы уже видели, что в разных городах и средние чеки разные. Легко проверить, что *медиана* средних чеков всё же одна и та же и в Москве, и в Санкт-Петербурге (ох уж этот вездесущий средний чек 500!), поэтому с классификатором мы ничего не сделаем. Но вот регрессор можно попробовать починить.\n",
    "\n",
    "**7. Напишите регрессор, для каждого заведения предсказывающий среднее значение в том же городе (на обучающей выборке, конечно) и сдайте его в Контест**. Вам может помочь то, что булевы `pandas` и `numpy` столбцы можно умножать на численные — в такой ситуации False работает, как ноль, а True как единица."
   ]
  },
  {
   "cell_type": "code",
   "execution_count": null,
   "metadata": {
    "id": "ZULQVPe2GH7K"
   },
   "outputs": [],
   "source": [
    "from sklearn.base import RegressorMixin\n",
    "\n",
    "class CityMeanRegressor(RegressorMixin):\n",
    "    def fit(self, X=None, y=None):\n",
    "        pass # YOUR CODE HERE\n",
    "\n",
    "    def predict(self, X=None):\n",
    "        pass # YOUR CODE HERE"
   ]
  },
  {
   "cell_type": "markdown",
   "metadata": {
    "id": "1EeFGk24GH7K"
   },
   "source": [
    "Обучите регрессор и сравните его по метрике RMSE с бейзлайнами. Получилось ли улучшить метрику?"
   ]
  },
  {
   "cell_type": "markdown",
   "metadata": {
    "id": "jROycei1GH7L"
   },
   "source": [
    "Лучше стало, но, правда, не очень сильно. В этот момент очень важно не просто радовать руководителя приростом в третьем знаке, но и думать о том, что происходит.\n",
    "\n",
    "Средний средний чек по Москве равен 793, в Санкт-Петербурге - 676, а в целом - 752 рубля. MSE, увы, не поможет вам ответить на вопрос, стало ли лучше пользователю, если вы ему вместо 752 рублей назвали 793. Здесь вскрывается весьма существенный порок MSE в этой задаче. Дело в том, что наш изначальный таргет делит заведения на некоторые \"ценовые категории\", и различие в средних чеках 500 и 1000 в самом деле существенно. Наверное, мы хотели бы как раз правильно предсказывать ценовые категории. Но MSE не очень помогает нам об этом судить. Дальше мы ещё подумаем, как это исправить.\n",
    "\n",
    "В любом случае, несмотря на улучшение метрики, мы пока не можем судить, стало ли по жизни лучше от усложнения модели."
   ]
  },
  {
   "cell_type": "markdown",
   "metadata": {
    "id": "wEQ9eOoWGH7L"
   },
   "source": [
    "Поручинившись немного, возьмём на вооружение другую идею. Давайте использовать типы заведений!\n",
    "\n",
    "Но с типами есть некоторая проблема: в столбце ``rubrics_id`` не всегда один идентификатор, часто их несколько, и всего комбинаций довольно много. Чтобы не возиться с малочисленными типами, давайте сольём их в один безликий ``other``.\n",
    "\n",
    "Итак, добавьте в обучающие и тестовые данные столбец ``modified_rubrics``, в котором будет то же, что и в ``rubrics_id``, если соответствующая комбинация рубрик содержит хотя бы 100 заведений из обучающей (!) выборки, и строка ``other`` в противном случае.\n",
    "\n",
    "Здесь вам поможет контейнер ``Counter`` из библиотеки ``collections``."
   ]
  },
  {
   "cell_type": "code",
   "execution_count": null,
   "metadata": {
    "id": "uTVW5KkwGH7L"
   },
   "outputs": [],
   "source": [
    "# your code"
   ]
  },
  {
   "cell_type": "markdown",
   "metadata": {
    "id": "nZXhpBjnGH7L"
   },
   "source": [
    "Теперь настало время написать могучий классификатор, который по заведению предсказывает медиану средних чеков среди тех в обучающей выборке, у которых с ним одинаковые `modified_rubrics` и город (вы спросите, почему медиану, а не самый частый -- спишем это на вдохновение; самый частый тоже можно брать - но медиана работает лучше).\n",
    "\n",
    "**8. Напишите классификатор и сдайте в Контест**."
   ]
  },
  {
   "cell_type": "code",
   "execution_count": null,
   "metadata": {
    "id": "eTfcwh5dGH7M"
   },
   "outputs": [],
   "source": [
    "# your code"
   ]
  },
  {
   "cell_type": "markdown",
   "metadata": {
    "id": "xbgjbwgkGH7M"
   },
   "source": [
    "Сравните обученный классификатор по метрикам RMSE и balanced_accuracy_score с нашими бейзлайнами. Получилось ли улучшить?"
   ]
  },
  {
   "cell_type": "markdown",
   "metadata": {
    "id": "UMjsnCnQGH7M"
   },
   "source": [
    "Обратите внимание что рост accuracy по сравнению с бейзлайном при этом на порядок меньше:"
   ]
  },
  {
   "cell_type": "markdown",
   "metadata": {
    "id": "K2cF0I-CGH7M"
   },
   "source": [
    "accuracy_score\n",
    "\n",
    "Predict most frequent:  0.6947666195190948\n",
    "\n",
    "Predict by rubric and city:  0.7095709570957096"
   ]
  },
  {
   "cell_type": "markdown",
   "metadata": {
    "id": "ylrAIjCcGH7N"
   },
   "source": [
    "Для диагностики напечатайте для каждого класса тестовой выборки, сколько в нём объектов и скольким из них наш классификатор приписал правильный класс. Что вы видите?\n",
    "\n",
    "&nbsp;\n",
    "\n",
    "<details>\n",
    "  <summary>Когда будете готовы, кликните сюда, чтобы посмотреть ответ</summary>\n",
    "    \n",
    "  Вы, вероятно, видите то, что мы стали однозначно лучше по сравнению с бейзлайном детектировать средний чек 1000 и 1500 (хотя всё равно не очень хорошо + ценой ухудшения качества на среднем чеке 500), а вот чеки 2000 и 2500 нам ну никак не даются.\n",
    "    \n",
    "</details>"
   ]
  },
  {
   "cell_type": "markdown",
   "metadata": {
    "id": "9ScOy7ZvGH7N"
   },
   "source": [
    "**Кстати**. А вы понимаете, почему приведённый выше пайплайн классификации был не очень удачным с точки зрения архитектуры? Почему его было бы правильнее воплотить по-другому?\n",
    "\n",
    "&nbsp;\n",
    "\n",
    "<details>\n",
    "  <summary>Когда будете готовы, кликните сюда, чтобы посмотреть ответ</summary>\n",
    "Собственно говоря, и не было никакого пайплайна. К счастью, у нас была одна обучающая выборка, мы на ней посчитали список рубрик для modified_rubrics и радовались жизни. Но если бы нам надо было переобучать всё на новых данных, пришлось бы помнить, что их надо везде пересчитать (ведь у нас могли появиться новые рубрики с хотя бы 100 представителями). А уж никакую кросс-валидацию (кто знает - тот поймёт) с нашим подходом к делу и вовсе бы не получилось сделать без боли.\n",
    "    \n",
    "Поэтому в следующей лабораторной вы научитесь делать честные пайплайны, в которых преобразование данных, генерация фичей и обучение классификатора будут объединены в один понятный процесс, происходящий на этапе fit.\n",
    "</details>"
   ]
  },
  {
   "cell_type": "markdown",
   "metadata": {
    "id": "4ujl3tbbGH7N"
   },
   "source": [
    "## Слишком простые и слишком сложные модели"
   ]
  },
  {
   "cell_type": "markdown",
   "metadata": {
    "id": "QF7McCHsGH7N"
   },
   "source": [
    "Бейзлайны у нас слишком просты и потому не очень полезны в жизни. Но если сложность модели растёт бесконтрольно, то тоже получается плохо.\n",
    "\n",
    "Давайте рассмотрим конкретный пример. Создадим классификатор, использующий одновременно `rubrics_id` и `features_id`.\n",
    "\n",
    "Сделайте следующее:\n",
    "\n",
    "- для каждого объекта обучающей выборки сконкатенируйте строку `rubrics_id` с разделителем (например, буквой 'q') и содержимым `features_id`. Полученный столбец озаглавьте `modified_features`. Это не самый клёвый способ заиспользовать все фичи, но сейчас пока сойдёт. Причём на сей раз не будем выкидывать мало представленные значения (вся информация важна, не так ли?).\n",
    "- при этом для тестовой выборке заменяйте на строку `other` все конкатенации, которые не встретились в обучающей выборке.\n",
    "\n",
    "То есть элементы в этом столбце будут иметь вид `other` или `30776 30774 q 3502045032 11741 3502045016 1046...`."
   ]
  },
  {
   "cell_type": "markdown",
   "metadata": {
    "id": "e8tNBPzVGH7O"
   },
   "source": [
    "Теперь обучите классификатор, который для заведения предсказывает медиану среднего чека по всем объектам тестовой выборки с таким же, как у него, значением `modified_features`, а если такого в обучающей выборке нет, то глобальную медиану среднего чека по всей обучающей выборке.\n",
    "\n",
    "**9. Загрузите в Контест предсказания этого классификатора на тестовой выборке**\n",
    "\n",
    "Мы ждём файла **.csv**, у которого в каждой строке будет только одно число - предсказание классификатора.\n",
    "\n",
    "Возможно, вам будет полезна библиотека ``tqdm``, позволяющая отслеживать в реальном времени, сколько времени уже крутится цикл и сколько итераций ещё осталось. Впрочем, если вы всё написали нормально, то должно работать не очень долго."
   ]
  },
  {
   "cell_type": "markdown",
   "metadata": {
    "id": "_XrswPW4GH7O"
   },
   "source": [
    "Модель, очевидно, очень сложная. Число параметров (различных категорий) в ней сопоставимо с числом объектов в обучающей выборке. А получилось ли хорошо?\n",
    "\n",
    "Давайте посчитаем RMSE и balanced_accuracy_score на обучающей и на тестовой выборках.\n",
    "\n",
    "**10. Введите их в Контест**"
   ]
  },
  {
   "cell_type": "markdown",
   "metadata": {
    "id": "fGDTpxFgGH7O"
   },
   "source": [
    "Налицо переобучение: на трейне метрики отличные, на тесте - вообще никакие\n",
    "\n",
    "В общем, не гонитесь за чрезмерной сложностью модели.."
   ]
  },
  {
   "cell_type": "markdown",
   "metadata": {
    "id": "YTU2yubYGH7O"
   },
   "source": [
    "## ML без данных что компутер без электричества"
   ]
  },
  {
   "cell_type": "markdown",
   "metadata": {
    "id": "DBVOCVf2GH7P"
   },
   "source": [
    "Возможно, вы смотрите на полученные выше результаты и думаете: вот если бы мы не какие-то убогие медианы предсказывали, а гоняли бы нейросети, то тут-то бы всё и получилось!\n",
    "\n",
    "Но, увы, совсем даже не всегда от счастья нас отделяет выбор хорошей модели (и стратегии обучения). Если данные не очень, то даже самая крутая модель не сработает. В этой ситуации нужно либо добывать новые фичи каким-то образом, либо собирать новые данные (увеличивать датасет), либо просто бросать задачу.\n",
    "\n",
    "Давайте посмотрим, что выжмет из наших данных одна из самых мощных моделей для табличных данных - градиентный бустинг на решающих деревьях в исполнении [CatBoost](https://catboost.ai/)."
   ]
  },
  {
   "cell_type": "markdown",
   "metadata": {
    "id": "a0L4UmzSGH7P"
   },
   "source": [
    "Но прежде, чем сделать fit, нам надо облагородить данные. Несмотря на то, что CatBoost отлично работает с категориальными фичами, мешок признаков из `rubrics_id` или `features_id` может ему оказаться не по зубам. Поэтому мы соберём датасет в пристойную матрицу, создав для каждого типа рубрик и фичей отдельный столбец и записав там единицы для тех объектов, у которых эта рубрика или фича имеет место.\n",
    "\n",
    "В матрице почти все элементы будут нулями. Такие матрицы считаются **разреженными** и их можно хранить гораздо эффективней, чем просто таблицей. Этим и займёмся)"
   ]
  },
  {
   "cell_type": "markdown",
   "metadata": {
    "id": "IJKuMtNbGH7P"
   },
   "source": [
    "Есть несколько форматов хранения разреженных матриц (многие из них реализованы в [пакете sparse библиотеки scipy](https://docs.scipy.org/doc/scipy/reference/sparse.html)), и каждый пригоден для чего-то своего.\n",
    "\n",
    "Создавать разреженную матрицу лучше в [формате COO](https://docs.scipy.org/doc/scipy/reference/generated/scipy.sparse.coo_array.html#scipy.sparse.coo_array). Он предполагает, что разреженная матрица задаётся в виде трёх списков: `row`, `col`, `data`, причём каждая тройка `(row[i], col[i], data[i])` кодирует элемент со значением `data[i]`, стоящий на позиции `(row[i], col[i])`. Считается, что на позициях `(row, col)`, которые ни разу не встретились, стоят нули.\n",
    "\n",
    "Нетрудно видеть, что заполнять такую матрицу - одно удовольствие, и особенно этому помогает тот факт, что **пара `(row, col)` может встретиться несколько раз** (тогда в итоговой матрице на соответствующей позиции стоит сумма соответствующих `data[i]`). Но, с другой стороны, почти ничего другого с такой матрицей не сделаешь: произвольного доступа к элементам она не предоставляет, умножить её тоже особо ничего не умножишь. Поэтому для дальнейшего использования созданную таким образом матрицу преобразуют в один из более удобных форматов, например, [CSR (compressed sparse row)](https://scipy-lectures.org/advanced/scipy_sparse/csr_matrix.html). Он, к примеру, хорошо подходит для умножения на вектор (потому что матрица хранится по строкам). Не будем разбирать его подробно, но можете почитать по ссылке, если интересно."
   ]
  },
  {
   "cell_type": "markdown",
   "metadata": {
    "id": "2hd_Sob3GH7P"
   },
   "source": [
    "Вам нужно будет превратить обучающие и тестовые данные в разреженные матрицы `sparse_data_train` и `sparse_data_test` соответственно, таким образом, что:\n",
    "\n",
    "- столбец `city` превратится в столбец из единиц и нулей (например, 1 - Москва, 0 - Питер);\n",
    "- столбец `rating` перекочует в разреженные матрицы без изменений;\n",
    "- каждый типы рубрик и каждая фича превратятся в отдельный 0-1-принак;\n",
    "\n",
    "В тестовой выборке будут фичи, которых в обучающей выборке не было. С ними можно по-разному работать, но давайте создадим дополнительную фантомную фичу `feature_other`, в которой будет то, сколько неизвестных по обучающей выборке фичей есть у данного объекта."
   ]
  },
  {
   "cell_type": "code",
   "execution_count": null,
   "metadata": {
    "id": "7-UAatGJGH7P"
   },
   "outputs": [],
   "source": [
    "# <Your code here>"
   ]
  },
  {
   "cell_type": "markdown",
   "metadata": {
    "id": "lFfj-1E4GH7Q"
   },
   "source": [
    "Данные готовы, и теперь можно запустить катбуст"
   ]
  },
  {
   "cell_type": "code",
   "execution_count": null,
   "metadata": {
    "id": "m2lP5NouGH7Q"
   },
   "outputs": [],
   "source": [
    "from catboost import CatBoostClassifier"
   ]
  },
  {
   "cell_type": "code",
   "execution_count": null,
   "metadata": {
    "id": "jpW6uR0oGH7Q"
   },
   "outputs": [],
   "source": [
    "# <USE IT!>\n",
    "clf = CatBoostClassifier()\n",
    "clf.fit(sparse_data_train, clean_data_train['average_bill'])"
   ]
  },
  {
   "cell_type": "markdown",
   "metadata": {
    "id": "SBOpZY9BGH7Q"
   },
   "source": [
    "**11. Пришлите в Контест balanced_accuracy_score на тестовой выборке, округлённый до двух знаков после запятой**. Стало ли сильно лучше от того, что мы воспользовались таким крутым классификатором?"
   ]
  }
 ],
 "metadata": {
  "kernelspec": {
   "display_name": "Python 3 (ipykernel)",
   "language": "python",
   "name": "python3"
  },
  "language_info": {
   "codemirror_mode": {
    "name": "ipython",
    "version": 3
   },
   "file_extension": ".py",
   "mimetype": "text/x-python",
   "name": "python",
   "nbconvert_exporter": "python",
   "pygments_lexer": "ipython3",
   "version": "3.8.10"
  },
  "colab": {
   "provenance": []
  }
 },
 "nbformat": 4,
 "nbformat_minor": 0
}
